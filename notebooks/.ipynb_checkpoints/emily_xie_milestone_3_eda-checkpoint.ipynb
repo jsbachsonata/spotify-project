{
 "cells": [
  {
   "cell_type": "markdown",
   "metadata": {},
   "source": [
    "# Spotify Final Project - Emily Xie EDA\n",
    "### Milestone 3: EDA and Baseline Model\n",
    "### Austin Rochon, Emily Xie, and Mark Lock"
   ]
  },
  {
   "cell_type": "code",
   "execution_count": 48,
   "metadata": {},
   "outputs": [],
   "source": [
    "import glob\n",
    "import pandas as pd\n",
    "import numpy as np\n",
    "import matplotlib.pyplot as plt\n",
    "import seaborn as sns\n",
    "\n",
    "\n"
   ]
  },
  {
   "cell_type": "markdown",
   "metadata": {},
   "source": [
    "## Setting up to query Google BigQuery"
   ]
  },
  {
   "cell_type": "markdown",
   "metadata": {},
   "source": [
    "Since the data set is 70 million rows, and cannot all be easily managed on our local machines, we've decided to use GCP (Google Cloud Developer) platform to help us manage our data. First, we uploaded the CSVs into a private GCP  storage bucket, and from there sent the data to BigQuery, GCP's distributed database, which will allow us to query the data however we like.\n",
    "\n",
    "Here's the interface (you need access): https://console.cloud.google.com/bigquery?folder=&organizationId=&project=spotted-d&p=spotted-d&d=playlist_songs&t=playlist_songs&page=table\n",
    "\n",
    "From here, we can retrieve, query, join, and manipulate the entirety of the dataset however we like. Please follow the instructions below in this notebook to set up your Jupyter so that it can query directly from GCP. "
   ]
  },
  {
   "cell_type": "markdown",
   "metadata": {},
   "source": [
    "### Setup Instructions"
   ]
  },
  {
   "cell_type": "markdown",
   "metadata": {},
   "source": [
    "The following setup should take just a few minutes.\n",
    "\n",
    "#### 1. Create a service account. \n",
    "Go to https://console.cloud.google.com/iam-admin/serviceaccounts?project=spotted-d. Once you are on this page, go to the \"actions\" tab, where there will be a drop-down indicated by three dots on the right-most part of the corresponding account. Click \"Create Key\" which will download a key for you somewhere on your local machine. Save it somewhere safe. :-)  \n",
    "\n",
    "If you plan to store it on this git project, make sure to put in a folder that is git-ignored so that we don't push it up to Github. I actually created a .gitignore file on this branch. If you create a directory called \"config\" under the top-level directory of this repository and stick your service key in there, it should be automatically ignored. Ask me if you want any help.\n",
    "\n",
    "#### 2. Set up implicit authentication with gCloud\n",
    "If you are using Mac, just run this on your command line:\n",
    "\n",
    "`export GOOGLE_APPLICATION_CREDENTIALS=\"[PATH]\"`\n",
    "\n",
    "If you are using Windows:\n",
    "\n",
    "`$env:GOOGLE_APPLICATION_CREDENTIALS=\"[PATH]\"`\n",
    "\n",
    "For more info, see below:\n",
    "\n",
    "https://cloud.google.com/docs/authentication/getting-started#auth-cloud-implicit-python"
   ]
  },
  {
   "cell_type": "markdown",
   "metadata": {},
   "source": [
    "#### 3. Install Google Cloud Big Query Pandas python package."
   ]
  },
  {
   "cell_type": "markdown",
   "metadata": {},
   "source": [
    "Run this on your terminal:\n",
    "\n",
    "`pip install --upgrade google-cloud-bigquery[pandas]`\n",
    "\n",
    "For more on the above two steps, you can check out the GCP documentation: https://cloud.google.com/bigquery/docs/visualize-jupyter"
   ]
  },
  {
   "cell_type": "markdown",
   "metadata": {},
   "source": [
    "#### Run this cell to load google cloud bigquery:"
   ]
  },
  {
   "cell_type": "code",
   "execution_count": 1,
   "metadata": {},
   "outputs": [],
   "source": [
    "%load_ext google.cloud.bigquery"
   ]
  },
  {
   "cell_type": "markdown",
   "metadata": {},
   "source": [
    "#### Now, you can query your data. Next to \"bigquery\", write the name of the variable you'd like to save your query results into."
   ]
  },
  {
   "cell_type": "code",
   "execution_count": 12,
   "metadata": {},
   "outputs": [],
   "source": [
    "%%bigquery playlist_data\n",
    "SELECT * FROM `spotted-d.playlist_songs.playlist_songs` LIMIT 70000"
   ]
  },
  {
   "cell_type": "markdown",
   "metadata": {},
   "source": [
    "#### You'll notice that it automatically saves to a Pandas dataframe for you"
   ]
  },
  {
   "cell_type": "code",
   "execution_count": 19,
   "metadata": {},
   "outputs": [
    {
     "data": {
      "text/plain": [
       "70000"
      ]
     },
     "execution_count": 19,
     "metadata": {},
     "output_type": "execute_result"
    }
   ],
   "source": [
    "len(playlist_data)"
   ]
  },
  {
   "cell_type": "markdown",
   "metadata": {},
   "source": [
    "## EDA"
   ]
  },
  {
   "cell_type": "code",
   "execution_count": 20,
   "metadata": {},
   "outputs": [
    {
     "data": {
      "text/html": [
       "<div>\n",
       "<style scoped>\n",
       "    .dataframe tbody tr th:only-of-type {\n",
       "        vertical-align: middle;\n",
       "    }\n",
       "\n",
       "    .dataframe tbody tr th {\n",
       "        vertical-align: top;\n",
       "    }\n",
       "\n",
       "    .dataframe thead th {\n",
       "        text-align: right;\n",
       "    }\n",
       "</style>\n",
       "<table border=\"1\" class=\"dataframe\">\n",
       "  <thead>\n",
       "    <tr style=\"text-align: right;\">\n",
       "      <th></th>\n",
       "      <th>pid</th>\n",
       "      <th>pos</th>\n",
       "      <th>artist_name</th>\n",
       "      <th>track_uri</th>\n",
       "      <th>artist_uri</th>\n",
       "      <th>track_name</th>\n",
       "      <th>album_uri</th>\n",
       "      <th>duration_ms</th>\n",
       "      <th>album_name</th>\n",
       "    </tr>\n",
       "  </thead>\n",
       "  <tbody>\n",
       "    <tr>\n",
       "      <th>0</th>\n",
       "      <td>0</td>\n",
       "      <td>0</td>\n",
       "      <td>Michael Bublé</td>\n",
       "      <td>spotify:track:5G3UfEFiR4MUqkC8ETbzeR</td>\n",
       "      <td>spotify:artist:1GxkXlMwML1oSg5eLPiAz3</td>\n",
       "      <td>Nobody But Me</td>\n",
       "      <td>spotify:album:2OXZJLXxM8jrY3gBoVNfmz</td>\n",
       "      <td>179640</td>\n",
       "      <td>Nobody But Me</td>\n",
       "    </tr>\n",
       "    <tr>\n",
       "      <th>1</th>\n",
       "      <td>0</td>\n",
       "      <td>1</td>\n",
       "      <td>JoJo</td>\n",
       "      <td>spotify:track:7bLBekAdZXj48UVI0QpJbO</td>\n",
       "      <td>spotify:artist:5xuNBZoM7z1Vv8IQ6uM0p6</td>\n",
       "      <td>Too Little, Too Late - Radio Version</td>\n",
       "      <td>spotify:album:3j4FqZqQ7wiSloLyQZqszi</td>\n",
       "      <td>221573</td>\n",
       "      <td>Too Little, Too Late</td>\n",
       "    </tr>\n",
       "    <tr>\n",
       "      <th>2</th>\n",
       "      <td>0</td>\n",
       "      <td>2</td>\n",
       "      <td>JoJo</td>\n",
       "      <td>spotify:track:7AVF7kutqdQyamkw6q4d7x</td>\n",
       "      <td>spotify:artist:5xuNBZoM7z1Vv8IQ6uM0p6</td>\n",
       "      <td>F*** Apologies. (feat. Wiz Khalifa)</td>\n",
       "      <td>spotify:album:03B7yRw8C4i7Vuxxjy8RJw</td>\n",
       "      <td>195413</td>\n",
       "      <td>Mad Love.</td>\n",
       "    </tr>\n",
       "    <tr>\n",
       "      <th>3</th>\n",
       "      <td>0</td>\n",
       "      <td>3</td>\n",
       "      <td>The Chainsmokers</td>\n",
       "      <td>spotify:track:7BKLCZ1jbUBVqRi2FVlTVw</td>\n",
       "      <td>spotify:artist:69GGBxA162lTqCwzJG5jLp</td>\n",
       "      <td>Closer</td>\n",
       "      <td>spotify:album:0rSLgV8p5FzfnqlEk4GzxE</td>\n",
       "      <td>244960</td>\n",
       "      <td>Closer</td>\n",
       "    </tr>\n",
       "    <tr>\n",
       "      <th>4</th>\n",
       "      <td>0</td>\n",
       "      <td>4</td>\n",
       "      <td>Marc E. Bassy</td>\n",
       "      <td>spotify:track:7yCqehT9dKACTFy7YugP0J</td>\n",
       "      <td>spotify:artist:3tQx1LPXbsYjE9VwN1Peaa</td>\n",
       "      <td>You &amp; Me</td>\n",
       "      <td>spotify:album:4OmqJXPhD5FOqwdg5tBsnu</td>\n",
       "      <td>218493</td>\n",
       "      <td>Gossip Columns</td>\n",
       "    </tr>\n",
       "  </tbody>\n",
       "</table>\n",
       "</div>"
      ],
      "text/plain": [
       "   pid  pos       artist_name                             track_uri  \\\n",
       "0    0    0     Michael Bublé  spotify:track:5G3UfEFiR4MUqkC8ETbzeR   \n",
       "1    0    1              JoJo  spotify:track:7bLBekAdZXj48UVI0QpJbO   \n",
       "2    0    2              JoJo  spotify:track:7AVF7kutqdQyamkw6q4d7x   \n",
       "3    0    3  The Chainsmokers  spotify:track:7BKLCZ1jbUBVqRi2FVlTVw   \n",
       "4    0    4     Marc E. Bassy  spotify:track:7yCqehT9dKACTFy7YugP0J   \n",
       "\n",
       "                              artist_uri  \\\n",
       "0  spotify:artist:1GxkXlMwML1oSg5eLPiAz3   \n",
       "1  spotify:artist:5xuNBZoM7z1Vv8IQ6uM0p6   \n",
       "2  spotify:artist:5xuNBZoM7z1Vv8IQ6uM0p6   \n",
       "3  spotify:artist:69GGBxA162lTqCwzJG5jLp   \n",
       "4  spotify:artist:3tQx1LPXbsYjE9VwN1Peaa   \n",
       "\n",
       "                             track_name                             album_uri  \\\n",
       "0                         Nobody But Me  spotify:album:2OXZJLXxM8jrY3gBoVNfmz   \n",
       "1  Too Little, Too Late - Radio Version  spotify:album:3j4FqZqQ7wiSloLyQZqszi   \n",
       "2   F*** Apologies. (feat. Wiz Khalifa)  spotify:album:03B7yRw8C4i7Vuxxjy8RJw   \n",
       "3                                Closer  spotify:album:0rSLgV8p5FzfnqlEk4GzxE   \n",
       "4                              You & Me  spotify:album:4OmqJXPhD5FOqwdg5tBsnu   \n",
       "\n",
       "   duration_ms            album_name  \n",
       "0       179640         Nobody But Me  \n",
       "1       221573  Too Little, Too Late  \n",
       "2       195413             Mad Love.  \n",
       "3       244960                Closer  \n",
       "4       218493        Gossip Columns  "
      ]
     },
     "execution_count": 20,
     "metadata": {},
     "output_type": "execute_result"
    }
   ],
   "source": [
    "playlist_data.head()"
   ]
  },
  {
   "cell_type": "code",
   "execution_count": null,
   "metadata": {},
   "outputs": [],
   "source": []
  }
 ],
 "metadata": {
  "kernelspec": {
   "display_name": "Python 3",
   "language": "python",
   "name": "python3"
  },
  "language_info": {
   "codemirror_mode": {
    "name": "ipython",
    "version": 3
   },
   "file_extension": ".py",
   "mimetype": "text/x-python",
   "name": "python",
   "nbconvert_exporter": "python",
   "pygments_lexer": "ipython3",
   "version": "3.7.3"
  }
 },
 "nbformat": 4,
 "nbformat_minor": 2
}
