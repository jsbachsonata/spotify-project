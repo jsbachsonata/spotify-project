{
 "cells": [
  {
   "cell_type": "code",
   "execution_count": 262,
   "metadata": {},
   "outputs": [],
   "source": [
    "import glob\n",
    "import pandas as pd\n",
    "import numpy as np\n",
    "import matplotlib.pyplot as plt\n",
    "import seaborn as sns\n",
    "from scipy.sparse import csr_matrix\n",
    "from sklearn.cluster import KMeans\n",
    "from sklearn.preprocessing import MinMaxScaler\n",
    "from sklearn.model_selection import train_test_split\n",
    "from sklearn.neighbors import KNeighborsClassifier\n",
    "from sklearn.model_selection import cross_val_score\n",
    "from sklearn.metrics import accuracy_score\n",
    "from sklearn.model_selection import KFold\n",
    "\n",
    "import os\n",
    "os.environ[\"GOOGLE_APPLICATION_CREDENTIALS\"] = \"..\\config\\credentials.json\"\n",
    "from tqdm import tqdm_notebook"
   ]
  },
  {
   "cell_type": "code",
   "execution_count": 188,
   "metadata": {},
   "outputs": [],
   "source": [
    "%reload_ext google.cloud.bigquery"
   ]
  },
  {
   "cell_type": "code",
   "execution_count": 189,
   "metadata": {},
   "outputs": [
    {
     "data": {
      "text/html": [
       "<div>\n",
       "<style scoped>\n",
       "    .dataframe tbody tr th:only-of-type {\n",
       "        vertical-align: middle;\n",
       "    }\n",
       "\n",
       "    .dataframe tbody tr th {\n",
       "        vertical-align: top;\n",
       "    }\n",
       "\n",
       "    .dataframe thead th {\n",
       "        text-align: right;\n",
       "    }\n",
       "</style>\n",
       "<table border=\"1\" class=\"dataframe\">\n",
       "  <thead>\n",
       "    <tr style=\"text-align: right;\">\n",
       "      <th></th>\n",
       "      <th>f0_</th>\n",
       "    </tr>\n",
       "  </thead>\n",
       "  <tbody>\n",
       "    <tr>\n",
       "      <th>0</th>\n",
       "      <td>909100</td>\n",
       "    </tr>\n",
       "  </tbody>\n",
       "</table>\n",
       "</div>"
      ],
      "text/plain": [
       "      f0_\n",
       "0  909100"
      ]
     },
     "execution_count": 189,
     "metadata": {},
     "output_type": "execute_result"
    }
   ],
   "source": [
    "%%bigquery\n",
    "SELECT\n",
    "    COUNT(DISTINCT(unique_pid))\n",
    "FROM\n",
    "    playlist_songs.playlists;\n"
   ]
  },
  {
   "cell_type": "code",
   "execution_count": 190,
   "metadata": {},
   "outputs": [
    {
     "data": {
      "text/html": [
       "<div>\n",
       "<style scoped>\n",
       "    .dataframe tbody tr th:only-of-type {\n",
       "        vertical-align: middle;\n",
       "    }\n",
       "\n",
       "    .dataframe tbody tr th {\n",
       "        vertical-align: top;\n",
       "    }\n",
       "\n",
       "    .dataframe thead th {\n",
       "        text-align: right;\n",
       "    }\n",
       "</style>\n",
       "<table border=\"1\" class=\"dataframe\">\n",
       "  <thead>\n",
       "    <tr style=\"text-align: right;\">\n",
       "      <th></th>\n",
       "      <th>f0_</th>\n",
       "    </tr>\n",
       "  </thead>\n",
       "  <tbody>\n",
       "    <tr>\n",
       "      <th>0</th>\n",
       "      <td>66346428</td>\n",
       "    </tr>\n",
       "  </tbody>\n",
       "</table>\n",
       "</div>"
      ],
      "text/plain": [
       "        f0_\n",
       "0  66346428"
      ]
     },
     "execution_count": 190,
     "metadata": {},
     "output_type": "execute_result"
    }
   ],
   "source": [
    "%%bigquery\n",
    "SELECT\n",
    "    COUNT(unique_pid)\n",
    "FROM\n",
    "    playlist_songs.playlists;"
   ]
  },
  {
   "cell_type": "markdown",
   "metadata": {},
   "source": [
    "1. Get all tracks from random list of 1000 playlists. The limiting dimension is the playlist.\n",
    "2. Train test split the data"
   ]
  },
  {
   "cell_type": "code",
   "execution_count": 193,
   "metadata": {},
   "outputs": [],
   "source": [
    "%%bigquery playlist_tracks\n",
    "SELECT\n",
    "    ps.unique_pid, \n",
    "    ps.artist_name, \n",
    "    ps.track_name, \n",
    "    ps.album_name, \n",
    "    th.trackid,\n",
    "    th.danceability,\n",
    "    th.energy,\n",
    "    th.key,\n",
    "    th.loudness,\n",
    "    th.mode,\n",
    "    th.speechiness,\n",
    "    th.acousticness,\n",
    "    th.instrumentalness,\n",
    "    th.liveness,\n",
    "    th.valence,\n",
    "    th.tempo,\n",
    "    th.duration_ms,\n",
    "    th.time_signature\n",
    "FROM\n",
    "    (SELECT \n",
    "        unique_pid\n",
    "    FROM\n",
    "        (SELECT\n",
    "            unique_pid\n",
    "        FROM\n",
    "            playlist_songs.playlists\n",
    "        GROUP BY\n",
    "            unique_pid)\n",
    "    WHERE\n",
    "    RAND() < 500/909100 ) as ps_id\n",
    "    INNER JOIN\n",
    "    playlist_songs.playlists as ps\n",
    "    ON ps_id.unique_pid = ps.unique_pid\n",
    "    INNER JOIN\n",
    "    playlist_songs.tracks_headers as th\n",
    "    ON th.trackid = ps.track_uri;"
   ]
  },
  {
   "cell_type": "code",
   "execution_count": 194,
   "metadata": {},
   "outputs": [
    {
     "data": {
      "text/html": [
       "<div>\n",
       "<style scoped>\n",
       "    .dataframe tbody tr th:only-of-type {\n",
       "        vertical-align: middle;\n",
       "    }\n",
       "\n",
       "    .dataframe tbody tr th {\n",
       "        vertical-align: top;\n",
       "    }\n",
       "\n",
       "    .dataframe thead th {\n",
       "        text-align: right;\n",
       "    }\n",
       "</style>\n",
       "<table border=\"1\" class=\"dataframe\">\n",
       "  <thead>\n",
       "    <tr style=\"text-align: right;\">\n",
       "      <th></th>\n",
       "      <th>unique_pid</th>\n",
       "      <th>artist_name</th>\n",
       "      <th>track_name</th>\n",
       "      <th>album_name</th>\n",
       "      <th>trackid</th>\n",
       "      <th>danceability</th>\n",
       "      <th>energy</th>\n",
       "      <th>key</th>\n",
       "      <th>loudness</th>\n",
       "      <th>mode</th>\n",
       "      <th>speechiness</th>\n",
       "      <th>acousticness</th>\n",
       "      <th>instrumentalness</th>\n",
       "      <th>liveness</th>\n",
       "      <th>valence</th>\n",
       "      <th>tempo</th>\n",
       "      <th>duration_ms</th>\n",
       "      <th>time_signature</th>\n",
       "    </tr>\n",
       "  </thead>\n",
       "  <tbody>\n",
       "    <tr>\n",
       "      <th>0</th>\n",
       "      <td>8169</td>\n",
       "      <td>Monstercat</td>\n",
       "      <td>Monstercat Best of 2012</td>\n",
       "      <td>Monstercat - Best of 2012</td>\n",
       "      <td>spotify:track:6jvMmRtSzoEibQGrQkSISQ</td>\n",
       "      <td>NaN</td>\n",
       "      <td>NaN</td>\n",
       "      <td>NaN</td>\n",
       "      <td>NaN</td>\n",
       "      <td>NaN</td>\n",
       "      <td>NaN</td>\n",
       "      <td>NaN</td>\n",
       "      <td>NaN</td>\n",
       "      <td>NaN</td>\n",
       "      <td>NaN</td>\n",
       "      <td>NaN</td>\n",
       "      <td>NaN</td>\n",
       "      <td>NaN</td>\n",
       "    </tr>\n",
       "  </tbody>\n",
       "</table>\n",
       "</div>"
      ],
      "text/plain": [
       "   unique_pid artist_name               track_name                 album_name  \\\n",
       "0        8169  Monstercat  Monstercat Best of 2012  Monstercat - Best of 2012   \n",
       "\n",
       "                                trackid  danceability  energy  key  loudness  \\\n",
       "0  spotify:track:6jvMmRtSzoEibQGrQkSISQ           NaN     NaN  NaN       NaN   \n",
       "\n",
       "   mode  speechiness  acousticness  instrumentalness  liveness  valence  \\\n",
       "0   NaN          NaN           NaN               NaN       NaN      NaN   \n",
       "\n",
       "   tempo  duration_ms  time_signature  \n",
       "0    NaN          NaN             NaN  "
      ]
     },
     "execution_count": 194,
     "metadata": {},
     "output_type": "execute_result"
    }
   ],
   "source": [
    "playlist_tracks.head(1)"
   ]
  },
  {
   "cell_type": "code",
   "execution_count": 195,
   "metadata": {},
   "outputs": [],
   "source": [
    "playlist_analysis = playlist_tracks[['unique_pid', 'trackid','danceability', 'energy', 'key', 'loudness', 'mode', 'speechiness',\n",
    "            'acousticness', 'instrumentalness', 'liveness', 'valence', 'tempo',\n",
    "            'duration_ms', 'time_signature']]\n",
    "\n",
    "playlist_song_info = playlist_tracks[['trackid', 'artist_name', 'track_name', 'album_name']]"
   ]
  },
  {
   "cell_type": "code",
   "execution_count": 196,
   "metadata": {},
   "outputs": [
    {
     "name": "stderr",
     "output_type": "stream",
     "text": [
      "C:\\ProgramData\\Anaconda3\\lib\\site-packages\\pandas\\core\\indexing.py:362: SettingWithCopyWarning: \n",
      "A value is trying to be set on a copy of a slice from a DataFrame.\n",
      "Try using .loc[row_indexer,col_indexer] = value instead\n",
      "\n",
      "See the caveats in the documentation: http://pandas.pydata.org/pandas-docs/stable/indexing.html#indexing-view-versus-copy\n",
      "  self.obj[key] = _infer_fill_value(value)\n",
      "C:\\ProgramData\\Anaconda3\\lib\\site-packages\\pandas\\core\\indexing.py:543: SettingWithCopyWarning: \n",
      "A value is trying to be set on a copy of a slice from a DataFrame.\n",
      "Try using .loc[row_indexer,col_indexer] = value instead\n",
      "\n",
      "See the caveats in the documentation: http://pandas.pydata.org/pandas-docs/stable/indexing.html#indexing-view-versus-copy\n",
      "  self.obj[item] = s\n"
     ]
    }
   ],
   "source": [
    "# (spread procedure - group by track and features one hot encode playlist assignments)\n",
    "playlist_analysis.loc[:, 'one'] = 1\n",
    "# playlist_one_hot = playlist_analysis.pivot(index='trackid', columns='', values='')\n",
    "playlist_analysis = playlist_analysis.drop_duplicates(subset=['unique_pid', 'trackid'])\n",
    "playlist_one_hot = playlist_analysis.pivot(index=\"trackid\", columns='unique_pid', values=\"one\")"
   ]
  },
  {
   "cell_type": "code",
   "execution_count": 197,
   "metadata": {},
   "outputs": [],
   "source": [
    "playlist_one_hot = playlist_one_hot.fillna(value=0)"
   ]
  },
  {
   "cell_type": "code",
   "execution_count": 198,
   "metadata": {},
   "outputs": [],
   "source": [
    "# get histogram of songs associated with # playlists\n",
    "playlist_one_hot.loc[:, \"sum\"] = playlist_one_hot.sum(axis = 1)"
   ]
  },
  {
   "cell_type": "code",
   "execution_count": 199,
   "metadata": {},
   "outputs": [
    {
     "data": {
      "text/html": [
       "<div>\n",
       "<style scoped>\n",
       "    .dataframe tbody tr th:only-of-type {\n",
       "        vertical-align: middle;\n",
       "    }\n",
       "\n",
       "    .dataframe tbody tr th {\n",
       "        vertical-align: top;\n",
       "    }\n",
       "\n",
       "    .dataframe thead th {\n",
       "        text-align: right;\n",
       "    }\n",
       "</style>\n",
       "<table border=\"1\" class=\"dataframe\">\n",
       "  <thead>\n",
       "    <tr style=\"text-align: right;\">\n",
       "      <th>unique_pid</th>\n",
       "      <th>1425</th>\n",
       "      <th>4989</th>\n",
       "      <th>5670</th>\n",
       "      <th>7898</th>\n",
       "      <th>8169</th>\n",
       "      <th>13928</th>\n",
       "      <th>21272</th>\n",
       "      <th>23464</th>\n",
       "      <th>26909</th>\n",
       "      <th>30138</th>\n",
       "      <th>...</th>\n",
       "      <th>982473</th>\n",
       "      <th>983483</th>\n",
       "      <th>988355</th>\n",
       "      <th>988357</th>\n",
       "      <th>989649</th>\n",
       "      <th>990810</th>\n",
       "      <th>991752</th>\n",
       "      <th>994377</th>\n",
       "      <th>999155</th>\n",
       "      <th>sum</th>\n",
       "    </tr>\n",
       "    <tr>\n",
       "      <th>trackid</th>\n",
       "      <th></th>\n",
       "      <th></th>\n",
       "      <th></th>\n",
       "      <th></th>\n",
       "      <th></th>\n",
       "      <th></th>\n",
       "      <th></th>\n",
       "      <th></th>\n",
       "      <th></th>\n",
       "      <th></th>\n",
       "      <th></th>\n",
       "      <th></th>\n",
       "      <th></th>\n",
       "      <th></th>\n",
       "      <th></th>\n",
       "      <th></th>\n",
       "      <th></th>\n",
       "      <th></th>\n",
       "      <th></th>\n",
       "      <th></th>\n",
       "      <th></th>\n",
       "    </tr>\n",
       "  </thead>\n",
       "  <tbody>\n",
       "    <tr>\n",
       "      <th>spotify:track:0003Z98F6hUq7XxqSRM87H</th>\n",
       "      <td>0.0</td>\n",
       "      <td>0.0</td>\n",
       "      <td>0.0</td>\n",
       "      <td>0.0</td>\n",
       "      <td>0.0</td>\n",
       "      <td>0.0</td>\n",
       "      <td>0.0</td>\n",
       "      <td>0.0</td>\n",
       "      <td>0.0</td>\n",
       "      <td>0.0</td>\n",
       "      <td>...</td>\n",
       "      <td>0.0</td>\n",
       "      <td>0.0</td>\n",
       "      <td>0.0</td>\n",
       "      <td>0.0</td>\n",
       "      <td>0.0</td>\n",
       "      <td>0.0</td>\n",
       "      <td>0.0</td>\n",
       "      <td>0.0</td>\n",
       "      <td>0.0</td>\n",
       "      <td>1.0</td>\n",
       "    </tr>\n",
       "    <tr>\n",
       "      <th>spotify:track:0004ExljAge0P5XWn1LXmW</th>\n",
       "      <td>0.0</td>\n",
       "      <td>0.0</td>\n",
       "      <td>0.0</td>\n",
       "      <td>0.0</td>\n",
       "      <td>0.0</td>\n",
       "      <td>0.0</td>\n",
       "      <td>0.0</td>\n",
       "      <td>0.0</td>\n",
       "      <td>0.0</td>\n",
       "      <td>0.0</td>\n",
       "      <td>...</td>\n",
       "      <td>0.0</td>\n",
       "      <td>0.0</td>\n",
       "      <td>0.0</td>\n",
       "      <td>0.0</td>\n",
       "      <td>0.0</td>\n",
       "      <td>0.0</td>\n",
       "      <td>0.0</td>\n",
       "      <td>0.0</td>\n",
       "      <td>0.0</td>\n",
       "      <td>1.0</td>\n",
       "    </tr>\n",
       "    <tr>\n",
       "      <th>spotify:track:000xQL6tZNLJzIrtIgxqSl</th>\n",
       "      <td>0.0</td>\n",
       "      <td>0.0</td>\n",
       "      <td>0.0</td>\n",
       "      <td>0.0</td>\n",
       "      <td>0.0</td>\n",
       "      <td>0.0</td>\n",
       "      <td>0.0</td>\n",
       "      <td>0.0</td>\n",
       "      <td>0.0</td>\n",
       "      <td>0.0</td>\n",
       "      <td>...</td>\n",
       "      <td>0.0</td>\n",
       "      <td>0.0</td>\n",
       "      <td>0.0</td>\n",
       "      <td>0.0</td>\n",
       "      <td>0.0</td>\n",
       "      <td>0.0</td>\n",
       "      <td>0.0</td>\n",
       "      <td>0.0</td>\n",
       "      <td>0.0</td>\n",
       "      <td>3.0</td>\n",
       "    </tr>\n",
       "    <tr>\n",
       "      <th>spotify:track:0032P9X3AD4AQvN7yzpmTo</th>\n",
       "      <td>0.0</td>\n",
       "      <td>0.0</td>\n",
       "      <td>0.0</td>\n",
       "      <td>0.0</td>\n",
       "      <td>0.0</td>\n",
       "      <td>0.0</td>\n",
       "      <td>0.0</td>\n",
       "      <td>0.0</td>\n",
       "      <td>0.0</td>\n",
       "      <td>1.0</td>\n",
       "      <td>...</td>\n",
       "      <td>0.0</td>\n",
       "      <td>0.0</td>\n",
       "      <td>0.0</td>\n",
       "      <td>0.0</td>\n",
       "      <td>0.0</td>\n",
       "      <td>0.0</td>\n",
       "      <td>0.0</td>\n",
       "      <td>0.0</td>\n",
       "      <td>0.0</td>\n",
       "      <td>1.0</td>\n",
       "    </tr>\n",
       "    <tr>\n",
       "      <th>spotify:track:004skCQeDn1iLntSom0rRr</th>\n",
       "      <td>0.0</td>\n",
       "      <td>0.0</td>\n",
       "      <td>0.0</td>\n",
       "      <td>0.0</td>\n",
       "      <td>0.0</td>\n",
       "      <td>0.0</td>\n",
       "      <td>0.0</td>\n",
       "      <td>0.0</td>\n",
       "      <td>0.0</td>\n",
       "      <td>0.0</td>\n",
       "      <td>...</td>\n",
       "      <td>0.0</td>\n",
       "      <td>0.0</td>\n",
       "      <td>0.0</td>\n",
       "      <td>0.0</td>\n",
       "      <td>0.0</td>\n",
       "      <td>0.0</td>\n",
       "      <td>0.0</td>\n",
       "      <td>0.0</td>\n",
       "      <td>0.0</td>\n",
       "      <td>1.0</td>\n",
       "    </tr>\n",
       "  </tbody>\n",
       "</table>\n",
       "<p>5 rows × 481 columns</p>\n",
       "</div>"
      ],
      "text/plain": [
       "unique_pid                            1425  4989  5670  7898  8169  13928  \\\n",
       "trackid                                                                     \n",
       "spotify:track:0003Z98F6hUq7XxqSRM87H   0.0   0.0   0.0   0.0   0.0    0.0   \n",
       "spotify:track:0004ExljAge0P5XWn1LXmW   0.0   0.0   0.0   0.0   0.0    0.0   \n",
       "spotify:track:000xQL6tZNLJzIrtIgxqSl   0.0   0.0   0.0   0.0   0.0    0.0   \n",
       "spotify:track:0032P9X3AD4AQvN7yzpmTo   0.0   0.0   0.0   0.0   0.0    0.0   \n",
       "spotify:track:004skCQeDn1iLntSom0rRr   0.0   0.0   0.0   0.0   0.0    0.0   \n",
       "\n",
       "unique_pid                            21272  23464  26909  30138  ...  982473  \\\n",
       "trackid                                                           ...           \n",
       "spotify:track:0003Z98F6hUq7XxqSRM87H    0.0    0.0    0.0    0.0  ...     0.0   \n",
       "spotify:track:0004ExljAge0P5XWn1LXmW    0.0    0.0    0.0    0.0  ...     0.0   \n",
       "spotify:track:000xQL6tZNLJzIrtIgxqSl    0.0    0.0    0.0    0.0  ...     0.0   \n",
       "spotify:track:0032P9X3AD4AQvN7yzpmTo    0.0    0.0    0.0    1.0  ...     0.0   \n",
       "spotify:track:004skCQeDn1iLntSom0rRr    0.0    0.0    0.0    0.0  ...     0.0   \n",
       "\n",
       "unique_pid                            983483  988355  988357  989649  990810  \\\n",
       "trackid                                                                        \n",
       "spotify:track:0003Z98F6hUq7XxqSRM87H     0.0     0.0     0.0     0.0     0.0   \n",
       "spotify:track:0004ExljAge0P5XWn1LXmW     0.0     0.0     0.0     0.0     0.0   \n",
       "spotify:track:000xQL6tZNLJzIrtIgxqSl     0.0     0.0     0.0     0.0     0.0   \n",
       "spotify:track:0032P9X3AD4AQvN7yzpmTo     0.0     0.0     0.0     0.0     0.0   \n",
       "spotify:track:004skCQeDn1iLntSom0rRr     0.0     0.0     0.0     0.0     0.0   \n",
       "\n",
       "unique_pid                            991752  994377  999155  sum  \n",
       "trackid                                                            \n",
       "spotify:track:0003Z98F6hUq7XxqSRM87H     0.0     0.0     0.0  1.0  \n",
       "spotify:track:0004ExljAge0P5XWn1LXmW     0.0     0.0     0.0  1.0  \n",
       "spotify:track:000xQL6tZNLJzIrtIgxqSl     0.0     0.0     0.0  3.0  \n",
       "spotify:track:0032P9X3AD4AQvN7yzpmTo     0.0     0.0     0.0  1.0  \n",
       "spotify:track:004skCQeDn1iLntSom0rRr     0.0     0.0     0.0  1.0  \n",
       "\n",
       "[5 rows x 481 columns]"
      ]
     },
     "execution_count": 199,
     "metadata": {},
     "output_type": "execute_result"
    }
   ],
   "source": [
    "playlist_one_hot.head()"
   ]
  },
  {
   "cell_type": "code",
   "execution_count": 200,
   "metadata": {},
   "outputs": [],
   "source": [
    "playlist_distribution = playlist_one_hot.groupby(\"sum\")[\"sum\"].count()\n"
   ]
  },
  {
   "cell_type": "code",
   "execution_count": 201,
   "metadata": {},
   "outputs": [
    {
     "data": {
      "text/plain": [
       "sum\n",
       "1.0     16243\n",
       "2.0      2349\n",
       "3.0       882\n",
       "4.0       441\n",
       "5.0       290\n",
       "6.0       172\n",
       "7.0       141\n",
       "8.0       106\n",
       "9.0        57\n",
       "10.0       48\n",
       "11.0       33\n",
       "12.0       33\n",
       "13.0       21\n",
       "14.0       13\n",
       "15.0       11\n",
       "16.0        7\n",
       "17.0        5\n",
       "18.0        2\n",
       "19.0        2\n",
       "20.0        3\n",
       "21.0        2\n",
       "22.0        1\n",
       "24.0        1\n",
       "25.0        2\n",
       "27.0        1\n",
       "Name: sum, dtype: int64"
      ]
     },
     "execution_count": 201,
     "metadata": {},
     "output_type": "execute_result"
    }
   ],
   "source": [
    "playlist_distribution"
   ]
  },
  {
   "cell_type": "code",
   "execution_count": 202,
   "metadata": {},
   "outputs": [],
   "source": [
    "# get all playlist numbers\n",
    "playlist_numbers = [i for i in playlist_one_hot.columns if i not in ['trackid', 'sum']]\n",
    "# merge features with one-hot list\n",
    "playlist_features = playlist_analysis[['trackid','danceability', 'energy', 'key', 'loudness', 'mode', 'speechiness',\n",
    "            'acousticness', 'instrumentalness', 'liveness', 'valence', 'tempo',\n",
    "            'duration_ms', 'time_signature']]\n",
    "playlist_one_hot = playlist_one_hot.drop(\"sum\", axis = 1)"
   ]
  },
  {
   "cell_type": "code",
   "execution_count": 203,
   "metadata": {},
   "outputs": [],
   "source": [
    "playlist_one_hot_w_features = playlist_one_hot.merge(playlist_features, on=\"trackid\", how=\"inner\")"
   ]
  },
  {
   "cell_type": "code",
   "execution_count": 232,
   "metadata": {},
   "outputs": [
    {
     "name": "stdout",
     "output_type": "stream",
     "text": [
      "(32536, 13)\n",
      "(32536, 480)\n"
     ]
    }
   ],
   "source": [
    "y = playlist_one_hot_w_features[playlist_numbers]\n",
    "X = playlist_one_hot_w_features[['danceability', 'energy', 'key', 'loudness', 'mode', 'speechiness',\n",
    "            'acousticness', 'instrumentalness', 'liveness', 'valence', 'tempo',\n",
    "            'duration_ms', 'time_signature']]\n",
    "\n",
    "print(X.shape)\n",
    "print(y.shape)\n",
    "X = X.fillna(-1) #if na then fill with -1"
   ]
  },
  {
   "cell_type": "code",
   "execution_count": 233,
   "metadata": {},
   "outputs": [],
   "source": [
    "# train test split\n",
    "X_train, X_test, y_train, y_test = train_test_split(X, y, train_size=0.8)\n",
    "X_train = np.array(X_train)\n",
    "X_test = np.array(X_test)\n",
    "y_train = np.array(y_train)\n",
    "y_test = np.array(y_test)"
   ]
  },
  {
   "cell_type": "markdown",
   "metadata": {},
   "source": [
    "Now train model using k-nearest neighbors mahalanobis distance for one model and then extend to multiple models"
   ]
  },
  {
   "cell_type": "code",
   "execution_count": 243,
   "metadata": {},
   "outputs": [
    {
     "data": {
      "text/plain": [
       "(6449, 480)"
      ]
     },
     "execution_count": 243,
     "metadata": {},
     "output_type": "execute_result"
    }
   ],
   "source": [
    "#create mask for smaller X_train data\n",
    "\n",
    "mask = np.random.choice([False, True], len(X_train), p=[0.75, 0.25])\n",
    "X_train_compressed = X_train[mask][:]\n",
    "X_train_compressed.shape\n",
    "y_train_compressed = y_train[mask][:]\n",
    "y_train_compressed.shape"
   ]
  },
  {
   "cell_type": "code",
   "execution_count": null,
   "metadata": {},
   "outputs": [
    {
     "data": {
      "application/vnd.jupyter.widget-view+json": {
       "model_id": "ad5d70f3aa984918899150c01822abdf",
       "version_major": 2,
       "version_minor": 0
      },
      "text/plain": [
       "HBox(children=(IntProgress(value=0, max=1920), HTML(value='')))"
      ]
     },
     "metadata": {},
     "output_type": "display_data"
    }
   ],
   "source": [
    "ks = [2, 5, 7, 10]\n",
    "output = []\n",
    "playlists = range(0, len(playlist_numbers))\n",
    "\n",
    "total_loops = len(playlists) * len(ks)\n",
    "with tqdm_notebook(total=total_loops) as pbar:\n",
    "    for playlist in playlists:\n",
    "        for k in ks:\n",
    "            # https://towardsdatascience.com/building-a-k-nearest-neighbors-k-nn-model-with-scikit-learn-51209555453a\n",
    "#             print(f'''**************************************'''\n",
    "#                   f'''\\nRunning kNN classification for k={k}''')\n",
    "            knn_cv = KNeighborsClassifier(n_neighbors=k, metric='euclidean')\n",
    "            cv_scores = cross_val_score(knn_cv, X_train, y_train[:, playlist], cv=5)\n",
    "            output.append({\"k\": k, \"cv_scores_mean\": np.mean(cv_scores), \"playlist\": playlist})\n",
    "#             print(f'''cv_scores: {cv_scores}''')\n",
    "#             print(f'''cv_scores mean: {np.mean(cv_scores)}''')\n",
    "            pbar.update(1)\n",
    "\n"
   ]
  },
  {
   "cell_type": "code",
   "execution_count": 259,
   "metadata": {},
   "outputs": [
    {
     "name": "stdout",
     "output_type": "stream",
     "text": [
      "plot of mean cv scores for k=2 for multiple play lists\n"
     ]
    },
    {
     "data": {
      "image/png": "[encoded data removed]",
      "text/plain": [
       "<Figure size 432x288 with 1 Axes>"
      ]
     },
     "metadata": {
      "needs_background": "light"
     },
     "output_type": "display_data"
    },
    {
     "name": "stdout",
     "output_type": "stream",
     "text": [
      "plot of mean cv scores for k=5 for multiple play lists\n"
     ]
    },
    {
     "data": {
      "image/png": "[encoded data removed]",
      "text/plain": [
       "<Figure size 432x288 with 1 Axes>"
      ]
     },
     "metadata": {
      "needs_background": "light"
     },
     "output_type": "display_data"
    },
    {
     "name": "stdout",
     "output_type": "stream",
     "text": [
      "plot of mean cv scores for k=7 for multiple play lists\n"
     ]
    },
    {
     "data": {
      "image/png": "[encoded data removed]",
      "text/plain": [
       "<Figure size 432x288 with 1 Axes>"
      ]
     },
     "metadata": {
      "needs_background": "light"
     },
     "output_type": "display_data"
    },
    {
     "name": "stdout",
     "output_type": "stream",
     "text": [
      "plot of mean cv scores for k=10 for multiple play lists\n"
     ]
    },
    {
     "data": {
      "image/png": "[encoded data removed]",
      "text/plain": [
       "<Figure size 432x288 with 1 Axes>"
      ]
     },
     "metadata": {
      "needs_background": "light"
     },
     "output_type": "display_data"
    }
   ],
   "source": [
    "output = pd.DataFrame(output)\n",
    "for k in ks:\n",
    "    print(f\"plot of mean cv scores for k={k} for multiple play lists\")\n",
    "    subset = output.loc[output.k==k,:]\n",
    "    plt.hist(subset[\"cv_scores_mean\"])\n",
    "    plt.show()\n"
   ]
  }
 ],
 "metadata": {
  "kernelspec": {
   "display_name": "Python 3",
   "language": "python",
   "name": "python3"
  },
  "language_info": {
   "codemirror_mode": {
    "name": "ipython",
    "version": 3
   },
   "file_extension": ".py",
   "mimetype": "text/x-python",
   "name": "python",
   "nbconvert_exporter": "python",
   "pygments_lexer": "ipython3",
   "version": "3.6.9"
  }
 },
 "nbformat": 4,
 "nbformat_minor": 4
}
