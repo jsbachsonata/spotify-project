{
 "cells": [
  {
   "cell_type": "markdown",
   "metadata": {},
   "source": [
    "# Spotify Final Project - Emily Xie EDA\n",
    "### Milestone 3: EDA and Baseline Model\n",
    "### Austin Rochon, Emily Xie, and Mark Lock"
   ]
  },
  {
   "cell_type": "code",
   "execution_count": 48,
   "metadata": {},
   "outputs": [],
   "source": [
    "import glob\n",
    "import pandas as pd\n",
    "import numpy as np\n",
    "import matplotlib.pyplot as plt\n",
    "import seaborn as sns\n",
    "\n",
    "\n"
   ]
  },
  {
   "cell_type": "markdown",
   "metadata": {},
   "source": [
    "## Setting up to query Google BigQuery"
   ]
  },
  {
   "cell_type": "markdown",
   "metadata": {},
   "source": [
    "Since the data set is 70 million rows, and cannot all be easily managed on our local machines, we've decided to use GCP (Google Cloud Developer) platform to help us manage our data. First, we uploaded the CSVs into a private GCP  storage bucket, and from there sent the data to BigQuery, GCP's distributed database, which will allow us to query the data however we like.\n",
    "\n",
    "Here's the interface (you need access): https://console.cloud.google.com/bigquery?folder=&organizationId=&project=spotted-d&p=spotted-d&d=playlist_songs&t=playlist_songs&page=table\n",
    "\n",
    "From here, we can retrieve, query, join, and manipulate the entirety of the dataset however we like. Please follow the instructions below in this notebook to set up your Jupyter so that it can query directly from GCP. "
   ]
  },
  {
   "cell_type": "markdown",
   "metadata": {},
   "source": [
    "### Setup Instructions"
   ]
  },
  {
   "cell_type": "markdown",
   "metadata": {},
   "source": [
    "The following setup should take just a few minutes.\n",
    "\n",
    "#### 1. Create a service account. \n",
    "Go to https://console.cloud.google.com/iam-admin/serviceaccounts?project=spotted-d. Once you are on this page, go to the \"actions\" tab, where there will be a drop-down indicated by three dots on the right-most part of the corresponding account. Click \"Create Key\" which will download a key for you somewhere on your local machine. Save it somewhere safe. :-)  \n",
    "\n",
    "If you plan to store it on this git project, make sure to put in a folder that is git-ignored so that we don't push it up to Github. I actually created a .gitignore file on this branch. If you create a directory called \"config\" under the top-level directory of this repository and stick your service key in there, it should be automatically ignored. Ask me if you want any help.\n",
    "\n",
    "#### 2. Set up implicit authentication with gCloud\n",
    "If you are using Mac, just run this on your command line:\n",
    "\n",
    "`export GOOGLE_APPLICATION_CREDENTIALS=\"[PATH]\"`\n",
    "\n",
    "If you are using Windows:\n",
    "\n",
    "`$env:GOOGLE_APPLICATION_CREDENTIALS=\"[PATH]\"`\n",
    "\n",
    "For more info, see below:\n",
    "\n",
    "https://cloud.google.com/docs/authentication/getting-started#auth-cloud-implicit-python"
   ]
  },
  {
   "cell_type": "markdown",
   "metadata": {},
   "source": [
    "#### 3. Install Google Cloud Big Query Pandas python package."
   ]
  },
  {
   "cell_type": "markdown",
   "metadata": {},
   "source": [
    "Run this on your terminal:\n",
    "\n",
    "`pip install --upgrade google-cloud-bigquery[pandas]`\n",
    "\n",
    "For more on the above two steps, you can check out the GCP documentation: https://cloud.google.com/bigquery/docs/visualize-jupyter"
   ]
  },
  {
   "cell_type": "markdown",
   "metadata": {},
   "source": [
    "#### Run this cell to load google cloud bigquery:"
   ]
  },
  {
   "cell_type": "code",
   "execution_count": 1,
   "metadata": {},
   "outputs": [],
   "source": [
    "%load_ext google.cloud.bigquery"
   ]
  },
  {
   "cell_type": "markdown",
   "metadata": {},
   "source": [
    "#### Now, you can query your data. Next to \"bigquery\", write the name of the variable you'd like to save your query results into."
   ]
  },
  {
   "cell_type": "code",
   "execution_count": 9,
   "metadata": {},
   "outputs": [],
   "source": [
    "%%bigquery playlist_data\n",
    "select ps.pid, ps.pos, ps.artist_name, ps.track_name, ps.album_name, th.*\n",
    "from playlist_songs.playlist_songs as ps\n",
    "inner join playlist_songs.tracks_headers as th on th.trackid = ps.track_uri\n",
    "limit 100000"
   ]
  },
  {
   "cell_type": "markdown",
   "metadata": {},
   "source": [
    "#### You'll notice that it automatically saves to a Pandas dataframe for you"
   ]
  },
  {
   "cell_type": "code",
   "execution_count": 10,
   "metadata": {},
   "outputs": [
    {
     "data": {
      "text/plain": [
       "100000"
      ]
     },
     "execution_count": 10,
     "metadata": {},
     "output_type": "execute_result"
    }
   ],
   "source": [
    "len(playlist_data)"
   ]
  },
  {
   "cell_type": "markdown",
   "metadata": {},
   "source": [
    "## EDA"
   ]
  },
  {
   "cell_type": "code",
   "execution_count": 11,
   "metadata": {},
   "outputs": [
    {
     "data": {
      "text/html": [
       "<div>\n",
       "<style scoped>\n",
       "    .dataframe tbody tr th:only-of-type {\n",
       "        vertical-align: middle;\n",
       "    }\n",
       "\n",
       "    .dataframe tbody tr th {\n",
       "        vertical-align: top;\n",
       "    }\n",
       "\n",
       "    .dataframe thead th {\n",
       "        text-align: right;\n",
       "    }\n",
       "</style>\n",
       "<table border=\"1\" class=\"dataframe\">\n",
       "  <thead>\n",
       "    <tr style=\"text-align: right;\">\n",
       "      <th></th>\n",
       "      <th>pid</th>\n",
       "      <th>pos</th>\n",
       "      <th>artist_name</th>\n",
       "      <th>track_name</th>\n",
       "      <th>album_name</th>\n",
       "      <th>index</th>\n",
       "      <th>danceability</th>\n",
       "      <th>energy</th>\n",
       "      <th>key</th>\n",
       "      <th>loudness</th>\n",
       "      <th>...</th>\n",
       "      <th>valence</th>\n",
       "      <th>tempo</th>\n",
       "      <th>type</th>\n",
       "      <th>id</th>\n",
       "      <th>uri</th>\n",
       "      <th>track_href</th>\n",
       "      <th>analysis_url</th>\n",
       "      <th>duration_ms</th>\n",
       "      <th>time_signature</th>\n",
       "      <th>trackid</th>\n",
       "    </tr>\n",
       "  </thead>\n",
       "  <tbody>\n",
       "    <tr>\n",
       "      <td>0</td>\n",
       "      <td>37</td>\n",
       "      <td>126</td>\n",
       "      <td>Harry Connick, Jr.</td>\n",
       "      <td>What a Night!</td>\n",
       "      <td>What A Night! A Christmas Album</td>\n",
       "      <td>4</td>\n",
       "      <td>0.609</td>\n",
       "      <td>0.329</td>\n",
       "      <td>3</td>\n",
       "      <td>-10.762</td>\n",
       "      <td>...</td>\n",
       "      <td>0.498</td>\n",
       "      <td>129.676</td>\n",
       "      <td>audio_features</td>\n",
       "      <td>3379BhHoOyWDkewjzpgZAv</td>\n",
       "      <td>spotify:track:3379BhHoOyWDkewjzpgZAv</td>\n",
       "      <td>https://api.spotify.com/v1/tracks/3379BhHoOyWD...</td>\n",
       "      <td>https://api.spotify.com/v1/audio-analysis/3379...</td>\n",
       "      <td>203573</td>\n",
       "      <td>4</td>\n",
       "      <td>spotify:track:3379BhHoOyWDkewjzpgZAv</td>\n",
       "    </tr>\n",
       "    <tr>\n",
       "      <td>1</td>\n",
       "      <td>57</td>\n",
       "      <td>58</td>\n",
       "      <td>Jack Johnson</td>\n",
       "      <td>Change</td>\n",
       "      <td>From Here To Now To You</td>\n",
       "      <td>64</td>\n",
       "      <td>0.752</td>\n",
       "      <td>0.405</td>\n",
       "      <td>11</td>\n",
       "      <td>-8.414</td>\n",
       "      <td>...</td>\n",
       "      <td>0.321</td>\n",
       "      <td>92.975</td>\n",
       "      <td>audio_features</td>\n",
       "      <td>4WAoUYToqNAC6AGGslFxeo</td>\n",
       "      <td>spotify:track:4WAoUYToqNAC6AGGslFxeo</td>\n",
       "      <td>https://api.spotify.com/v1/tracks/4WAoUYToqNAC...</td>\n",
       "      <td>https://api.spotify.com/v1/audio-analysis/4WAo...</td>\n",
       "      <td>194053</td>\n",
       "      <td>4</td>\n",
       "      <td>spotify:track:4WAoUYToqNAC6AGGslFxeo</td>\n",
       "    </tr>\n",
       "    <tr>\n",
       "      <td>2</td>\n",
       "      <td>73</td>\n",
       "      <td>156</td>\n",
       "      <td>Bon Iver</td>\n",
       "      <td>____45_____</td>\n",
       "      <td>22, A Million</td>\n",
       "      <td>29</td>\n",
       "      <td>0.410</td>\n",
       "      <td>0.121</td>\n",
       "      <td>2</td>\n",
       "      <td>-15.473</td>\n",
       "      <td>...</td>\n",
       "      <td>0.177</td>\n",
       "      <td>86.359</td>\n",
       "      <td>audio_features</td>\n",
       "      <td>14iePHBA4OZzeMp0gtMehM</td>\n",
       "      <td>spotify:track:14iePHBA4OZzeMp0gtMehM</td>\n",
       "      <td>https://api.spotify.com/v1/tracks/14iePHBA4OZz...</td>\n",
       "      <td>https://api.spotify.com/v1/audio-analysis/14ie...</td>\n",
       "      <td>166107</td>\n",
       "      <td>3</td>\n",
       "      <td>spotify:track:14iePHBA4OZzeMp0gtMehM</td>\n",
       "    </tr>\n",
       "    <tr>\n",
       "      <td>3</td>\n",
       "      <td>122</td>\n",
       "      <td>137</td>\n",
       "      <td>Counting Crows</td>\n",
       "      <td>Rain King</td>\n",
       "      <td>August And Everything After</td>\n",
       "      <td>78</td>\n",
       "      <td>0.492</td>\n",
       "      <td>0.879</td>\n",
       "      <td>9</td>\n",
       "      <td>-6.723</td>\n",
       "      <td>...</td>\n",
       "      <td>0.750</td>\n",
       "      <td>157.669</td>\n",
       "      <td>audio_features</td>\n",
       "      <td>7s4JCyY8YIZSsKvtwStBQ6</td>\n",
       "      <td>spotify:track:7s4JCyY8YIZSsKvtwStBQ6</td>\n",
       "      <td>https://api.spotify.com/v1/tracks/7s4JCyY8YIZS...</td>\n",
       "      <td>https://api.spotify.com/v1/audio-analysis/7s4J...</td>\n",
       "      <td>255693</td>\n",
       "      <td>4</td>\n",
       "      <td>spotify:track:7s4JCyY8YIZSsKvtwStBQ6</td>\n",
       "    </tr>\n",
       "    <tr>\n",
       "      <td>4</td>\n",
       "      <td>141</td>\n",
       "      <td>25</td>\n",
       "      <td>Silverstein</td>\n",
       "      <td>Defend You</td>\n",
       "      <td>Discovering the Waterfront (Reissue)</td>\n",
       "      <td>29</td>\n",
       "      <td>0.327</td>\n",
       "      <td>0.988</td>\n",
       "      <td>4</td>\n",
       "      <td>-2.246</td>\n",
       "      <td>...</td>\n",
       "      <td>0.353</td>\n",
       "      <td>198.070</td>\n",
       "      <td>audio_features</td>\n",
       "      <td>7lpubMQy7uIVqltp6wVCpo</td>\n",
       "      <td>spotify:track:7lpubMQy7uIVqltp6wVCpo</td>\n",
       "      <td>https://api.spotify.com/v1/tracks/7lpubMQy7uIV...</td>\n",
       "      <td>https://api.spotify.com/v1/audio-analysis/7lpu...</td>\n",
       "      <td>208173</td>\n",
       "      <td>4</td>\n",
       "      <td>spotify:track:7lpubMQy7uIVqltp6wVCpo</td>\n",
       "    </tr>\n",
       "  </tbody>\n",
       "</table>\n",
       "<p>5 rows × 25 columns</p>\n",
       "</div>"
      ],
      "text/plain": [
       "   pid  pos         artist_name     track_name  \\\n",
       "0   37  126  Harry Connick, Jr.  What a Night!   \n",
       "1   57   58        Jack Johnson         Change   \n",
       "2   73  156            Bon Iver    ____45_____   \n",
       "3  122  137      Counting Crows      Rain King   \n",
       "4  141   25         Silverstein     Defend You   \n",
       "\n",
       "                             album_name  index  danceability  energy  key  \\\n",
       "0       What A Night! A Christmas Album      4         0.609   0.329    3   \n",
       "1               From Here To Now To You     64         0.752   0.405   11   \n",
       "2                         22, A Million     29         0.410   0.121    2   \n",
       "3           August And Everything After     78         0.492   0.879    9   \n",
       "4  Discovering the Waterfront (Reissue)     29         0.327   0.988    4   \n",
       "\n",
       "   loudness  ...  valence    tempo            type                      id  \\\n",
       "0   -10.762  ...    0.498  129.676  audio_features  3379BhHoOyWDkewjzpgZAv   \n",
       "1    -8.414  ...    0.321   92.975  audio_features  4WAoUYToqNAC6AGGslFxeo   \n",
       "2   -15.473  ...    0.177   86.359  audio_features  14iePHBA4OZzeMp0gtMehM   \n",
       "3    -6.723  ...    0.750  157.669  audio_features  7s4JCyY8YIZSsKvtwStBQ6   \n",
       "4    -2.246  ...    0.353  198.070  audio_features  7lpubMQy7uIVqltp6wVCpo   \n",
       "\n",
       "                                    uri  \\\n",
       "0  spotify:track:3379BhHoOyWDkewjzpgZAv   \n",
       "1  spotify:track:4WAoUYToqNAC6AGGslFxeo   \n",
       "2  spotify:track:14iePHBA4OZzeMp0gtMehM   \n",
       "3  spotify:track:7s4JCyY8YIZSsKvtwStBQ6   \n",
       "4  spotify:track:7lpubMQy7uIVqltp6wVCpo   \n",
       "\n",
       "                                          track_href  \\\n",
       "0  https://api.spotify.com/v1/tracks/3379BhHoOyWD...   \n",
       "1  https://api.spotify.com/v1/tracks/4WAoUYToqNAC...   \n",
       "2  https://api.spotify.com/v1/tracks/14iePHBA4OZz...   \n",
       "3  https://api.spotify.com/v1/tracks/7s4JCyY8YIZS...   \n",
       "4  https://api.spotify.com/v1/tracks/7lpubMQy7uIV...   \n",
       "\n",
       "                                        analysis_url duration_ms  \\\n",
       "0  https://api.spotify.com/v1/audio-analysis/3379...      203573   \n",
       "1  https://api.spotify.com/v1/audio-analysis/4WAo...      194053   \n",
       "2  https://api.spotify.com/v1/audio-analysis/14ie...      166107   \n",
       "3  https://api.spotify.com/v1/audio-analysis/7s4J...      255693   \n",
       "4  https://api.spotify.com/v1/audio-analysis/7lpu...      208173   \n",
       "\n",
       "  time_signature                               trackid  \n",
       "0              4  spotify:track:3379BhHoOyWDkewjzpgZAv  \n",
       "1              4  spotify:track:4WAoUYToqNAC6AGGslFxeo  \n",
       "2              3  spotify:track:14iePHBA4OZzeMp0gtMehM  \n",
       "3              4  spotify:track:7s4JCyY8YIZSsKvtwStBQ6  \n",
       "4              4  spotify:track:7lpubMQy7uIVqltp6wVCpo  \n",
       "\n",
       "[5 rows x 25 columns]"
      ]
     },
     "execution_count": 11,
     "metadata": {},
     "output_type": "execute_result"
    }
   ],
   "source": [
    "playlist_data.head()"
   ]
  },
  {
   "cell_type": "code",
   "execution_count": null,
   "metadata": {},
   "outputs": [],
   "source": [
    "trackcounts_by_playlist = playlists[[\"pid\", \"trackid\"]].groupby([\"pid\"]).agg([\"count\"])\n",
    "\n",
    "sns.set(color_codes=True)\n",
    "sns.distplot(trackcounts_by_playlist, kde=False);\n"
   ]
  }
 ],
 "metadata": {
  "kernelspec": {
   "display_name": "cs109a",
   "language": "python",
   "name": "cs109a"
  },
  "language_info": {
   "codemirror_mode": {
    "name": "ipython",
    "version": 3
   },
   "file_extension": ".py",
   "mimetype": "text/x-python",
   "name": "python",
   "nbconvert_exporter": "python",
   "pygments_lexer": "ipython3",
   "version": "3.7.4"
  }
 },
 "nbformat": 4,
 "nbformat_minor": 2
}
