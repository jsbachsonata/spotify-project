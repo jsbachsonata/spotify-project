{
 "cells": [
  {
   "cell_type": "code",
   "execution_count": 2,
   "metadata": {},
   "outputs": [],
   "source": [
    "import glob\n",
    "import pandas as pd\n",
    "import numpy as np\n",
    "import matplotlib.pyplot as plt\n",
    "import seaborn as sns\n",
    "from scipy.sparse import csr_matrix\n",
    "from sklearn.cluster import KMeans\n",
    "from sklearn.preprocessing import MinMaxScaler\n",
    "from sklearn.model_selection import train_test_split\n",
    "from sklearn.neighbors import KNeighborsClassifier\n",
    "from sklearn.model_selection import cross_val_score\n",
    "from sklearn.metrics import accuracy_score\n",
    "from sklearn.model_selection import KFold\n",
    "\n",
    "# def explicit():\n",
    "#     from google.cloud import storage\n",
    "\n",
    "#     # Explicitly use service account credentials by specifying the private key\n",
    "#     # file.\n",
    "#     storage_client = storage.Client.from_service_account_json(\n",
    "#         '..\\config\\credentials.json')\n",
    "\n",
    "#     # Make an authenticated API request\n",
    "#     buckets = list(storage_client.list_buckets())\n",
    "#     print(buckets)\n",
    "    \n",
    "# explicit()\n",
    "\n",
    "import os\n",
    "os.environ[\"GOOGLE_APPLICATION_CREDENTIALS\"] = \"..\\config\\credentials.json\"\n",
    "from tqdm import tqdm_notebook\n",
    "import warnings\n",
    "warnings.filterwarnings('ignore')"
   ]
  },
  {
   "cell_type": "code",
   "execution_count": 3,
   "metadata": {},
   "outputs": [],
   "source": [
    "%reload_ext google.cloud.bigquery"
   ]
  },
  {
   "cell_type": "code",
   "execution_count": 4,
   "metadata": {},
   "outputs": [
    {
     "data": {
      "text/html": [
       "<div>\n",
       "<style scoped>\n",
       "    .dataframe tbody tr th:only-of-type {\n",
       "        vertical-align: middle;\n",
       "    }\n",
       "\n",
       "    .dataframe tbody tr th {\n",
       "        vertical-align: top;\n",
       "    }\n",
       "\n",
       "    .dataframe thead th {\n",
       "        text-align: right;\n",
       "    }\n",
       "</style>\n",
       "<table border=\"1\" class=\"dataframe\">\n",
       "  <thead>\n",
       "    <tr style=\"text-align: right;\">\n",
       "      <th></th>\n",
       "      <th>f0_</th>\n",
       "    </tr>\n",
       "  </thead>\n",
       "  <tbody>\n",
       "    <tr>\n",
       "      <th>0</th>\n",
       "      <td>909100</td>\n",
       "    </tr>\n",
       "  </tbody>\n",
       "</table>\n",
       "</div>"
      ],
      "text/plain": [
       "      f0_\n",
       "0  909100"
      ]
     },
     "execution_count": 4,
     "metadata": {},
     "output_type": "execute_result"
    }
   ],
   "source": [
    "%%bigquery\n",
    "SELECT\n",
    "    COUNT(DISTINCT(unique_pid))\n",
    "FROM\n",
    "    playlist_songs.playlists;\n"
   ]
  },
  {
   "cell_type": "code",
   "execution_count": 5,
   "metadata": {},
   "outputs": [
    {
     "data": {
      "text/html": [
       "<div>\n",
       "<style scoped>\n",
       "    .dataframe tbody tr th:only-of-type {\n",
       "        vertical-align: middle;\n",
       "    }\n",
       "\n",
       "    .dataframe tbody tr th {\n",
       "        vertical-align: top;\n",
       "    }\n",
       "\n",
       "    .dataframe thead th {\n",
       "        text-align: right;\n",
       "    }\n",
       "</style>\n",
       "<table border=\"1\" class=\"dataframe\">\n",
       "  <thead>\n",
       "    <tr style=\"text-align: right;\">\n",
       "      <th></th>\n",
       "      <th>f0_</th>\n",
       "    </tr>\n",
       "  </thead>\n",
       "  <tbody>\n",
       "    <tr>\n",
       "      <th>0</th>\n",
       "      <td>66346428</td>\n",
       "    </tr>\n",
       "  </tbody>\n",
       "</table>\n",
       "</div>"
      ],
      "text/plain": [
       "        f0_\n",
       "0  66346428"
      ]
     },
     "execution_count": 5,
     "metadata": {},
     "output_type": "execute_result"
    }
   ],
   "source": [
    "%%bigquery\n",
    "SELECT\n",
    "    COUNT(unique_pid)\n",
    "FROM\n",
    "    playlist_songs.playlists;"
   ]
  },
  {
   "cell_type": "markdown",
   "metadata": {},
   "source": [
    "1. Get all tracks from random list of 1000 playlists. The limiting dimension is the playlist.\n",
    "2. Train test split the data"
   ]
  },
  {
   "cell_type": "code",
   "execution_count": 6,
   "metadata": {},
   "outputs": [],
   "source": [
    "%%bigquery playlist_tracks\n",
    "SELECT\n",
    "    ps.unique_pid, \n",
    "    ps.artist_name, \n",
    "    ps.track_name, \n",
    "    ps.album_name, \n",
    "    th.trackid,\n",
    "    th.danceability,\n",
    "    th.energy,\n",
    "    th.key,\n",
    "    th.loudness,\n",
    "    th.mode,\n",
    "    th.speechiness,\n",
    "    th.acousticness,\n",
    "    th.instrumentalness,\n",
    "    th.liveness,\n",
    "    th.valence,\n",
    "    th.tempo,\n",
    "    th.duration_ms,\n",
    "    th.time_signature\n",
    "FROM\n",
    "    (SELECT \n",
    "        unique_pid\n",
    "    FROM\n",
    "        (SELECT\n",
    "            unique_pid\n",
    "        FROM\n",
    "            playlist_songs.playlists\n",
    "        GROUP BY\n",
    "            unique_pid)\n",
    "    WHERE\n",
    "    RAND() < 500/909100 ) as ps_id\n",
    "    INNER JOIN\n",
    "    playlist_songs.playlists as ps\n",
    "    ON ps_id.unique_pid = ps.unique_pid\n",
    "    INNER JOIN\n",
    "    playlist_songs.tracks_headers as th\n",
    "    ON th.trackid = ps.track_uri;"
   ]
  },
  {
   "cell_type": "code",
   "execution_count": 7,
   "metadata": {},
   "outputs": [
    {
     "data": {
      "text/html": [
       "<div>\n",
       "<style scoped>\n",
       "    .dataframe tbody tr th:only-of-type {\n",
       "        vertical-align: middle;\n",
       "    }\n",
       "\n",
       "    .dataframe tbody tr th {\n",
       "        vertical-align: top;\n",
       "    }\n",
       "\n",
       "    .dataframe thead th {\n",
       "        text-align: right;\n",
       "    }\n",
       "</style>\n",
       "<table border=\"1\" class=\"dataframe\">\n",
       "  <thead>\n",
       "    <tr style=\"text-align: right;\">\n",
       "      <th></th>\n",
       "      <th>unique_pid</th>\n",
       "      <th>artist_name</th>\n",
       "      <th>track_name</th>\n",
       "      <th>album_name</th>\n",
       "      <th>trackid</th>\n",
       "      <th>danceability</th>\n",
       "      <th>energy</th>\n",
       "      <th>key</th>\n",
       "      <th>loudness</th>\n",
       "      <th>mode</th>\n",
       "      <th>speechiness</th>\n",
       "      <th>acousticness</th>\n",
       "      <th>instrumentalness</th>\n",
       "      <th>liveness</th>\n",
       "      <th>valence</th>\n",
       "      <th>tempo</th>\n",
       "      <th>duration_ms</th>\n",
       "      <th>time_signature</th>\n",
       "    </tr>\n",
       "  </thead>\n",
       "  <tbody>\n",
       "    <tr>\n",
       "      <th>0</th>\n",
       "      <td>29954</td>\n",
       "      <td>Cher Lloyd</td>\n",
       "      <td>I Wish</td>\n",
       "      <td>Sorry I'm Late</td>\n",
       "      <td>spotify:track:4trx1lgbQ9FtrI5V9Y8C5Y</td>\n",
       "      <td>0.62</td>\n",
       "      <td>0.812</td>\n",
       "      <td>0</td>\n",
       "      <td>-5.673</td>\n",
       "      <td>0</td>\n",
       "      <td>0.181</td>\n",
       "      <td>0.0627</td>\n",
       "      <td>0.0</td>\n",
       "      <td>0.876</td>\n",
       "      <td>0.683</td>\n",
       "      <td>91.97</td>\n",
       "      <td>212347</td>\n",
       "      <td>4</td>\n",
       "    </tr>\n",
       "  </tbody>\n",
       "</table>\n",
       "</div>"
      ],
      "text/plain": [
       "   unique_pid artist_name track_name      album_name  \\\n",
       "0       29954  Cher Lloyd     I Wish  Sorry I'm Late   \n",
       "\n",
       "                                trackid  danceability  energy  key  loudness  \\\n",
       "0  spotify:track:4trx1lgbQ9FtrI5V9Y8C5Y          0.62   0.812    0    -5.673   \n",
       "\n",
       "   mode  speechiness  acousticness  instrumentalness  liveness  valence  \\\n",
       "0     0        0.181        0.0627               0.0     0.876    0.683   \n",
       "\n",
       "   tempo  duration_ms  time_signature  \n",
       "0  91.97       212347               4  "
      ]
     },
     "execution_count": 7,
     "metadata": {},
     "output_type": "execute_result"
    }
   ],
   "source": [
    "playlist_tracks.head(1)"
   ]
  },
  {
   "cell_type": "code",
   "execution_count": 8,
   "metadata": {},
   "outputs": [],
   "source": [
    "playlist_analysis = playlist_tracks[['unique_pid', 'trackid','danceability', 'energy', 'key', 'loudness', 'mode', 'speechiness',\n",
    "            'acousticness', 'instrumentalness', 'liveness', 'valence', 'tempo',\n",
    "            'duration_ms', 'time_signature']]\n",
    "\n",
    "playlist_song_info = playlist_tracks[['trackid', 'artist_name', 'track_name', 'album_name']]"
   ]
  },
  {
   "cell_type": "code",
   "execution_count": 20,
   "metadata": {},
   "outputs": [],
   "source": [
    "# create column of ones for data spread procedure later\n",
    "playlist_analysis.loc[:, 'one'] = 1\n",
    "# data spread procedure - group by track and features one hot encode playlist assignments\n",
    "playlist_analysis = playlist_analysis.drop_duplicates(subset=['unique_pid', 'trackid'])\n",
    "\n",
    "#create train and test (stratified by playlist)\n",
    "train, test = train_test_split(playlist_analysis, train_size=0.8, stratify=playlist_analysis.unique_pid)"
   ]
  },
  {
   "cell_type": "code",
   "execution_count": 21,
   "metadata": {},
   "outputs": [],
   "source": [
    "playlist_train_one_hot = train.pivot(index=\"trackid\", columns='unique_pid', values=\"one\")\n",
    "playlist_train_one_hot = playlist_train_one_hot.fillna(value=0)"
   ]
  },
  {
   "cell_type": "code",
   "execution_count": 23,
   "metadata": {},
   "outputs": [],
   "source": [
    "playlist_test_one_hot = test.pivot(index=\"trackid\", columns='unique_pid', values=\"one\")\n",
    "playlist_test_one_hot = playlist_test_one_hot.fillna(value=0)"
   ]
  },
  {
   "cell_type": "code",
   "execution_count": 24,
   "metadata": {},
   "outputs": [],
   "source": [
    "# get histogram of songs associated with # playlists\n",
    "playlist_train_one_hot.loc[:, \"sum\"] = playlist_train_one_hot.sum(axis = 1)"
   ]
  },
  {
   "cell_type": "code",
   "execution_count": 25,
   "metadata": {},
   "outputs": [
    {
     "data": {
      "text/html": [
       "<div>\n",
       "<style scoped>\n",
       "    .dataframe tbody tr th:only-of-type {\n",
       "        vertical-align: middle;\n",
       "    }\n",
       "\n",
       "    .dataframe tbody tr th {\n",
       "        vertical-align: top;\n",
       "    }\n",
       "\n",
       "    .dataframe thead th {\n",
       "        text-align: right;\n",
       "    }\n",
       "</style>\n",
       "<table border=\"1\" class=\"dataframe\">\n",
       "  <thead>\n",
       "    <tr style=\"text-align: right;\">\n",
       "      <th>unique_pid</th>\n",
       "      <th>29</th>\n",
       "      <th>1199</th>\n",
       "      <th>2327</th>\n",
       "      <th>4036</th>\n",
       "      <th>5971</th>\n",
       "      <th>6589</th>\n",
       "      <th>8455</th>\n",
       "      <th>8859</th>\n",
       "      <th>9267</th>\n",
       "      <th>9338</th>\n",
       "      <th>...</th>\n",
       "      <th>985294</th>\n",
       "      <th>986325</th>\n",
       "      <th>987374</th>\n",
       "      <th>989834</th>\n",
       "      <th>995739</th>\n",
       "      <th>995930</th>\n",
       "      <th>996430</th>\n",
       "      <th>997228</th>\n",
       "      <th>998563</th>\n",
       "      <th>sum</th>\n",
       "    </tr>\n",
       "    <tr>\n",
       "      <th>trackid</th>\n",
       "      <th></th>\n",
       "      <th></th>\n",
       "      <th></th>\n",
       "      <th></th>\n",
       "      <th></th>\n",
       "      <th></th>\n",
       "      <th></th>\n",
       "      <th></th>\n",
       "      <th></th>\n",
       "      <th></th>\n",
       "      <th></th>\n",
       "      <th></th>\n",
       "      <th></th>\n",
       "      <th></th>\n",
       "      <th></th>\n",
       "      <th></th>\n",
       "      <th></th>\n",
       "      <th></th>\n",
       "      <th></th>\n",
       "      <th></th>\n",
       "      <th></th>\n",
       "    </tr>\n",
       "  </thead>\n",
       "  <tbody>\n",
       "    <tr>\n",
       "      <th>spotify:track:000xQL6tZNLJzIrtIgxqSl</th>\n",
       "      <td>0.0</td>\n",
       "      <td>0.0</td>\n",
       "      <td>0.0</td>\n",
       "      <td>0.0</td>\n",
       "      <td>0.0</td>\n",
       "      <td>0.0</td>\n",
       "      <td>0.0</td>\n",
       "      <td>0.0</td>\n",
       "      <td>0.0</td>\n",
       "      <td>0.0</td>\n",
       "      <td>...</td>\n",
       "      <td>0.0</td>\n",
       "      <td>0.0</td>\n",
       "      <td>0.0</td>\n",
       "      <td>0.0</td>\n",
       "      <td>0.0</td>\n",
       "      <td>0.0</td>\n",
       "      <td>0.0</td>\n",
       "      <td>0.0</td>\n",
       "      <td>0.0</td>\n",
       "      <td>6.0</td>\n",
       "    </tr>\n",
       "    <tr>\n",
       "      <th>spotify:track:004XT7kCZUEJkVIZjmBdDi</th>\n",
       "      <td>0.0</td>\n",
       "      <td>0.0</td>\n",
       "      <td>0.0</td>\n",
       "      <td>0.0</td>\n",
       "      <td>0.0</td>\n",
       "      <td>0.0</td>\n",
       "      <td>0.0</td>\n",
       "      <td>0.0</td>\n",
       "      <td>0.0</td>\n",
       "      <td>0.0</td>\n",
       "      <td>...</td>\n",
       "      <td>0.0</td>\n",
       "      <td>0.0</td>\n",
       "      <td>0.0</td>\n",
       "      <td>0.0</td>\n",
       "      <td>0.0</td>\n",
       "      <td>0.0</td>\n",
       "      <td>0.0</td>\n",
       "      <td>0.0</td>\n",
       "      <td>0.0</td>\n",
       "      <td>1.0</td>\n",
       "    </tr>\n",
       "    <tr>\n",
       "      <th>spotify:track:006OOiqUx3g0CahPEexw4f</th>\n",
       "      <td>0.0</td>\n",
       "      <td>0.0</td>\n",
       "      <td>0.0</td>\n",
       "      <td>0.0</td>\n",
       "      <td>0.0</td>\n",
       "      <td>0.0</td>\n",
       "      <td>0.0</td>\n",
       "      <td>0.0</td>\n",
       "      <td>0.0</td>\n",
       "      <td>0.0</td>\n",
       "      <td>...</td>\n",
       "      <td>0.0</td>\n",
       "      <td>0.0</td>\n",
       "      <td>0.0</td>\n",
       "      <td>0.0</td>\n",
       "      <td>0.0</td>\n",
       "      <td>0.0</td>\n",
       "      <td>0.0</td>\n",
       "      <td>0.0</td>\n",
       "      <td>0.0</td>\n",
       "      <td>1.0</td>\n",
       "    </tr>\n",
       "    <tr>\n",
       "      <th>spotify:track:006yrnQMCZpiUgkR612gC8</th>\n",
       "      <td>0.0</td>\n",
       "      <td>0.0</td>\n",
       "      <td>0.0</td>\n",
       "      <td>0.0</td>\n",
       "      <td>0.0</td>\n",
       "      <td>0.0</td>\n",
       "      <td>0.0</td>\n",
       "      <td>0.0</td>\n",
       "      <td>0.0</td>\n",
       "      <td>0.0</td>\n",
       "      <td>...</td>\n",
       "      <td>0.0</td>\n",
       "      <td>0.0</td>\n",
       "      <td>0.0</td>\n",
       "      <td>0.0</td>\n",
       "      <td>0.0</td>\n",
       "      <td>0.0</td>\n",
       "      <td>0.0</td>\n",
       "      <td>0.0</td>\n",
       "      <td>0.0</td>\n",
       "      <td>1.0</td>\n",
       "    </tr>\n",
       "    <tr>\n",
       "      <th>spotify:track:00BuKLSAFkaEkaVAgIMbeA</th>\n",
       "      <td>0.0</td>\n",
       "      <td>0.0</td>\n",
       "      <td>0.0</td>\n",
       "      <td>0.0</td>\n",
       "      <td>0.0</td>\n",
       "      <td>0.0</td>\n",
       "      <td>0.0</td>\n",
       "      <td>0.0</td>\n",
       "      <td>0.0</td>\n",
       "      <td>0.0</td>\n",
       "      <td>...</td>\n",
       "      <td>0.0</td>\n",
       "      <td>0.0</td>\n",
       "      <td>0.0</td>\n",
       "      <td>0.0</td>\n",
       "      <td>0.0</td>\n",
       "      <td>0.0</td>\n",
       "      <td>0.0</td>\n",
       "      <td>0.0</td>\n",
       "      <td>0.0</td>\n",
       "      <td>1.0</td>\n",
       "    </tr>\n",
       "  </tbody>\n",
       "</table>\n",
       "<p>5 rows × 527 columns</p>\n",
       "</div>"
      ],
      "text/plain": [
       "unique_pid                             29  1199  2327  4036  5971  6589  8455  \\\n",
       "trackid                                                                         \n",
       "spotify:track:000xQL6tZNLJzIrtIgxqSl  0.0   0.0   0.0   0.0   0.0   0.0   0.0   \n",
       "spotify:track:004XT7kCZUEJkVIZjmBdDi  0.0   0.0   0.0   0.0   0.0   0.0   0.0   \n",
       "spotify:track:006OOiqUx3g0CahPEexw4f  0.0   0.0   0.0   0.0   0.0   0.0   0.0   \n",
       "spotify:track:006yrnQMCZpiUgkR612gC8  0.0   0.0   0.0   0.0   0.0   0.0   0.0   \n",
       "spotify:track:00BuKLSAFkaEkaVAgIMbeA  0.0   0.0   0.0   0.0   0.0   0.0   0.0   \n",
       "\n",
       "unique_pid                            8859  9267  9338  ...  985294  986325  \\\n",
       "trackid                                                 ...                   \n",
       "spotify:track:000xQL6tZNLJzIrtIgxqSl   0.0   0.0   0.0  ...     0.0     0.0   \n",
       "spotify:track:004XT7kCZUEJkVIZjmBdDi   0.0   0.0   0.0  ...     0.0     0.0   \n",
       "spotify:track:006OOiqUx3g0CahPEexw4f   0.0   0.0   0.0  ...     0.0     0.0   \n",
       "spotify:track:006yrnQMCZpiUgkR612gC8   0.0   0.0   0.0  ...     0.0     0.0   \n",
       "spotify:track:00BuKLSAFkaEkaVAgIMbeA   0.0   0.0   0.0  ...     0.0     0.0   \n",
       "\n",
       "unique_pid                            987374  989834  995739  995930  996430  \\\n",
       "trackid                                                                        \n",
       "spotify:track:000xQL6tZNLJzIrtIgxqSl     0.0     0.0     0.0     0.0     0.0   \n",
       "spotify:track:004XT7kCZUEJkVIZjmBdDi     0.0     0.0     0.0     0.0     0.0   \n",
       "spotify:track:006OOiqUx3g0CahPEexw4f     0.0     0.0     0.0     0.0     0.0   \n",
       "spotify:track:006yrnQMCZpiUgkR612gC8     0.0     0.0     0.0     0.0     0.0   \n",
       "spotify:track:00BuKLSAFkaEkaVAgIMbeA     0.0     0.0     0.0     0.0     0.0   \n",
       "\n",
       "unique_pid                            997228  998563  sum  \n",
       "trackid                                                    \n",
       "spotify:track:000xQL6tZNLJzIrtIgxqSl     0.0     0.0  6.0  \n",
       "spotify:track:004XT7kCZUEJkVIZjmBdDi     0.0     0.0  1.0  \n",
       "spotify:track:006OOiqUx3g0CahPEexw4f     0.0     0.0  1.0  \n",
       "spotify:track:006yrnQMCZpiUgkR612gC8     0.0     0.0  1.0  \n",
       "spotify:track:00BuKLSAFkaEkaVAgIMbeA     0.0     0.0  1.0  \n",
       "\n",
       "[5 rows x 527 columns]"
      ]
     },
     "execution_count": 25,
     "metadata": {},
     "output_type": "execute_result"
    }
   ],
   "source": [
    "playlist_train_one_hot.head()"
   ]
  },
  {
   "cell_type": "code",
   "execution_count": 26,
   "metadata": {},
   "outputs": [],
   "source": [
    "playlist_distribution = playlist_train_one_hot.groupby(\"sum\")[\"sum\"].count()"
   ]
  },
  {
   "cell_type": "code",
   "execution_count": 27,
   "metadata": {},
   "outputs": [
    {
     "data": {
      "text/plain": [
       "sum\n",
       "1.0     16096\n",
       "2.0      2264\n",
       "3.0       891\n",
       "4.0       433\n",
       "5.0       263\n",
       "6.0       147\n",
       "7.0       110\n",
       "8.0        71\n",
       "9.0        56\n",
       "10.0       45\n",
       "11.0       19\n",
       "12.0       20\n",
       "13.0       17\n",
       "14.0        6\n",
       "15.0        7\n",
       "16.0        4\n",
       "17.0        4\n",
       "18.0        3\n",
       "19.0        1\n",
       "20.0        2\n",
       "27.0        1\n",
       "Name: sum, dtype: int64"
      ]
     },
     "execution_count": 27,
     "metadata": {},
     "output_type": "execute_result"
    }
   ],
   "source": [
    "playlist_distribution"
   ]
  },
  {
   "cell_type": "code",
   "execution_count": 28,
   "metadata": {},
   "outputs": [],
   "source": [
    "# get all playlist numbers\n",
    "playlist_numbers = [i for i in playlist_train_one_hot.columns if i not in ['trackid', 'sum']]\n",
    "# merge features with one-hot list\n",
    "playlist_features = playlist_analysis[['trackid','danceability', 'energy', 'key', 'loudness', 'mode', 'speechiness',\n",
    "            'acousticness', 'instrumentalness', 'liveness', 'valence', 'tempo',\n",
    "            'duration_ms', 'time_signature']]\n",
    "playlist_train_one_hot = playlist_train_one_hot.drop(\"sum\", axis = 1)"
   ]
  },
  {
   "cell_type": "code",
   "execution_count": 31,
   "metadata": {},
   "outputs": [],
   "source": [
    "playlist_train_one_hot_w_features = playlist_train_one_hot.merge(playlist_features, on=\"trackid\", how=\"inner\")\n",
    "playlist_test_one_hot_w_features = playlist_test_one_hot.merge(playlist_features, on=\"trackid\", how=\"inner\")"
   ]
  },
  {
   "cell_type": "code",
   "execution_count": 32,
   "metadata": {},
   "outputs": [
    {
     "name": "stdout",
     "output_type": "stream",
     "text": [
      "(34241, 13)\n",
      "(34241, 526)\n"
     ]
    }
   ],
   "source": [
    "y_train = playlist_train_one_hot_w_features[playlist_numbers]\n",
    "y_test = playlist_test_one_hot_w_features[playlist_numbers]\n",
    "X_train = playlist_train_one_hot_w_features[['danceability', 'energy', 'key', 'loudness', 'mode', 'speechiness',\n",
    "            'acousticness', 'instrumentalness', 'liveness', 'valence', 'tempo',\n",
    "            'duration_ms', 'time_signature']]\n",
    "X_test = playlist_test_one_hot_w_features[['danceability', 'energy', 'key', 'loudness', 'mode', 'speechiness',\n",
    "            'acousticness', 'instrumentalness', 'liveness', 'valence', 'tempo',\n",
    "            'duration_ms', 'time_signature']]\n",
    "\n",
    "print(X_train.shape)\n",
    "print(y_train.shape)\n",
    "X_test = X_test.fillna(-1) #if na then fill with -1\n",
    "X_train = X_train.fillna(-1) #if na then fill with -1"
   ]
  },
  {
   "cell_type": "code",
   "execution_count": 33,
   "metadata": {},
   "outputs": [],
   "source": [
    "# convert to np arrays\n",
    "X_train = np.array(X_train)\n",
    "X_test = np.array(X_test)\n",
    "y_train = np.array(y_train)\n",
    "y_test = np.array(y_test)"
   ]
  },
  {
   "cell_type": "markdown",
   "metadata": {},
   "source": [
    "Now train model using k-nearest neighbors mahalanobis distance for one model and then extend to multiple models"
   ]
  },
  {
   "cell_type": "code",
   "execution_count": 263,
   "metadata": {},
   "outputs": [
    {
     "data": {
      "application/vnd.jupyter.widget-view+json": {
       "model_id": "ad5d70f3aa984918899150c01822abdf",
       "version_major": 2,
       "version_minor": 0
      },
      "text/plain": [
       "HBox(children=(IntProgress(value=0, max=1920), HTML(value='')))"
      ]
     },
     "metadata": {},
     "output_type": "display_data"
    },
    {
     "name": "stdout",
     "output_type": "stream",
     "text": [
      "\n"
     ]
    }
   ],
   "source": [
    "ks = [2, 5, 7, 10]\n",
    "output = []\n",
    "playlists = range(0, len(playlist_numbers))\n",
    "\n",
    "total_loops = len(playlists) * len(ks)\n",
    "with tqdm_notebook(total=total_loops) as pbar:\n",
    "    for playlist in playlists:\n",
    "        for k in ks:\n",
    "            # https://towardsdatascience.com/building-a-k-nearest-neighbors-k-nn-model-with-scikit-learn-51209555453a\n",
    "#             print(f'''**************************************'''\n",
    "#                   f'''\\nRunning kNN classification for k={k}''')\n",
    "            knn_cv = KNeighborsClassifier(n_neighbors=k, metric='euclidean')\n",
    "            cv_accuracy = cross_val_score(knn_cv, X_train, y_train[:, playlist], cv=5, scoring='accuracy')\n",
    "            cv_f1_score = cross_val_score(knn_cv, X_train, y_train[:, playlist], cv=5, scoring='F1')\n",
    "            fit = knn_cv.fit(X_train, y_train[:, playlist])\n",
    "            test_accuracy = accuracy_score(y_test, fit.predict(X_test))\n",
    "            test_f1 = f1_score(y_test, fit.predict(X_test))\n",
    "            output.append({\"k\": k, \"cv_accuracy_mean\": np.mean(cv_accuracy), \"cv_f1_mean\": np.mean(cv_f1_score), \"playlist\": playlist})\n",
    "#             print(f'''cv_scores: {cv_scores}''')\n",
    "#             print(f'''cv_scores mean: {np.mean(cv_scores)}''')\n",
    "            pbar.update(1)\n",
    "\n"
   ]
  },
  {
   "cell_type": "code",
   "execution_count": 270,
   "metadata": {},
   "outputs": [
    {
     "name": "stdout",
     "output_type": "stream",
     "text": [
      "plot of mean cv scores for k=2 for multiple play lists\n"
     ]
    },
    {
     "data": {
      "image/png": "[encoded data removed]",
      "text/plain": [
       "<Figure size 432x288 with 1 Axes>"
      ]
     },
     "metadata": {
      "needs_background": "light"
     },
     "output_type": "display_data"
    },
    {
     "name": "stdout",
     "output_type": "stream",
     "text": [
      "plot of mean cv scores for k=5 for multiple play lists\n"
     ]
    },
    {
     "data": {
      "image/png": "[encoded data removed]",
      "text/plain": [
       "<Figure size 432x288 with 1 Axes>"
      ]
     },
     "metadata": {
      "needs_background": "light"
     },
     "output_type": "display_data"
    },
    {
     "name": "stdout",
     "output_type": "stream",
     "text": [
      "plot of mean cv scores for k=7 for multiple play lists\n"
     ]
    },
    {
     "data": {
      "image/png": "[encoded data removed]",
      "text/plain": [
       "<Figure size 432x288 with 1 Axes>"
      ]
     },
     "metadata": {
      "needs_background": "light"
     },
     "output_type": "display_data"
    },
    {
     "name": "stdout",
     "output_type": "stream",
     "text": [
      "plot of mean cv scores for k=10 for multiple play lists\n"
     ]
    },
    {
     "data": {
      "image/png": "[encoded data removed]",
      "text/plain": [
       "<Figure size 432x288 with 1 Axes>"
      ]
     },
     "metadata": {
      "needs_background": "light"
     },
     "output_type": "display_data"
    },
    {
     "data": {
      "image/png": "[encoded data removed]",
      "text/plain": [
       "<Figure size 432x288 with 1 Axes>"
      ]
     },
     "metadata": {
      "needs_background": "light"
     },
     "output_type": "display_data"
    }
   ],
   "source": [
    "output = pd.DataFrame(output)\n",
    "\n",
    "sns.violinplot(x=output.k,y=output.accuracy_mean)\n",
    "plt.title(\"model accuracies for each k\")\n",
    "plt.show()\n",
    "\n",
    "for k in ks:\n",
    "    print(f\"plot of mean cv scores for k={k} for multiple play lists\")\n",
    "    subset = output.loc[output.k==k,:]\n",
    "    plt.hist(subset[\"accuracy_mean\"])\n",
    "    plt.xlabel(\"accuracy for each playlist model\")\n",
    "    plt.ylabel(\"number of playlist models\")\n",
    "    plt.show()\n",
    "    \n",
    "\n"
   ]
  },
  {
   "cell_type": "code",
   "execution_count": null,
   "metadata": {},
   "outputs": [],
   "source": [
    "ks = [2, 5, 7, 10]\n",
    "output = []\n",
    "playlists = range(0, len(playlist_numbers))\n",
    "\n",
    "total_loops = len(playlists) * len(ks)\n",
    "with tqdm_notebook(total=total_loops) as pbar:\n",
    "    for playlist in playlists:\n",
    "        for k in ks:\n",
    "            # https://towardsdatascience.com/building-a-k-nearest-neighbors-k-nn-model-with-scikit-learn-51209555453a\n",
    "#             print(f'''**************************************'''\n",
    "#                   f'''\\nRunning kNN classification for k={k}''')\n",
    "            knn_cv = KNeighborsClassifier(n_neighbors=k, metric='euclidean')\n",
    "            cv_scores = cross_val_score(knn_cv, X_train, y_train[:, playlist], cv=5, scoring='F1')\n",
    "            output.append({\"k\": k, \"cv_scores_mean\": np.mean(cv_scores), \"playlist\": playlist})\n",
    "#             print(f'''cv_scores: {cv_scores}''')\n",
    "#             print(f'''cv_scores mean: {np.mean(cv_scores)}''')\n",
    "            pbar.update(1)\n"
   ]
  }
 ],
 "metadata": {
  "kernelspec": {
   "display_name": "Python 3",
   "language": "python",
   "name": "python3"
  },
  "language_info": {
   "codemirror_mode": {
    "name": "ipython",
    "version": 3
   },
   "file_extension": ".py",
   "mimetype": "text/x-python",
   "name": "python",
   "nbconvert_exporter": "python",
   "pygments_lexer": "ipython3",
   "version": "3.7.3"
  }
 },
 "nbformat": 4,
 "nbformat_minor": 4
}
