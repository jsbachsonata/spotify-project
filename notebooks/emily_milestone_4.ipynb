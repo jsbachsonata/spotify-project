{
 "cells": [
  {
   "cell_type": "code",
   "execution_count": 124,
   "metadata": {},
   "outputs": [],
   "source": [
    "import glob\n",
    "import pandas as pd\n",
    "import numpy as np\n",
    "import matplotlib.pyplot as plt\n",
    "import seaborn as sns\n",
    "from scipy.sparse import csr_matrix\n",
    "from sklearn.cluster import KMeans\n",
    "from sklearn.preprocessing import MinMaxScaler\n",
    "from sklearn.model_selection import train_test_split\n",
    "from sklearn.neighbors import KNeighborsClassifier\n",
    "from sklearn.model_selection import cross_val_score\n",
    "from sklearn.metrics import accuracy_score\n",
    "from sklearn.model_selection import KFold\n",
    "\n",
    "# Imports for logistic Regression\n",
    "from sklearn.linear_model import LogisticRegressionCV\n",
    "from sklearn.linear_model import LogisticRegression\n",
    "from sklearn.metrics import accuracy_score\n",
    "from sklearn.model_selection import cross_val_score\n",
    "from sklearn.metrics import f1_score\n",
    "\n",
    "import os\n",
    "from tqdm import tqdm_notebook\n",
    "\n",
    "import warnings\n",
    "warnings.filterwarnings('ignore')"
   ]
  },
  {
   "cell_type": "code",
   "execution_count": 2,
   "metadata": {},
   "outputs": [],
   "source": [
    "%reload_ext google.cloud.bigquery"
   ]
  },
  {
   "cell_type": "code",
   "execution_count": 3,
   "metadata": {},
   "outputs": [
    {
     "data": {
      "text/html": [
       "<div>\n",
       "<style scoped>\n",
       "    .dataframe tbody tr th:only-of-type {\n",
       "        vertical-align: middle;\n",
       "    }\n",
       "\n",
       "    .dataframe tbody tr th {\n",
       "        vertical-align: top;\n",
       "    }\n",
       "\n",
       "    .dataframe thead th {\n",
       "        text-align: right;\n",
       "    }\n",
       "</style>\n",
       "<table border=\"1\" class=\"dataframe\">\n",
       "  <thead>\n",
       "    <tr style=\"text-align: right;\">\n",
       "      <th></th>\n",
       "      <th>f0_</th>\n",
       "    </tr>\n",
       "  </thead>\n",
       "  <tbody>\n",
       "    <tr>\n",
       "      <th>0</th>\n",
       "      <td>909100</td>\n",
       "    </tr>\n",
       "  </tbody>\n",
       "</table>\n",
       "</div>"
      ],
      "text/plain": [
       "      f0_\n",
       "0  909100"
      ]
     },
     "execution_count": 3,
     "metadata": {},
     "output_type": "execute_result"
    }
   ],
   "source": [
    "%%bigquery\n",
    "SELECT\n",
    "    COUNT(DISTINCT(unique_pid))\n",
    "FROM\n",
    "    playlist_songs.playlists;\n"
   ]
  },
  {
   "cell_type": "code",
   "execution_count": 4,
   "metadata": {},
   "outputs": [
    {
     "data": {
      "text/html": [
       "<div>\n",
       "<style scoped>\n",
       "    .dataframe tbody tr th:only-of-type {\n",
       "        vertical-align: middle;\n",
       "    }\n",
       "\n",
       "    .dataframe tbody tr th {\n",
       "        vertical-align: top;\n",
       "    }\n",
       "\n",
       "    .dataframe thead th {\n",
       "        text-align: right;\n",
       "    }\n",
       "</style>\n",
       "<table border=\"1\" class=\"dataframe\">\n",
       "  <thead>\n",
       "    <tr style=\"text-align: right;\">\n",
       "      <th></th>\n",
       "      <th>f0_</th>\n",
       "    </tr>\n",
       "  </thead>\n",
       "  <tbody>\n",
       "    <tr>\n",
       "      <th>0</th>\n",
       "      <td>66346428</td>\n",
       "    </tr>\n",
       "  </tbody>\n",
       "</table>\n",
       "</div>"
      ],
      "text/plain": [
       "        f0_\n",
       "0  66346428"
      ]
     },
     "execution_count": 4,
     "metadata": {},
     "output_type": "execute_result"
    }
   ],
   "source": [
    "%%bigquery\n",
    "SELECT\n",
    "    COUNT(unique_pid)\n",
    "FROM\n",
    "    playlist_songs.playlists;"
   ]
  },
  {
   "cell_type": "markdown",
   "metadata": {},
   "source": [
    "1. Get all tracks from random list of 1000 playlists. The limiting dimension is the playlist.\n",
    "2. Train test split the data"
   ]
  },
  {
   "cell_type": "code",
   "execution_count": 77,
   "metadata": {},
   "outputs": [],
   "source": [
    "%%bigquery playlist_tracks\n",
    "SELECT\n",
    "    ps.unique_pid, \n",
    "    ps.artist_name, \n",
    "    ps.track_name, \n",
    "    ps.album_name, \n",
    "    th.trackid,\n",
    "    th.danceability,\n",
    "    th.energy,\n",
    "    th.key,\n",
    "    th.loudness,\n",
    "    th.mode,\n",
    "    th.speechiness,\n",
    "    th.acousticness,\n",
    "    th.instrumentalness,\n",
    "    th.liveness,\n",
    "    th.valence,\n",
    "    th.tempo,\n",
    "    th.duration_ms,\n",
    "    th.time_signature\n",
    "FROM\n",
    "    (SELECT \n",
    "        unique_pid\n",
    "    FROM\n",
    "        (SELECT\n",
    "            unique_pid\n",
    "        FROM\n",
    "            playlist_songs.playlists\n",
    "        GROUP BY\n",
    "            unique_pid)\n",
    "    WHERE\n",
    "    RAND() < 500/909100 ) as ps_id\n",
    "    INNER JOIN\n",
    "    playlist_songs.playlists as ps\n",
    "    ON ps_id.unique_pid = ps.unique_pid\n",
    "    INNER JOIN\n",
    "    playlist_songs.tracks_headers as th\n",
    "    ON th.trackid = ps.track_uri;"
   ]
  },
  {
   "cell_type": "code",
   "execution_count": 102,
   "metadata": {},
   "outputs": [
    {
     "data": {
      "text/html": [
       "<div>\n",
       "<style scoped>\n",
       "    .dataframe tbody tr th:only-of-type {\n",
       "        vertical-align: middle;\n",
       "    }\n",
       "\n",
       "    .dataframe tbody tr th {\n",
       "        vertical-align: top;\n",
       "    }\n",
       "\n",
       "    .dataframe thead th {\n",
       "        text-align: right;\n",
       "    }\n",
       "</style>\n",
       "<table border=\"1\" class=\"dataframe\">\n",
       "  <thead>\n",
       "    <tr style=\"text-align: right;\">\n",
       "      <th></th>\n",
       "      <th>unique_pid</th>\n",
       "      <th>artist_name</th>\n",
       "      <th>track_name</th>\n",
       "      <th>album_name</th>\n",
       "      <th>trackid</th>\n",
       "      <th>danceability</th>\n",
       "      <th>energy</th>\n",
       "      <th>key</th>\n",
       "      <th>loudness</th>\n",
       "      <th>mode</th>\n",
       "      <th>speechiness</th>\n",
       "      <th>acousticness</th>\n",
       "      <th>instrumentalness</th>\n",
       "      <th>liveness</th>\n",
       "      <th>valence</th>\n",
       "      <th>tempo</th>\n",
       "      <th>duration_ms</th>\n",
       "      <th>time_signature</th>\n",
       "    </tr>\n",
       "  </thead>\n",
       "  <tbody>\n",
       "    <tr>\n",
       "      <th>0</th>\n",
       "      <td>92959</td>\n",
       "      <td>Survivor</td>\n",
       "      <td>Eye of the Tiger</td>\n",
       "      <td>Eye Of The Tiger</td>\n",
       "      <td>spotify:track:2HHtWyy5CgaQbC7XSoOb0e</td>\n",
       "      <td>0.815</td>\n",
       "      <td>0.438</td>\n",
       "      <td>0</td>\n",
       "      <td>-14.522</td>\n",
       "      <td>0</td>\n",
       "      <td>0.0346</td>\n",
       "      <td>0.216</td>\n",
       "      <td>0.000466</td>\n",
       "      <td>0.0787</td>\n",
       "      <td>0.552</td>\n",
       "      <td>108.965</td>\n",
       "      <td>243773</td>\n",
       "      <td>4</td>\n",
       "    </tr>\n",
       "  </tbody>\n",
       "</table>\n",
       "</div>"
      ],
      "text/plain": [
       "   unique_pid artist_name        track_name        album_name  \\\n",
       "0       92959    Survivor  Eye of the Tiger  Eye Of The Tiger   \n",
       "\n",
       "                                trackid  danceability  energy  key  loudness  \\\n",
       "0  spotify:track:2HHtWyy5CgaQbC7XSoOb0e         0.815   0.438    0   -14.522   \n",
       "\n",
       "   mode  speechiness  acousticness  instrumentalness  liveness  valence  \\\n",
       "0     0       0.0346         0.216          0.000466    0.0787    0.552   \n",
       "\n",
       "     tempo  duration_ms  time_signature  \n",
       "0  108.965       243773               4  "
      ]
     },
     "execution_count": 102,
     "metadata": {},
     "output_type": "execute_result"
    }
   ],
   "source": [
    "playlist_tracks.head(1)"
   ]
  },
  {
   "cell_type": "code",
   "execution_count": 103,
   "metadata": {},
   "outputs": [],
   "source": [
    "playlist_analysis = playlist_tracks[['unique_pid', 'trackid','danceability', 'energy', 'key', 'loudness', 'mode', 'speechiness',\n",
    "            'acousticness', 'instrumentalness', 'liveness', 'valence', 'tempo',\n",
    "            'duration_ms', 'time_signature']]\n",
    "\n",
    "playlist_song_info = playlist_tracks[['trackid', 'artist_name', 'track_name', 'album_name']]"
   ]
  },
  {
   "cell_type": "code",
   "execution_count": 104,
   "metadata": {},
   "outputs": [],
   "source": [
    "# create column of ones for data spread procedure later\n",
    "playlist_analysis.loc[:, 'one'] = 1\n",
    "# data spread procedure - group by track and features one hot encode playlist assignments\n",
    "playlist_analysis = playlist_analysis.drop_duplicates(subset=['unique_pid', 'trackid'])\n",
    "\n",
    "#create train and test (stratified by playlist)\n",
    "train, test = train_test_split(playlist_analysis, train_size=0.8, stratify=playlist_analysis.unique_pid)"
   ]
  },
  {
   "cell_type": "code",
   "execution_count": 105,
   "metadata": {},
   "outputs": [],
   "source": [
    "playlist_train_one_hot = train.pivot(index=\"trackid\", columns='unique_pid', values=\"one\")\n",
    "playlist_train_one_hot = playlist_train_one_hot.fillna(value=0)"
   ]
  },
  {
   "cell_type": "code",
   "execution_count": 106,
   "metadata": {},
   "outputs": [],
   "source": [
    "playlist_test_one_hot = test.pivot(index=\"trackid\", columns='unique_pid', values=\"one\")\n",
    "playlist_test_one_hot = playlist_test_one_hot.fillna(value=0)"
   ]
  },
  {
   "cell_type": "code",
   "execution_count": 107,
   "metadata": {},
   "outputs": [],
   "source": [
    "# get histogram of songs associated with # playlists\n",
    "playlist_train_one_hot.loc[:, \"sum\"] = playlist_train_one_hot.sum(axis = 1)"
   ]
  },
  {
   "cell_type": "code",
   "execution_count": 108,
   "metadata": {},
   "outputs": [
    {
     "data": {
      "text/html": [
       "<div>\n",
       "<style scoped>\n",
       "    .dataframe tbody tr th:only-of-type {\n",
       "        vertical-align: middle;\n",
       "    }\n",
       "\n",
       "    .dataframe tbody tr th {\n",
       "        vertical-align: top;\n",
       "    }\n",
       "\n",
       "    .dataframe thead th {\n",
       "        text-align: right;\n",
       "    }\n",
       "</style>\n",
       "<table border=\"1\" class=\"dataframe\">\n",
       "  <thead>\n",
       "    <tr style=\"text-align: right;\">\n",
       "      <th>unique_pid</th>\n",
       "      <th>222</th>\n",
       "      <th>373</th>\n",
       "      <th>4127</th>\n",
       "      <th>4181</th>\n",
       "      <th>5220</th>\n",
       "      <th>6212</th>\n",
       "      <th>7909</th>\n",
       "      <th>10953</th>\n",
       "      <th>11499</th>\n",
       "      <th>12857</th>\n",
       "      <th>...</th>\n",
       "      <th>984648</th>\n",
       "      <th>986338</th>\n",
       "      <th>988530</th>\n",
       "      <th>988958</th>\n",
       "      <th>990368</th>\n",
       "      <th>994789</th>\n",
       "      <th>995522</th>\n",
       "      <th>995870</th>\n",
       "      <th>999112</th>\n",
       "      <th>sum</th>\n",
       "    </tr>\n",
       "    <tr>\n",
       "      <th>trackid</th>\n",
       "      <th></th>\n",
       "      <th></th>\n",
       "      <th></th>\n",
       "      <th></th>\n",
       "      <th></th>\n",
       "      <th></th>\n",
       "      <th></th>\n",
       "      <th></th>\n",
       "      <th></th>\n",
       "      <th></th>\n",
       "      <th></th>\n",
       "      <th></th>\n",
       "      <th></th>\n",
       "      <th></th>\n",
       "      <th></th>\n",
       "      <th></th>\n",
       "      <th></th>\n",
       "      <th></th>\n",
       "      <th></th>\n",
       "      <th></th>\n",
       "      <th></th>\n",
       "    </tr>\n",
       "  </thead>\n",
       "  <tbody>\n",
       "    <tr>\n",
       "      <th>spotify:track:000xQL6tZNLJzIrtIgxqSl</th>\n",
       "      <td>0.0</td>\n",
       "      <td>0.0</td>\n",
       "      <td>0.0</td>\n",
       "      <td>0.0</td>\n",
       "      <td>0.0</td>\n",
       "      <td>0.0</td>\n",
       "      <td>0.0</td>\n",
       "      <td>0.0</td>\n",
       "      <td>0.0</td>\n",
       "      <td>0.0</td>\n",
       "      <td>...</td>\n",
       "      <td>0.0</td>\n",
       "      <td>0.0</td>\n",
       "      <td>0.0</td>\n",
       "      <td>0.0</td>\n",
       "      <td>0.0</td>\n",
       "      <td>0.0</td>\n",
       "      <td>0.0</td>\n",
       "      <td>0.0</td>\n",
       "      <td>0.0</td>\n",
       "      <td>1.0</td>\n",
       "    </tr>\n",
       "    <tr>\n",
       "      <th>spotify:track:004z7UbwGrprGG1JTmNgCt</th>\n",
       "      <td>0.0</td>\n",
       "      <td>0.0</td>\n",
       "      <td>0.0</td>\n",
       "      <td>0.0</td>\n",
       "      <td>0.0</td>\n",
       "      <td>0.0</td>\n",
       "      <td>0.0</td>\n",
       "      <td>0.0</td>\n",
       "      <td>0.0</td>\n",
       "      <td>0.0</td>\n",
       "      <td>...</td>\n",
       "      <td>0.0</td>\n",
       "      <td>0.0</td>\n",
       "      <td>0.0</td>\n",
       "      <td>0.0</td>\n",
       "      <td>0.0</td>\n",
       "      <td>0.0</td>\n",
       "      <td>0.0</td>\n",
       "      <td>0.0</td>\n",
       "      <td>0.0</td>\n",
       "      <td>1.0</td>\n",
       "    </tr>\n",
       "    <tr>\n",
       "      <th>spotify:track:005GaX6hvgeTFnR9FvejTE</th>\n",
       "      <td>0.0</td>\n",
       "      <td>0.0</td>\n",
       "      <td>0.0</td>\n",
       "      <td>0.0</td>\n",
       "      <td>0.0</td>\n",
       "      <td>0.0</td>\n",
       "      <td>0.0</td>\n",
       "      <td>0.0</td>\n",
       "      <td>0.0</td>\n",
       "      <td>0.0</td>\n",
       "      <td>...</td>\n",
       "      <td>0.0</td>\n",
       "      <td>0.0</td>\n",
       "      <td>0.0</td>\n",
       "      <td>0.0</td>\n",
       "      <td>0.0</td>\n",
       "      <td>0.0</td>\n",
       "      <td>0.0</td>\n",
       "      <td>0.0</td>\n",
       "      <td>0.0</td>\n",
       "      <td>1.0</td>\n",
       "    </tr>\n",
       "    <tr>\n",
       "      <th>spotify:track:007Cm8jbhOP7ofnHEwSr6s</th>\n",
       "      <td>0.0</td>\n",
       "      <td>0.0</td>\n",
       "      <td>0.0</td>\n",
       "      <td>0.0</td>\n",
       "      <td>0.0</td>\n",
       "      <td>0.0</td>\n",
       "      <td>0.0</td>\n",
       "      <td>0.0</td>\n",
       "      <td>0.0</td>\n",
       "      <td>0.0</td>\n",
       "      <td>...</td>\n",
       "      <td>0.0</td>\n",
       "      <td>0.0</td>\n",
       "      <td>0.0</td>\n",
       "      <td>0.0</td>\n",
       "      <td>0.0</td>\n",
       "      <td>0.0</td>\n",
       "      <td>0.0</td>\n",
       "      <td>0.0</td>\n",
       "      <td>0.0</td>\n",
       "      <td>1.0</td>\n",
       "    </tr>\n",
       "    <tr>\n",
       "      <th>spotify:track:00AvOVhsUi1gOCnHxTFw7i</th>\n",
       "      <td>0.0</td>\n",
       "      <td>0.0</td>\n",
       "      <td>0.0</td>\n",
       "      <td>0.0</td>\n",
       "      <td>0.0</td>\n",
       "      <td>0.0</td>\n",
       "      <td>0.0</td>\n",
       "      <td>0.0</td>\n",
       "      <td>0.0</td>\n",
       "      <td>0.0</td>\n",
       "      <td>...</td>\n",
       "      <td>0.0</td>\n",
       "      <td>0.0</td>\n",
       "      <td>0.0</td>\n",
       "      <td>0.0</td>\n",
       "      <td>0.0</td>\n",
       "      <td>0.0</td>\n",
       "      <td>0.0</td>\n",
       "      <td>0.0</td>\n",
       "      <td>0.0</td>\n",
       "      <td>1.0</td>\n",
       "    </tr>\n",
       "  </tbody>\n",
       "</table>\n",
       "<p>5 rows × 507 columns</p>\n",
       "</div>"
      ],
      "text/plain": [
       "unique_pid                            222  373  4127  4181  5220  6212  7909  \\\n",
       "trackid                                                                        \n",
       "spotify:track:000xQL6tZNLJzIrtIgxqSl  0.0  0.0   0.0   0.0   0.0   0.0   0.0   \n",
       "spotify:track:004z7UbwGrprGG1JTmNgCt  0.0  0.0   0.0   0.0   0.0   0.0   0.0   \n",
       "spotify:track:005GaX6hvgeTFnR9FvejTE  0.0  0.0   0.0   0.0   0.0   0.0   0.0   \n",
       "spotify:track:007Cm8jbhOP7ofnHEwSr6s  0.0  0.0   0.0   0.0   0.0   0.0   0.0   \n",
       "spotify:track:00AvOVhsUi1gOCnHxTFw7i  0.0  0.0   0.0   0.0   0.0   0.0   0.0   \n",
       "\n",
       "unique_pid                            10953  11499  12857  ...  984648  \\\n",
       "trackid                                                    ...           \n",
       "spotify:track:000xQL6tZNLJzIrtIgxqSl    0.0    0.0    0.0  ...     0.0   \n",
       "spotify:track:004z7UbwGrprGG1JTmNgCt    0.0    0.0    0.0  ...     0.0   \n",
       "spotify:track:005GaX6hvgeTFnR9FvejTE    0.0    0.0    0.0  ...     0.0   \n",
       "spotify:track:007Cm8jbhOP7ofnHEwSr6s    0.0    0.0    0.0  ...     0.0   \n",
       "spotify:track:00AvOVhsUi1gOCnHxTFw7i    0.0    0.0    0.0  ...     0.0   \n",
       "\n",
       "unique_pid                            986338  988530  988958  990368  994789  \\\n",
       "trackid                                                                        \n",
       "spotify:track:000xQL6tZNLJzIrtIgxqSl     0.0     0.0     0.0     0.0     0.0   \n",
       "spotify:track:004z7UbwGrprGG1JTmNgCt     0.0     0.0     0.0     0.0     0.0   \n",
       "spotify:track:005GaX6hvgeTFnR9FvejTE     0.0     0.0     0.0     0.0     0.0   \n",
       "spotify:track:007Cm8jbhOP7ofnHEwSr6s     0.0     0.0     0.0     0.0     0.0   \n",
       "spotify:track:00AvOVhsUi1gOCnHxTFw7i     0.0     0.0     0.0     0.0     0.0   \n",
       "\n",
       "unique_pid                            995522  995870  999112  sum  \n",
       "trackid                                                            \n",
       "spotify:track:000xQL6tZNLJzIrtIgxqSl     0.0     0.0     0.0  1.0  \n",
       "spotify:track:004z7UbwGrprGG1JTmNgCt     0.0     0.0     0.0  1.0  \n",
       "spotify:track:005GaX6hvgeTFnR9FvejTE     0.0     0.0     0.0  1.0  \n",
       "spotify:track:007Cm8jbhOP7ofnHEwSr6s     0.0     0.0     0.0  1.0  \n",
       "spotify:track:00AvOVhsUi1gOCnHxTFw7i     0.0     0.0     0.0  1.0  \n",
       "\n",
       "[5 rows x 507 columns]"
      ]
     },
     "execution_count": 108,
     "metadata": {},
     "output_type": "execute_result"
    }
   ],
   "source": [
    "playlist_train_one_hot.head()"
   ]
  },
  {
   "cell_type": "code",
   "execution_count": 109,
   "metadata": {},
   "outputs": [],
   "source": [
    "playlist_distribution = playlist_train_one_hot.groupby(\"sum\")[\"sum\"].count()"
   ]
  },
  {
   "cell_type": "code",
   "execution_count": 110,
   "metadata": {},
   "outputs": [
    {
     "data": {
      "text/plain": [
       "sum\n",
       "1.0     14900\n",
       "2.0      2207\n",
       "3.0       792\n",
       "4.0       465\n",
       "5.0       266\n",
       "6.0       177\n",
       "7.0       106\n",
       "8.0        72\n",
       "9.0        71\n",
       "10.0       42\n",
       "11.0       33\n",
       "12.0       16\n",
       "13.0       17\n",
       "14.0       11\n",
       "15.0       16\n",
       "16.0        6\n",
       "17.0        2\n",
       "18.0        3\n",
       "19.0        2\n",
       "21.0        1\n",
       "25.0        1\n",
       "28.0        1\n",
       "Name: sum, dtype: int64"
      ]
     },
     "execution_count": 110,
     "metadata": {},
     "output_type": "execute_result"
    }
   ],
   "source": [
    "playlist_distribution"
   ]
  },
  {
   "cell_type": "code",
   "execution_count": 111,
   "metadata": {},
   "outputs": [],
   "source": [
    "# get all playlist numbers\n",
    "playlist_numbers = [i for i in playlist_train_one_hot.columns if i not in ['trackid', 'sum']]\n",
    "# merge features with one-hot list\n",
    "playlist_features = playlist_analysis[['trackid','danceability', 'energy', 'key', 'loudness', 'mode', 'speechiness',\n",
    "            'acousticness', 'instrumentalness', 'liveness', 'valence', 'tempo',\n",
    "            'duration_ms', 'time_signature']]\n",
    "playlist_train_one_hot = playlist_train_one_hot.drop(\"sum\", axis = 1)"
   ]
  },
  {
   "cell_type": "code",
   "execution_count": 112,
   "metadata": {},
   "outputs": [],
   "source": [
    "playlist_train_one_hot_w_features = playlist_train_one_hot.merge(playlist_features, on=\"trackid\", how=\"inner\")\n",
    "playlist_test_one_hot_w_features = playlist_test_one_hot.merge(playlist_features, on=\"trackid\", how=\"inner\")"
   ]
  },
  {
   "cell_type": "code",
   "execution_count": 113,
   "metadata": {},
   "outputs": [
    {
     "name": "stdout",
     "output_type": "stream",
     "text": [
      "(33492, 13)\n",
      "(33492, 506)\n"
     ]
    }
   ],
   "source": [
    "y_train = playlist_train_one_hot_w_features[playlist_numbers]\n",
    "y_test = playlist_test_one_hot_w_features[playlist_numbers]\n",
    "\n",
    "X_train = playlist_train_one_hot_w_features[['danceability', 'energy', 'key', 'loudness', 'mode', 'speechiness',\n",
    "            'acousticness', 'instrumentalness', 'liveness', 'valence', 'tempo',\n",
    "            'duration_ms', 'time_signature']]\n",
    "\n",
    "X_test = playlist_test_one_hot_w_features[['danceability', 'energy', 'key', 'loudness', 'mode', 'speechiness',\n",
    "            'acousticness', 'instrumentalness', 'liveness', 'valence', 'tempo',\n",
    "            'duration_ms', 'time_signature']]\n",
    "\n",
    "X_test = X_test.fillna(-1) #if na then fill with -1\n",
    "X_train = X_train.fillna(-1) #if na then fill with -1"
   ]
  },
  {
   "cell_type": "code",
   "execution_count": 114,
   "metadata": {},
   "outputs": [],
   "source": [
    "# convert to np arrays\n",
    "X_train = np.array(X_train)\n",
    "X_test = np.array(X_test)\n",
    "y_train = np.array(y_train)\n",
    "y_test = np.array(y_test)"
   ]
  },
  {
   "cell_type": "code",
   "execution_count": 115,
   "metadata": {},
   "outputs": [
    {
     "data": {
      "text/plain": [
       "(8362, 506)"
      ]
     },
     "execution_count": 115,
     "metadata": {},
     "output_type": "execute_result"
    }
   ],
   "source": [
    "#create mask for smaller X_train data\n",
    "mask = np.random.choice([False, True], len(X_train), p=[0.75, 0.25])\n",
    "X_train_compressed = X_train[mask][:]\n",
    "X_train_compressed.shape\n",
    "y_train_compressed = y_train[mask][:]\n",
    "y_train_compressed.shape"
   ]
  },
  {
   "cell_type": "code",
   "execution_count": 116,
   "metadata": {},
   "outputs": [],
   "source": [
    "# Ultimately, while we did not use normalization on predictors, because this \n",
    "# significantly slowed down the logistic regression to a process that would have \n",
    "# taken 20 hours to run; this was unfeasible.\n",
    "\n",
    "def normalize_predictors(x_df, y_df, scaler):\n",
    "    \"\"\"\n",
    "    Standardizes the predictors to vary between 0 and 1 to account for differences\n",
    "    in scale and variability.\n",
    "    \n",
    "    The scaler passed in should be from the standardized data set only.\n",
    "    \n",
    "    Returns new x dataframe, along with y, whose index has been re-set to match\n",
    "    the x df since it was run through a standardizer. \n",
    "    \"\"\"\n",
    "    cols_to_scale = x_df.columns\n",
    "    scaled_df = scaler.fit_transform(x_df)\n",
    "    \n",
    "    normalized_x = pd.DataFrame(scaled_df, columns=cols_to_scale)\n",
    "    normalized_x.reset_index(drop=True, inplace=True)\n",
    "\n",
    "    # Also reset the Y-train index so that it matches the indices produced by normalization\n",
    "    y_df.reset_index(drop=True, inplace=True)\n",
    "\n",
    "    return (normalized_x, y_df)"
   ]
  },
  {
   "cell_type": "code",
   "execution_count": 149,
   "metadata": {},
   "outputs": [
    {
     "name": "stdout",
     "output_type": "stream",
     "text": [
      "(15919, 13)\n"
     ]
    },
    {
     "data": {
      "text/html": [
       "<div>\n",
       "<style scoped>\n",
       "    .dataframe tbody tr th:only-of-type {\n",
       "        vertical-align: middle;\n",
       "    }\n",
       "\n",
       "    .dataframe tbody tr th {\n",
       "        vertical-align: top;\n",
       "    }\n",
       "\n",
       "    .dataframe thead th {\n",
       "        text-align: right;\n",
       "    }\n",
       "</style>\n",
       "<table border=\"1\" class=\"dataframe\">\n",
       "  <thead>\n",
       "    <tr style=\"text-align: right;\">\n",
       "      <th></th>\n",
       "      <th>danceability</th>\n",
       "      <th>energy</th>\n",
       "      <th>key</th>\n",
       "      <th>loudness</th>\n",
       "      <th>mode</th>\n",
       "      <th>speechiness</th>\n",
       "      <th>acousticness</th>\n",
       "      <th>instrumentalness</th>\n",
       "      <th>liveness</th>\n",
       "      <th>valence</th>\n",
       "      <th>tempo</th>\n",
       "      <th>duration_ms</th>\n",
       "      <th>time_signature</th>\n",
       "    </tr>\n",
       "  </thead>\n",
       "  <tbody>\n",
       "    <tr>\n",
       "      <th>0</th>\n",
       "      <td>0.757085</td>\n",
       "      <td>0.627</td>\n",
       "      <td>0.636364</td>\n",
       "      <td>0.883539</td>\n",
       "      <td>1.0</td>\n",
       "      <td>0.067435</td>\n",
       "      <td>0.131526</td>\n",
       "      <td>0.000000</td>\n",
       "      <td>0.085456</td>\n",
       "      <td>0.5240</td>\n",
       "      <td>0.550039</td>\n",
       "      <td>0.038533</td>\n",
       "      <td>0.8</td>\n",
       "    </tr>\n",
       "    <tr>\n",
       "      <th>1</th>\n",
       "      <td>0.757085</td>\n",
       "      <td>0.627</td>\n",
       "      <td>0.636364</td>\n",
       "      <td>0.883539</td>\n",
       "      <td>1.0</td>\n",
       "      <td>0.067435</td>\n",
       "      <td>0.131526</td>\n",
       "      <td>0.000000</td>\n",
       "      <td>0.085456</td>\n",
       "      <td>0.5240</td>\n",
       "      <td>0.550039</td>\n",
       "      <td>0.038533</td>\n",
       "      <td>0.8</td>\n",
       "    </tr>\n",
       "    <tr>\n",
       "      <th>2</th>\n",
       "      <td>0.649798</td>\n",
       "      <td>0.247</td>\n",
       "      <td>0.272727</td>\n",
       "      <td>0.715167</td>\n",
       "      <td>0.0</td>\n",
       "      <td>0.059372</td>\n",
       "      <td>0.996988</td>\n",
       "      <td>0.934000</td>\n",
       "      <td>0.148445</td>\n",
       "      <td>0.0908</td>\n",
       "      <td>0.345562</td>\n",
       "      <td>0.046433</td>\n",
       "      <td>0.8</td>\n",
       "    </tr>\n",
       "    <tr>\n",
       "      <th>3</th>\n",
       "      <td>0.791498</td>\n",
       "      <td>0.341</td>\n",
       "      <td>0.272727</td>\n",
       "      <td>0.857068</td>\n",
       "      <td>1.0</td>\n",
       "      <td>0.032565</td>\n",
       "      <td>0.278112</td>\n",
       "      <td>0.000111</td>\n",
       "      <td>0.109328</td>\n",
       "      <td>0.7090</td>\n",
       "      <td>0.441276</td>\n",
       "      <td>0.047297</td>\n",
       "      <td>0.8</td>\n",
       "    </tr>\n",
       "    <tr>\n",
       "      <th>4</th>\n",
       "      <td>0.491903</td>\n",
       "      <td>0.738</td>\n",
       "      <td>0.363636</td>\n",
       "      <td>0.897111</td>\n",
       "      <td>1.0</td>\n",
       "      <td>0.033822</td>\n",
       "      <td>0.013755</td>\n",
       "      <td>0.000000</td>\n",
       "      <td>0.089067</td>\n",
       "      <td>0.5850</td>\n",
       "      <td>0.814171</td>\n",
       "      <td>0.047225</td>\n",
       "      <td>0.8</td>\n",
       "    </tr>\n",
       "  </tbody>\n",
       "</table>\n",
       "</div>"
      ],
      "text/plain": [
       "   danceability  energy       key  loudness  mode  speechiness  acousticness  \\\n",
       "0      0.757085   0.627  0.636364  0.883539   1.0     0.067435      0.131526   \n",
       "1      0.757085   0.627  0.636364  0.883539   1.0     0.067435      0.131526   \n",
       "2      0.649798   0.247  0.272727  0.715167   0.0     0.059372      0.996988   \n",
       "3      0.791498   0.341  0.272727  0.857068   1.0     0.032565      0.278112   \n",
       "4      0.491903   0.738  0.363636  0.897111   1.0     0.033822      0.013755   \n",
       "\n",
       "   instrumentalness  liveness  valence     tempo  duration_ms  time_signature  \n",
       "0          0.000000  0.085456   0.5240  0.550039     0.038533             0.8  \n",
       "1          0.000000  0.085456   0.5240  0.550039     0.038533             0.8  \n",
       "2          0.934000  0.148445   0.0908  0.345562     0.046433             0.8  \n",
       "3          0.000111  0.109328   0.7090  0.441276     0.047297             0.8  \n",
       "4          0.000000  0.089067   0.5850  0.814171     0.047225             0.8  "
      ]
     },
     "metadata": {},
     "output_type": "display_data"
    },
    {
     "data": {
      "text/html": [
       "<div>\n",
       "<style scoped>\n",
       "    .dataframe tbody tr th:only-of-type {\n",
       "        vertical-align: middle;\n",
       "    }\n",
       "\n",
       "    .dataframe tbody tr th {\n",
       "        vertical-align: top;\n",
       "    }\n",
       "\n",
       "    .dataframe thead th {\n",
       "        text-align: right;\n",
       "    }\n",
       "</style>\n",
       "<table border=\"1\" class=\"dataframe\">\n",
       "  <thead>\n",
       "    <tr style=\"text-align: right;\">\n",
       "      <th></th>\n",
       "      <th>danceability</th>\n",
       "      <th>energy</th>\n",
       "      <th>key</th>\n",
       "      <th>loudness</th>\n",
       "      <th>mode</th>\n",
       "      <th>speechiness</th>\n",
       "      <th>acousticness</th>\n",
       "      <th>instrumentalness</th>\n",
       "      <th>liveness</th>\n",
       "      <th>valence</th>\n",
       "      <th>tempo</th>\n",
       "      <th>duration_ms</th>\n",
       "      <th>time_signature</th>\n",
       "    </tr>\n",
       "  </thead>\n",
       "  <tbody>\n",
       "    <tr>\n",
       "      <th>0</th>\n",
       "      <td>0.764826</td>\n",
       "      <td>0.627693</td>\n",
       "      <td>0.636364</td>\n",
       "      <td>0.842884</td>\n",
       "      <td>1.0</td>\n",
       "      <td>0.074108</td>\n",
       "      <td>0.131526</td>\n",
       "      <td>0.000000</td>\n",
       "      <td>0.086410</td>\n",
       "      <td>0.528226</td>\n",
       "      <td>0.550239</td>\n",
       "      <td>0.038648</td>\n",
       "      <td>0.8</td>\n",
       "    </tr>\n",
       "    <tr>\n",
       "      <th>1</th>\n",
       "      <td>0.764826</td>\n",
       "      <td>0.627693</td>\n",
       "      <td>0.636364</td>\n",
       "      <td>0.842884</td>\n",
       "      <td>1.0</td>\n",
       "      <td>0.074108</td>\n",
       "      <td>0.131526</td>\n",
       "      <td>0.000000</td>\n",
       "      <td>0.086410</td>\n",
       "      <td>0.528226</td>\n",
       "      <td>0.550239</td>\n",
       "      <td>0.038648</td>\n",
       "      <td>0.8</td>\n",
       "    </tr>\n",
       "    <tr>\n",
       "      <th>2</th>\n",
       "      <td>0.586912</td>\n",
       "      <td>0.822377</td>\n",
       "      <td>0.181818</td>\n",
       "      <td>0.874147</td>\n",
       "      <td>0.0</td>\n",
       "      <td>0.030840</td>\n",
       "      <td>0.000448</td>\n",
       "      <td>0.000002</td>\n",
       "      <td>0.193712</td>\n",
       "      <td>0.301411</td>\n",
       "      <td>0.491273</td>\n",
       "      <td>0.042626</td>\n",
       "      <td>0.8</td>\n",
       "    </tr>\n",
       "    <tr>\n",
       "      <th>3</th>\n",
       "      <td>0.586912</td>\n",
       "      <td>0.822377</td>\n",
       "      <td>0.181818</td>\n",
       "      <td>0.874147</td>\n",
       "      <td>0.0</td>\n",
       "      <td>0.030840</td>\n",
       "      <td>0.000448</td>\n",
       "      <td>0.000002</td>\n",
       "      <td>0.193712</td>\n",
       "      <td>0.301411</td>\n",
       "      <td>0.491273</td>\n",
       "      <td>0.042626</td>\n",
       "      <td>0.8</td>\n",
       "    </tr>\n",
       "    <tr>\n",
       "      <th>4</th>\n",
       "      <td>0.843558</td>\n",
       "      <td>0.833415</td>\n",
       "      <td>0.454545</td>\n",
       "      <td>0.847159</td>\n",
       "      <td>0.0</td>\n",
       "      <td>0.046375</td>\n",
       "      <td>0.005894</td>\n",
       "      <td>0.000796</td>\n",
       "      <td>0.115619</td>\n",
       "      <td>0.718750</td>\n",
       "      <td>0.555052</td>\n",
       "      <td>0.045432</td>\n",
       "      <td>0.8</td>\n",
       "    </tr>\n",
       "  </tbody>\n",
       "</table>\n",
       "</div>"
      ],
      "text/plain": [
       "   danceability    energy       key  loudness  mode  speechiness  \\\n",
       "0      0.764826  0.627693  0.636364  0.842884   1.0     0.074108   \n",
       "1      0.764826  0.627693  0.636364  0.842884   1.0     0.074108   \n",
       "2      0.586912  0.822377  0.181818  0.874147   0.0     0.030840   \n",
       "3      0.586912  0.822377  0.181818  0.874147   0.0     0.030840   \n",
       "4      0.843558  0.833415  0.454545  0.847159   0.0     0.046375   \n",
       "\n",
       "   acousticness  instrumentalness  liveness   valence     tempo  duration_ms  \\\n",
       "0      0.131526          0.000000  0.086410  0.528226  0.550239     0.038648   \n",
       "1      0.131526          0.000000  0.086410  0.528226  0.550239     0.038648   \n",
       "2      0.000448          0.000002  0.193712  0.301411  0.491273     0.042626   \n",
       "3      0.000448          0.000002  0.193712  0.301411  0.491273     0.042626   \n",
       "4      0.005894          0.000796  0.115619  0.718750  0.555052     0.045432   \n",
       "\n",
       "   time_signature  \n",
       "0             0.8  \n",
       "1             0.8  \n",
       "2             0.8  \n",
       "3             0.8  \n",
       "4             0.8  "
      ]
     },
     "metadata": {},
     "output_type": "display_data"
    }
   ],
   "source": [
    "playlist_indices = range(0, len(playlist_numbers))\n",
    "X_COLUMNS = ['danceability', 'energy', 'key', 'loudness', 'mode', 'speechiness',\n",
    "            'acousticness', 'instrumentalness', 'liveness', 'valence', 'tempo',\n",
    "            'duration_ms', 'time_signature']\n",
    "\n",
    "# Normalize the data and get it into dataframe formatting so I can see what I'm working with\n",
    "X_train_df = pd.DataFrame(X_train, columns=X_COLUMNS)\n",
    "X_test_df = pd.DataFrame(X_test, columns=X_COLUMNS)\n",
    "\n",
    "y_train_df = pd.DataFrame(y_train, columns=playlist_indices)\n",
    "y_test_df = pd.DataFrame(y_test, columns=playlist_indices)\n",
    "print(X_test_df.shape)\n",
    "\n",
    "scaler = MinMaxScaler().fit(X_train_df)\n",
    "X_train_df, y_train_df = normalize_predictors(X_train_df, y_train_df, scaler)\n",
    "\n",
    "display(X_train_df.head())\n",
    "\n",
    "# Now, we must also normalize our test values, using the scalar from the X_train\n",
    "X_test_df, y_test_df = normalize_predictors(X_test_df, y_test_df, scaler)\n",
    "display(X_test_df.head())"
   ]
  },
  {
   "cell_type": "code",
   "execution_count": 216,
   "metadata": {},
   "outputs": [
    {
     "data": {
      "application/vnd.jupyter.widget-view+json": {
       "model_id": "e05171396e944328a6321af913cb4f38",
       "version_major": 2,
       "version_minor": 0
      },
      "text/plain": [
       "HBox(children=(IntProgress(value=0, max=506), HTML(value='')))"
      ]
     },
     "metadata": {},
     "output_type": "display_data"
    },
    {
     "name": "stdout",
     "output_type": "stream",
     "text": [
      "\n"
     ]
    }
   ],
   "source": [
    "# We'll store the regression model for each playlist, along with its accuracy score as tuple\n",
    "\n",
    "def run_logistic_regression(X_train, y_train, X_test, y_test, playlists):\n",
    "    \n",
    "    playlist_regression_models = []\n",
    "    with tqdm_notebook(total=len(playlists)) as pbar:\n",
    "        for playlist_index in playlists:\n",
    "            # Downsampling; because the number of 0s vastly outpowers the number of 1s \n",
    "            # (since the dataset) is 3,000 large, we must sum the total number of 1s\n",
    "            # and grab a random subsample of songs that are classified as 0\n",
    "            training_set = pd.concat([X_train, y_train], axis=1)\n",
    "\n",
    "            # First, grab all items that are in a given playlist and add that to the\n",
    "            # final downsampled set\n",
    "            in_playlist = training_set[training_set[playlist_index] == 1]\n",
    "            not_in_playlist = training_set[training_set[playlist_index] == 0].sample(len(in_playlist))\n",
    "            \n",
    "            downsampled = pd.concat([in_playlist, not_in_playlist])\n",
    "            \n",
    "            X_train_ds = downsampled[X_COLUMNS]\n",
    "            y_train_ds = downsampled[playlists]\n",
    "            \n",
    "            # Includes regularization by default\n",
    "            logistic_reg = LogisticRegression()\n",
    "            logistic_reg.fit(X_train_ds, y_train_ds[playlist_index])\n",
    "            \n",
    "            # Now, predict\n",
    "            y_train_pred = logistic_reg.predict(X_train_ds)\n",
    "            y_test_pred = logistic_reg.predict(X_test)\n",
    "            \n",
    "            # And check for accuracy scores\n",
    "            train_accuracy = accuracy_score(y_train_ds[playlist_index], y_train_pred)\n",
    "            train_f1 = f1_score(y_train_ds[playlist_index], y_train_pred)\n",
    "            \n",
    "            test_accuracy = accuracy_score(y_test[playlist_index], y_test_pred)\n",
    "            test_f1 = f1_score(y_test[playlist_index], y_test_pred)\n",
    "\n",
    "            model_info = {\n",
    "                \"model\": regression_l1, \n",
    "                \"train_accuracy\": train_accuracy, \n",
    "                \"test_accuracy\": test_accuracy, \n",
    "                \"train_f1\": train_f1,\n",
    "                \"test_f1\": test_f1,\n",
    "            }\n",
    "            playlist_regression_models.append(model_info)\n",
    "            pbar.update(1)\n",
    "\n",
    "    return playlist_regression_models\n",
    "\n",
    "lr_models = run_logistic_regression(X_train_df, y_train_df, X_test_df, y_test_df, playlist_indices)"
   ]
  },
  {
   "cell_type": "code",
   "execution_count": 217,
   "metadata": {},
   "outputs": [
    {
     "data": {
      "text/plain": [
       "<matplotlib.legend.Legend at 0x1a2738a518>"
      ]
     },
     "execution_count": 217,
     "metadata": {},
     "output_type": "execute_result"
    },
    {
     "data": {
      "image/png": "[encoded data removed]",
      "text/plain": [
       "<Figure size 1152x288 with 2 Axes>"
      ]
     },
     "metadata": {
      "needs_background": "light"
     },
     "output_type": "display_data"
    }
   ],
   "source": [
    "fig, ax = plt.subplots(1,2, figsize=(16,4))\n",
    "\n",
    "model_index = range(0, len(lr_models))\n",
    "train_accuracies = [m[\"train_accuracy\"] for m in lr_models]\n",
    "test_accuracies = [m[\"test_accuracy\"] for m in lr_models]\n",
    "train_f1s = [m[\"train_f1\"] for m in lr_models]\n",
    "test_f1s = [m[\"test_f1\"] for m in lr_models]\n",
    "\n",
    "ax[0].plot(model_index, train_accuracies, label=\"Train\")\n",
    "ax[0].plot(model_index, test_accuracies, label=\"Test\")\n",
    "ax[0].set_title(\"Accuracies for Playlist Models\")\n",
    "ax[0].set_xlabel(\"Playlist Model\")\n",
    "ax[0].set_ylabel(\"Accuracy Score\")\n",
    "ax[0].legend()\n",
    "\n",
    "ax[1].plot(model_index, train_f1s, label=\"Train\")\n",
    "ax[1].plot(model_index, test_f1s, label=\"Test\")\n",
    "ax[1].set_title(\"F1 Scores for Playlist Models\")\n",
    "ax[1].set_xlabel(\"Playlist Model\")\n",
    "ax[1].set_ylabel(\"Accuracy Score\")\n",
    "ax[1].legend()\n",
    "\n",
    "# This demonstrates the clear inability for logistic regression to classify songs as to whether or not they belong\n",
    "# within a playlist"
   ]
  },
  {
   "cell_type": "code",
   "execution_count": 295,
   "metadata": {},
   "outputs": [
    {
     "data": {
      "image/png": "[encoded data removed]",
      "text/plain": [
       "<Figure size 432x288 with 1 Axes>"
      ]
     },
     "metadata": {
      "needs_background": "light"
     },
     "output_type": "display_data"
    },
    {
     "data": {
      "image/png": "[encoded data removed]",
      "text/plain": [
       "<Figure size 432x288 with 1 Axes>"
      ]
     },
     "metadata": {
      "needs_background": "light"
     },
     "output_type": "display_data"
    },
    {
     "data": {
      "image/png": "[encoded data removed]",
      "text/plain": [
       "<Figure size 432x288 with 1 Axes>"
      ]
     },
     "metadata": {
      "needs_background": "light"
     },
     "output_type": "display_data"
    },
    {
     "data": {
      "image/png": "[encoded data removed]",
      "text/plain": [
       "<Figure size 432x288 with 1 Axes>"
      ]
     },
     "metadata": {
      "needs_background": "light"
     },
     "output_type": "display_data"
    }
   ],
   "source": [
    "sns.violinplot(y=[train_accuracies], color=\"Blue\")\n",
    "plt.title(\"Train Accuracy Scores\")\n",
    "plt.show()\n",
    "sns.violinplot(y=[test_accuracies], color=\"orange\")\n",
    "plt.title(\"Test Accuracy Scores\")\n",
    "plt.show()\n",
    "\n",
    "sns.violinplot(y=[train_f1s], color=\"blue\")\n",
    "plt.title(\"Train F1 Scores\")\n",
    "plt.show()\n",
    "\n",
    "sns.violinplot(y=[test_f1s], color=\"orange\")\n",
    "plt.title(\"Test F1 Scores\")\n",
    "plt.show()\n"
   ]
  },
  {
   "cell_type": "code",
   "execution_count": 281,
   "metadata": {
    "scrolled": false
   },
   "outputs": [
    {
     "data": {
      "application/vnd.jupyter.widget-view+json": {
       "model_id": "195f27297e014079822b6a4f6a40e96d",
       "version_major": 2,
       "version_minor": 0
      },
      "text/plain": [
       "HBox(children=(IntProgress(value=0, max=506), HTML(value='')))"
      ]
     },
     "metadata": {},
     "output_type": "display_data"
    },
    {
     "name": "stdout",
     "output_type": "stream",
     "text": [
      "\n"
     ]
    }
   ],
   "source": [
    "import math\n",
    "\n",
    "def predictor_t_values(X_train, y_train, playlists):\n",
    "    \"\"\"\n",
    "    Returns top 10 t-values, indicating which items\n",
    "    provide the most signal as a predictor between the\n",
    "    two types.\n",
    "    \n",
    "    Takes in the statistics of two types as a parameter.\n",
    "    \"\"\"\n",
    "    predictors = pd.DataFrame(columns = X_COLUMNS)    \n",
    "    with tqdm_notebook(total=len(playlists)) as pbar:\n",
    "        for playlist_index in playlists:\n",
    "            training_set = pd.concat([X_train, y_train], axis=1)\n",
    "\n",
    "            # First, grab all items that are in a given playlist and add that to the\n",
    "            # final downsampled set\n",
    "            in_playlist = training_set[training_set[playlist_index] == 1]\n",
    "            not_in_playlist = training_set[training_set[playlist_index] == 0].sample(len(in_playlist))\n",
    "\n",
    "            downsampled = pd.concat([in_playlist, not_in_playlist])\n",
    "\n",
    "            type_1 = downsampled[downsampled[playlist] == 1]\n",
    "            type_2 = downsampled[downsampled[playlist] == 0]\n",
    "\n",
    "            signal = np.abs(type_1.mean() - type_2.mean())\n",
    "            type_1_noise = (type_1.var()) / type_1.count()\n",
    "            type_2_noise = (type_2.var()) / type_2.count()\n",
    "            noise = np.sqrt(type_1_noise + type_2_noise)\n",
    "            t_values = signal / noise\n",
    "            results = t_values.sort_values(ascending=False).drop(playlists).to_dict()\n",
    "            predictors = predictors.append(results, ignore_index=True)\n",
    "            pbar.update(1)\n",
    "    return predictors\n",
    "\n",
    "predictor_t_values = get_top_10_tvalues(X_train_df, y_train_df, playlist_indices)\n"
   ]
  },
  {
   "cell_type": "code",
   "execution_count": 282,
   "metadata": {},
   "outputs": [
    {
     "data": {
      "text/plain": [
       "danceability        2.458528\n",
       "energy              2.907320\n",
       "key                 2.908370\n",
       "loudness            2.705092\n",
       "mode                4.830486\n",
       "speechiness         4.624056\n",
       "acousticness        3.285192\n",
       "instrumentalness    4.049592\n",
       "liveness            3.322635\n",
       "valence             2.510551\n",
       "tempo               4.003240\n",
       "duration_ms         2.152537\n",
       "time_signature      2.490433\n",
       "dtype: float64"
      ]
     },
     "execution_count": 282,
     "metadata": {},
     "output_type": "execute_result"
    }
   ],
   "source": [
    "predictor_t_values.mean()"
   ]
  },
  {
   "cell_type": "code",
   "execution_count": null,
   "metadata": {},
   "outputs": [],
   "source": []
  }
 ],
 "metadata": {
  "kernelspec": {
   "display_name": "Python 3",
   "language": "python",
   "name": "python3"
  },
  "language_info": {
   "codemirror_mode": {
    "name": "ipython",
    "version": 3
   },
   "file_extension": ".py",
   "mimetype": "text/x-python",
   "name": "python",
   "nbconvert_exporter": "python",
   "pygments_lexer": "ipython3",
   "version": "3.7.3"
  }
 },
 "nbformat": 4,
 "nbformat_minor": 4
}
