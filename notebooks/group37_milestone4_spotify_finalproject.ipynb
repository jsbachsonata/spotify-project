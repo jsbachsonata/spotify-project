{
 "cells": [
  {
   "cell_type": "markdown",
   "metadata": {},
   "source": [
    "# Spotify Final Project\n",
    "### Austin Rochon, Emily Xie, and Mark Lock\n",
    "### Milestone 4\n",
    "*Contents*\n",
    "1. Baseline model - KNN using K-means cluster labels\n",
    "2. Recommendation procedure - inverse distance monte carlo playlist selection\n",
    "3. Simplest model - KNN for each playlist using musical features\n",
    "4. Structural model - Logistic regression for each playlist using musical features"
   ]
  },
  {
   "cell_type": "markdown",
   "metadata": {},
   "source": [
    "### 1. Baseline model - KNN using K-means cluster labels"
   ]
  },
  {
   "cell_type": "code",
   "execution_count": 270,
   "metadata": {},
   "outputs": [],
   "source": [
    "# Import requisite packages\n",
    "import os\n",
    "import glob\n",
    "import pandas as pd\n",
    "import numpy as np\n",
    "import matplotlib.pyplot as plt\n",
    "import seaborn as sns\n",
    "from scipy.sparse import csr_matrix\n",
    "from scipy.spatial import distance\n",
    "from sklearn.cluster import KMeans\n",
    "from sklearn.preprocessing import MinMaxScaler\n",
    "from sklearn.preprocessing import normalize\n",
    "from sklearn.model_selection import train_test_split\n",
    "from sklearn.neighbors import KNeighborsClassifier\n",
    "from sklearn.model_selection import cross_val_score\n",
    "from sklearn.metrics import accuracy_score\n",
    "from sklearn.model_selection import KFold"
   ]
  },
  {
   "cell_type": "markdown",
   "metadata": {},
   "source": [
    "#### Run this cell to load google cloud bigquery:"
   ]
  },
  {
   "cell_type": "code",
   "execution_count": 5,
   "metadata": {},
   "outputs": [],
   "source": [
    "# Set up credentials\n",
    "os.environ[\"GOOGLE_APPLICATION_CREDENTIALS\"]=\"PATH\""
   ]
  },
  {
   "cell_type": "code",
   "execution_count": 6,
   "metadata": {},
   "outputs": [
    {
     "name": "stdout",
     "output_type": "stream",
     "text": [
      "The google.cloud.bigquery extension is already loaded. To reload it, use:\n",
      "  %reload_ext google.cloud.bigquery\n"
     ]
    }
   ],
   "source": [
    "%load_ext google.cloud.bigquery"
   ]
  },
  {
   "cell_type": "code",
   "execution_count": 7,
   "metadata": {},
   "outputs": [],
   "source": [
    "%%bigquery playlist_data\n",
    "WITH cte AS (\n",
    "  SELECT *, \n",
    "    ROW_NUMBER() OVER(PARTITION BY track_uri ORDER BY unique_pid) AS track_row\n",
    "  FROM playlist_songs.playlist_tracks_joined_rand\n",
    "  LIMIT 500000\n",
    ")\n",
    "SELECT * \n",
    "FROM cte\n",
    "WHERE track_row = 1\n",
    "LIMIT 100000"
   ]
  },
  {
   "cell_type": "markdown",
   "metadata": {},
   "source": [
    "#### Data cleaning"
   ]
  },
  {
   "cell_type": "markdown",
   "metadata": {},
   "source": [
    "Create dataframe with song-playlist mappings (for later analysis)"
   ]
  },
  {
   "cell_type": "code",
   "execution_count": 8,
   "metadata": {},
   "outputs": [
    {
     "data": {
      "text/html": [
       "<div>\n",
       "<style scoped>\n",
       "    .dataframe tbody tr th:only-of-type {\n",
       "        vertical-align: middle;\n",
       "    }\n",
       "\n",
       "    .dataframe tbody tr th {\n",
       "        vertical-align: top;\n",
       "    }\n",
       "\n",
       "    .dataframe thead th {\n",
       "        text-align: right;\n",
       "    }\n",
       "</style>\n",
       "<table border=\"1\" class=\"dataframe\">\n",
       "  <thead>\n",
       "    <tr style=\"text-align: right;\">\n",
       "      <th></th>\n",
       "      <th>trackid</th>\n",
       "      <th>playlists</th>\n",
       "    </tr>\n",
       "  </thead>\n",
       "  <tbody>\n",
       "    <tr>\n",
       "      <td>0</td>\n",
       "      <td>spotify:track:000T9PNzxi3xNEucKererm</td>\n",
       "      <td>[303678]</td>\n",
       "    </tr>\n",
       "    <tr>\n",
       "      <td>1</td>\n",
       "      <td>spotify:track:000xQL6tZNLJzIrtIgxqSl</td>\n",
       "      <td>[17343]</td>\n",
       "    </tr>\n",
       "    <tr>\n",
       "      <td>2</td>\n",
       "      <td>spotify:track:000xYdQfIZ4pDmBGzQalKU</td>\n",
       "      <td>[686817]</td>\n",
       "    </tr>\n",
       "    <tr>\n",
       "      <td>3</td>\n",
       "      <td>spotify:track:001BVhvaZTf2icV88rU3DA</td>\n",
       "      <td>[676618]</td>\n",
       "    </tr>\n",
       "    <tr>\n",
       "      <td>4</td>\n",
       "      <td>spotify:track:002HVvfZx6AKPzJEeimuu5</td>\n",
       "      <td>[423684]</td>\n",
       "    </tr>\n",
       "  </tbody>\n",
       "</table>\n",
       "</div>"
      ],
      "text/plain": [
       "                                trackid playlists\n",
       "0  spotify:track:000T9PNzxi3xNEucKererm  [303678]\n",
       "1  spotify:track:000xQL6tZNLJzIrtIgxqSl   [17343]\n",
       "2  spotify:track:000xYdQfIZ4pDmBGzQalKU  [686817]\n",
       "3  spotify:track:001BVhvaZTf2icV88rU3DA  [676618]\n",
       "4  spotify:track:002HVvfZx6AKPzJEeimuu5  [423684]"
      ]
     },
     "execution_count": 8,
     "metadata": {},
     "output_type": "execute_result"
    }
   ],
   "source": [
    "# Copy df\n",
    "playlist_mapping = playlist_data.copy()\n",
    "playlist_mapping = playlist_mapping.set_index(\"trackid\")\n",
    "playlist_mapping = playlist_mapping[\"unique_pid\"]\n",
    "\n",
    "# Create mapping df containing trackid and list of playlists it's associated with\n",
    "# https://stackoverflow.com/questions/22219004/grouping-rows-in-list-in-pandas-groupby\n",
    "playlist_mapping = playlist_mapping.groupby(\"trackid\").apply(list).reset_index(name=\"playlists\")\n",
    "playlist_mapping.head()\n"
   ]
  },
  {
   "cell_type": "markdown",
   "metadata": {},
   "source": [
    "First fetch only numeric data"
   ]
  },
  {
   "cell_type": "code",
   "execution_count": 9,
   "metadata": {},
   "outputs": [
    {
     "name": "stderr",
     "output_type": "stream",
     "text": [
      "/Users/austinrochon/Documents/6.Harvard/harvard-coursework/ac209a/labs/lab1/cs109a/lib/python3.7/site-packages/ipykernel_launcher.py:5: SettingWithCopyWarning: \n",
      "A value is trying to be set on a copy of a slice from a DataFrame.\n",
      "Try using .loc[row_indexer,col_indexer] = value instead\n",
      "\n",
      "See the caveats in the documentation: http://pandas.pydata.org/pandas-docs/stable/user_guide/indexing.html#returning-a-view-versus-a-copy\n",
      "  \"\"\"\n"
     ]
    },
    {
     "data": {
      "text/html": [
       "<div>\n",
       "<style scoped>\n",
       "    .dataframe tbody tr th:only-of-type {\n",
       "        vertical-align: middle;\n",
       "    }\n",
       "\n",
       "    .dataframe tbody tr th {\n",
       "        vertical-align: top;\n",
       "    }\n",
       "\n",
       "    .dataframe thead th {\n",
       "        text-align: right;\n",
       "    }\n",
       "</style>\n",
       "<table border=\"1\" class=\"dataframe\">\n",
       "  <thead>\n",
       "    <tr style=\"text-align: right;\">\n",
       "      <th></th>\n",
       "      <th>danceability</th>\n",
       "      <th>energy</th>\n",
       "      <th>key</th>\n",
       "      <th>loudness</th>\n",
       "      <th>mode</th>\n",
       "      <th>speechiness</th>\n",
       "      <th>acousticness</th>\n",
       "      <th>instrumentalness</th>\n",
       "      <th>liveness</th>\n",
       "      <th>valence</th>\n",
       "      <th>tempo</th>\n",
       "      <th>duration_ms</th>\n",
       "      <th>time_signature</th>\n",
       "    </tr>\n",
       "    <tr>\n",
       "      <th>trackid</th>\n",
       "      <th></th>\n",
       "      <th></th>\n",
       "      <th></th>\n",
       "      <th></th>\n",
       "      <th></th>\n",
       "      <th></th>\n",
       "      <th></th>\n",
       "      <th></th>\n",
       "      <th></th>\n",
       "      <th></th>\n",
       "      <th></th>\n",
       "      <th></th>\n",
       "      <th></th>\n",
       "    </tr>\n",
       "  </thead>\n",
       "  <tbody>\n",
       "    <tr>\n",
       "      <td>spotify:track:001BVhvaZTf2icV88rU3DA</td>\n",
       "      <td>0.775</td>\n",
       "      <td>0.355</td>\n",
       "      <td>6.0</td>\n",
       "      <td>-11.755</td>\n",
       "      <td>0.0</td>\n",
       "      <td>0.1580</td>\n",
       "      <td>0.061000</td>\n",
       "      <td>0.013700</td>\n",
       "      <td>0.166</td>\n",
       "      <td>0.356</td>\n",
       "      <td>87.997</td>\n",
       "      <td>205256.0</td>\n",
       "      <td>4.0</td>\n",
       "    </tr>\n",
       "    <tr>\n",
       "      <td>spotify:track:002HVvfZx6AKPzJEeimuu5</td>\n",
       "      <td>0.232</td>\n",
       "      <td>0.485</td>\n",
       "      <td>7.0</td>\n",
       "      <td>-13.939</td>\n",
       "      <td>0.0</td>\n",
       "      <td>0.0556</td>\n",
       "      <td>0.779000</td>\n",
       "      <td>0.934000</td>\n",
       "      <td>0.116</td>\n",
       "      <td>0.239</td>\n",
       "      <td>73.347</td>\n",
       "      <td>154573.0</td>\n",
       "      <td>4.0</td>\n",
       "    </tr>\n",
       "    <tr>\n",
       "      <td>spotify:track:004skCQeDn1iLntSom0rRr</td>\n",
       "      <td>0.605</td>\n",
       "      <td>0.846</td>\n",
       "      <td>9.0</td>\n",
       "      <td>-4.581</td>\n",
       "      <td>1.0</td>\n",
       "      <td>0.0778</td>\n",
       "      <td>0.000738</td>\n",
       "      <td>0.000001</td>\n",
       "      <td>0.053</td>\n",
       "      <td>0.764</td>\n",
       "      <td>132.997</td>\n",
       "      <td>177773.0</td>\n",
       "      <td>4.0</td>\n",
       "    </tr>\n",
       "    <tr>\n",
       "      <td>spotify:track:00CQsyWt5NGD7kaKBvG33Y</td>\n",
       "      <td>0.688</td>\n",
       "      <td>0.589</td>\n",
       "      <td>9.0</td>\n",
       "      <td>-7.276</td>\n",
       "      <td>1.0</td>\n",
       "      <td>0.1530</td>\n",
       "      <td>0.257000</td>\n",
       "      <td>0.005710</td>\n",
       "      <td>0.102</td>\n",
       "      <td>0.857</td>\n",
       "      <td>125.937</td>\n",
       "      <td>147547.0</td>\n",
       "      <td>4.0</td>\n",
       "    </tr>\n",
       "    <tr>\n",
       "      <td>spotify:track:00CujlY4ya5p2FNDu9BCZP</td>\n",
       "      <td>0.377</td>\n",
       "      <td>0.745</td>\n",
       "      <td>8.0</td>\n",
       "      <td>-5.059</td>\n",
       "      <td>0.0</td>\n",
       "      <td>0.0696</td>\n",
       "      <td>0.021900</td>\n",
       "      <td>0.000052</td>\n",
       "      <td>0.185</td>\n",
       "      <td>0.344</td>\n",
       "      <td>76.526</td>\n",
       "      <td>252416.0</td>\n",
       "      <td>4.0</td>\n",
       "    </tr>\n",
       "  </tbody>\n",
       "</table>\n",
       "</div>"
      ],
      "text/plain": [
       "                                      danceability  energy  key  loudness  \\\n",
       "trackid                                                                     \n",
       "spotify:track:001BVhvaZTf2icV88rU3DA         0.775   0.355  6.0   -11.755   \n",
       "spotify:track:002HVvfZx6AKPzJEeimuu5         0.232   0.485  7.0   -13.939   \n",
       "spotify:track:004skCQeDn1iLntSom0rRr         0.605   0.846  9.0    -4.581   \n",
       "spotify:track:00CQsyWt5NGD7kaKBvG33Y         0.688   0.589  9.0    -7.276   \n",
       "spotify:track:00CujlY4ya5p2FNDu9BCZP         0.377   0.745  8.0    -5.059   \n",
       "\n",
       "                                      mode  speechiness  acousticness  \\\n",
       "trackid                                                                 \n",
       "spotify:track:001BVhvaZTf2icV88rU3DA   0.0       0.1580      0.061000   \n",
       "spotify:track:002HVvfZx6AKPzJEeimuu5   0.0       0.0556      0.779000   \n",
       "spotify:track:004skCQeDn1iLntSom0rRr   1.0       0.0778      0.000738   \n",
       "spotify:track:00CQsyWt5NGD7kaKBvG33Y   1.0       0.1530      0.257000   \n",
       "spotify:track:00CujlY4ya5p2FNDu9BCZP   0.0       0.0696      0.021900   \n",
       "\n",
       "                                      instrumentalness  liveness  valence  \\\n",
       "trackid                                                                     \n",
       "spotify:track:001BVhvaZTf2icV88rU3DA          0.013700     0.166    0.356   \n",
       "spotify:track:002HVvfZx6AKPzJEeimuu5          0.934000     0.116    0.239   \n",
       "spotify:track:004skCQeDn1iLntSom0rRr          0.000001     0.053    0.764   \n",
       "spotify:track:00CQsyWt5NGD7kaKBvG33Y          0.005710     0.102    0.857   \n",
       "spotify:track:00CujlY4ya5p2FNDu9BCZP          0.000052     0.185    0.344   \n",
       "\n",
       "                                        tempo  duration_ms  time_signature  \n",
       "trackid                                                                     \n",
       "spotify:track:001BVhvaZTf2icV88rU3DA   87.997     205256.0             4.0  \n",
       "spotify:track:002HVvfZx6AKPzJEeimuu5   73.347     154573.0             4.0  \n",
       "spotify:track:004skCQeDn1iLntSom0rRr  132.997     177773.0             4.0  \n",
       "spotify:track:00CQsyWt5NGD7kaKBvG33Y  125.937     147547.0             4.0  \n",
       "spotify:track:00CujlY4ya5p2FNDu9BCZP   76.526     252416.0             4.0  "
      ]
     },
     "execution_count": 9,
     "metadata": {},
     "output_type": "execute_result"
    }
   ],
   "source": [
    "# Pull in only audio features \n",
    "# https://stackoverflow.com/questions/25039626/how-do-i-find-numeric-columns-in-pandas\n",
    "numerics = ['int16', 'int32', 'int64', 'float16', 'float32', 'float64']\n",
    "playlist_numeric = playlist_data.select_dtypes(include=numerics)\n",
    "playlist_numeric[\"trackid\"] = playlist_data[\"trackid\"]\n",
    "playlist_numeric = playlist_numeric.set_index(\"trackid\")\n",
    "playlist_numeric = playlist_numeric.drop([\"index\",\"pid\", \"pos\", \"unique_pid\", \"track_row\", \"random\"], axis=1)\n",
    "playlist_numeric.head()"
   ]
  },
  {
   "cell_type": "markdown",
   "metadata": {},
   "source": [
    "## Modeling"
   ]
  },
  {
   "cell_type": "markdown",
   "metadata": {},
   "source": [
    "#### K-means for labeling\n",
    "The first thing we'll want to do is find similarities between \"groups\" of songs in our data set. To do so, we'll first need to construct groups, using their audio properties as features to group them by. Before we begin, we need to normalize our data."
   ]
  },
  {
   "cell_type": "code",
   "execution_count": 10,
   "metadata": {},
   "outputs": [],
   "source": [
    "def normalize(df, scalar, features):\n",
    "    # Split df into features and non-features\n",
    "    non_feature_df = df[df.columns.difference(features)]\n",
    "    feature_df = df[features]\n",
    "    \n",
    "    # Scale the features\n",
    "    np_transform = scalar.transform(feature_df)\n",
    "    df_transform = pd.DataFrame(np_transform, columns=features)\n",
    "\n",
    "    # Merge back the features and non-features\n",
    "    non_feature_df.reset_index(drop=True, inplace=True)\n",
    "    df_transform.reset_index(drop=True, inplace=True)\n",
    "    df_transform = pd.concat([non_feature_df, df_transform], axis = 1)\n",
    "    \n",
    "    return df_transform"
   ]
  },
  {
   "cell_type": "code",
   "execution_count": 11,
   "metadata": {},
   "outputs": [
    {
     "data": {
      "text/plain": [
       "(100000, 13)"
      ]
     },
     "metadata": {},
     "output_type": "display_data"
    },
    {
     "data": {
      "text/plain": [
       "(99710, 13)"
      ]
     },
     "metadata": {},
     "output_type": "display_data"
    },
    {
     "data": {
      "text/html": [
       "<div>\n",
       "<style scoped>\n",
       "    .dataframe tbody tr th:only-of-type {\n",
       "        vertical-align: middle;\n",
       "    }\n",
       "\n",
       "    .dataframe tbody tr th {\n",
       "        vertical-align: top;\n",
       "    }\n",
       "\n",
       "    .dataframe thead th {\n",
       "        text-align: right;\n",
       "    }\n",
       "</style>\n",
       "<table border=\"1\" class=\"dataframe\">\n",
       "  <thead>\n",
       "    <tr style=\"text-align: right;\">\n",
       "      <th></th>\n",
       "      <th>danceability</th>\n",
       "      <th>energy</th>\n",
       "      <th>key</th>\n",
       "      <th>loudness</th>\n",
       "      <th>mode</th>\n",
       "      <th>speechiness</th>\n",
       "      <th>acousticness</th>\n",
       "      <th>instrumentalness</th>\n",
       "      <th>liveness</th>\n",
       "      <th>valence</th>\n",
       "      <th>tempo</th>\n",
       "      <th>duration_ms</th>\n",
       "      <th>time_signature</th>\n",
       "    </tr>\n",
       "    <tr>\n",
       "      <th>trackid</th>\n",
       "      <th></th>\n",
       "      <th></th>\n",
       "      <th></th>\n",
       "      <th></th>\n",
       "      <th></th>\n",
       "      <th></th>\n",
       "      <th></th>\n",
       "      <th></th>\n",
       "      <th></th>\n",
       "      <th></th>\n",
       "      <th></th>\n",
       "      <th></th>\n",
       "      <th></th>\n",
       "    </tr>\n",
       "  </thead>\n",
       "  <tbody>\n",
       "    <tr>\n",
       "      <td>spotify:track:001BVhvaZTf2icV88rU3DA</td>\n",
       "      <td>0.775</td>\n",
       "      <td>0.355</td>\n",
       "      <td>6.0</td>\n",
       "      <td>-11.755</td>\n",
       "      <td>0.0</td>\n",
       "      <td>0.1580</td>\n",
       "      <td>0.061000</td>\n",
       "      <td>0.013700</td>\n",
       "      <td>0.166</td>\n",
       "      <td>0.356</td>\n",
       "      <td>87.997</td>\n",
       "      <td>205256.0</td>\n",
       "      <td>4.0</td>\n",
       "    </tr>\n",
       "    <tr>\n",
       "      <td>spotify:track:002HVvfZx6AKPzJEeimuu5</td>\n",
       "      <td>0.232</td>\n",
       "      <td>0.485</td>\n",
       "      <td>7.0</td>\n",
       "      <td>-13.939</td>\n",
       "      <td>0.0</td>\n",
       "      <td>0.0556</td>\n",
       "      <td>0.779000</td>\n",
       "      <td>0.934000</td>\n",
       "      <td>0.116</td>\n",
       "      <td>0.239</td>\n",
       "      <td>73.347</td>\n",
       "      <td>154573.0</td>\n",
       "      <td>4.0</td>\n",
       "    </tr>\n",
       "    <tr>\n",
       "      <td>spotify:track:004skCQeDn1iLntSom0rRr</td>\n",
       "      <td>0.605</td>\n",
       "      <td>0.846</td>\n",
       "      <td>9.0</td>\n",
       "      <td>-4.581</td>\n",
       "      <td>1.0</td>\n",
       "      <td>0.0778</td>\n",
       "      <td>0.000738</td>\n",
       "      <td>0.000001</td>\n",
       "      <td>0.053</td>\n",
       "      <td>0.764</td>\n",
       "      <td>132.997</td>\n",
       "      <td>177773.0</td>\n",
       "      <td>4.0</td>\n",
       "    </tr>\n",
       "    <tr>\n",
       "      <td>spotify:track:00CQsyWt5NGD7kaKBvG33Y</td>\n",
       "      <td>0.688</td>\n",
       "      <td>0.589</td>\n",
       "      <td>9.0</td>\n",
       "      <td>-7.276</td>\n",
       "      <td>1.0</td>\n",
       "      <td>0.1530</td>\n",
       "      <td>0.257000</td>\n",
       "      <td>0.005710</td>\n",
       "      <td>0.102</td>\n",
       "      <td>0.857</td>\n",
       "      <td>125.937</td>\n",
       "      <td>147547.0</td>\n",
       "      <td>4.0</td>\n",
       "    </tr>\n",
       "    <tr>\n",
       "      <td>spotify:track:00CujlY4ya5p2FNDu9BCZP</td>\n",
       "      <td>0.377</td>\n",
       "      <td>0.745</td>\n",
       "      <td>8.0</td>\n",
       "      <td>-5.059</td>\n",
       "      <td>0.0</td>\n",
       "      <td>0.0696</td>\n",
       "      <td>0.021900</td>\n",
       "      <td>0.000052</td>\n",
       "      <td>0.185</td>\n",
       "      <td>0.344</td>\n",
       "      <td>76.526</td>\n",
       "      <td>252416.0</td>\n",
       "      <td>4.0</td>\n",
       "    </tr>\n",
       "  </tbody>\n",
       "</table>\n",
       "</div>"
      ],
      "text/plain": [
       "                                      danceability  energy  key  loudness  \\\n",
       "trackid                                                                     \n",
       "spotify:track:001BVhvaZTf2icV88rU3DA         0.775   0.355  6.0   -11.755   \n",
       "spotify:track:002HVvfZx6AKPzJEeimuu5         0.232   0.485  7.0   -13.939   \n",
       "spotify:track:004skCQeDn1iLntSom0rRr         0.605   0.846  9.0    -4.581   \n",
       "spotify:track:00CQsyWt5NGD7kaKBvG33Y         0.688   0.589  9.0    -7.276   \n",
       "spotify:track:00CujlY4ya5p2FNDu9BCZP         0.377   0.745  8.0    -5.059   \n",
       "\n",
       "                                      mode  speechiness  acousticness  \\\n",
       "trackid                                                                 \n",
       "spotify:track:001BVhvaZTf2icV88rU3DA   0.0       0.1580      0.061000   \n",
       "spotify:track:002HVvfZx6AKPzJEeimuu5   0.0       0.0556      0.779000   \n",
       "spotify:track:004skCQeDn1iLntSom0rRr   1.0       0.0778      0.000738   \n",
       "spotify:track:00CQsyWt5NGD7kaKBvG33Y   1.0       0.1530      0.257000   \n",
       "spotify:track:00CujlY4ya5p2FNDu9BCZP   0.0       0.0696      0.021900   \n",
       "\n",
       "                                      instrumentalness  liveness  valence  \\\n",
       "trackid                                                                     \n",
       "spotify:track:001BVhvaZTf2icV88rU3DA          0.013700     0.166    0.356   \n",
       "spotify:track:002HVvfZx6AKPzJEeimuu5          0.934000     0.116    0.239   \n",
       "spotify:track:004skCQeDn1iLntSom0rRr          0.000001     0.053    0.764   \n",
       "spotify:track:00CQsyWt5NGD7kaKBvG33Y          0.005710     0.102    0.857   \n",
       "spotify:track:00CujlY4ya5p2FNDu9BCZP          0.000052     0.185    0.344   \n",
       "\n",
       "                                        tempo  duration_ms  time_signature  \n",
       "trackid                                                                     \n",
       "spotify:track:001BVhvaZTf2icV88rU3DA   87.997     205256.0             4.0  \n",
       "spotify:track:002HVvfZx6AKPzJEeimuu5   73.347     154573.0             4.0  \n",
       "spotify:track:004skCQeDn1iLntSom0rRr  132.997     177773.0             4.0  \n",
       "spotify:track:00CQsyWt5NGD7kaKBvG33Y  125.937     147547.0             4.0  \n",
       "spotify:track:00CujlY4ya5p2FNDu9BCZP   76.526     252416.0             4.0  "
      ]
     },
     "metadata": {},
     "output_type": "display_data"
    },
    {
     "data": {
      "text/html": [
       "<div>\n",
       "<style scoped>\n",
       "    .dataframe tbody tr th:only-of-type {\n",
       "        vertical-align: middle;\n",
       "    }\n",
       "\n",
       "    .dataframe tbody tr th {\n",
       "        vertical-align: top;\n",
       "    }\n",
       "\n",
       "    .dataframe thead th {\n",
       "        text-align: right;\n",
       "    }\n",
       "</style>\n",
       "<table border=\"1\" class=\"dataframe\">\n",
       "  <thead>\n",
       "    <tr style=\"text-align: right;\">\n",
       "      <th></th>\n",
       "      <th>danceability</th>\n",
       "      <th>energy</th>\n",
       "      <th>key</th>\n",
       "      <th>loudness</th>\n",
       "      <th>mode</th>\n",
       "      <th>speechiness</th>\n",
       "      <th>acousticness</th>\n",
       "      <th>instrumentalness</th>\n",
       "      <th>liveness</th>\n",
       "      <th>valence</th>\n",
       "      <th>tempo</th>\n",
       "      <th>duration_ms</th>\n",
       "      <th>time_signature</th>\n",
       "    </tr>\n",
       "    <tr>\n",
       "      <th>trackid</th>\n",
       "      <th></th>\n",
       "      <th></th>\n",
       "      <th></th>\n",
       "      <th></th>\n",
       "      <th></th>\n",
       "      <th></th>\n",
       "      <th></th>\n",
       "      <th></th>\n",
       "      <th></th>\n",
       "      <th></th>\n",
       "      <th></th>\n",
       "      <th></th>\n",
       "      <th></th>\n",
       "    </tr>\n",
       "  </thead>\n",
       "  <tbody>\n",
       "    <tr>\n",
       "      <td>spotify:track:001BVhvaZTf2icV88rU3DA</td>\n",
       "      <td>0.784413</td>\n",
       "      <td>0.355</td>\n",
       "      <td>0.545455</td>\n",
       "      <td>0.768649</td>\n",
       "      <td>0.0</td>\n",
       "      <td>0.163900</td>\n",
       "      <td>0.061245</td>\n",
       "      <td>0.013700</td>\n",
       "      <td>0.166</td>\n",
       "      <td>0.356</td>\n",
       "      <td>0.354741</td>\n",
       "      <td>0.043233</td>\n",
       "      <td>0.8</td>\n",
       "    </tr>\n",
       "    <tr>\n",
       "      <td>spotify:track:002HVvfZx6AKPzJEeimuu5</td>\n",
       "      <td>0.234818</td>\n",
       "      <td>0.485</td>\n",
       "      <td>0.636364</td>\n",
       "      <td>0.733853</td>\n",
       "      <td>0.0</td>\n",
       "      <td>0.057676</td>\n",
       "      <td>0.782129</td>\n",
       "      <td>0.934000</td>\n",
       "      <td>0.116</td>\n",
       "      <td>0.239</td>\n",
       "      <td>0.295682</td>\n",
       "      <td>0.032397</td>\n",
       "      <td>0.8</td>\n",
       "    </tr>\n",
       "    <tr>\n",
       "      <td>spotify:track:004skCQeDn1iLntSom0rRr</td>\n",
       "      <td>0.612348</td>\n",
       "      <td>0.846</td>\n",
       "      <td>0.818182</td>\n",
       "      <td>0.882946</td>\n",
       "      <td>1.0</td>\n",
       "      <td>0.080705</td>\n",
       "      <td>0.000741</td>\n",
       "      <td>0.000001</td>\n",
       "      <td>0.053</td>\n",
       "      <td>0.764</td>\n",
       "      <td>0.536149</td>\n",
       "      <td>0.037357</td>\n",
       "      <td>0.8</td>\n",
       "    </tr>\n",
       "    <tr>\n",
       "      <td>spotify:track:00CQsyWt5NGD7kaKBvG33Y</td>\n",
       "      <td>0.696356</td>\n",
       "      <td>0.589</td>\n",
       "      <td>0.818182</td>\n",
       "      <td>0.840009</td>\n",
       "      <td>1.0</td>\n",
       "      <td>0.158714</td>\n",
       "      <td>0.258032</td>\n",
       "      <td>0.005710</td>\n",
       "      <td>0.102</td>\n",
       "      <td>0.857</td>\n",
       "      <td>0.507688</td>\n",
       "      <td>0.030894</td>\n",
       "      <td>0.8</td>\n",
       "    </tr>\n",
       "    <tr>\n",
       "      <td>spotify:track:00CujlY4ya5p2FNDu9BCZP</td>\n",
       "      <td>0.381579</td>\n",
       "      <td>0.745</td>\n",
       "      <td>0.727273</td>\n",
       "      <td>0.875331</td>\n",
       "      <td>0.0</td>\n",
       "      <td>0.072199</td>\n",
       "      <td>0.021988</td>\n",
       "      <td>0.000052</td>\n",
       "      <td>0.185</td>\n",
       "      <td>0.344</td>\n",
       "      <td>0.308498</td>\n",
       "      <td>0.053317</td>\n",
       "      <td>0.8</td>\n",
       "    </tr>\n",
       "  </tbody>\n",
       "</table>\n",
       "</div>"
      ],
      "text/plain": [
       "                                      danceability  energy       key  \\\n",
       "trackid                                                                \n",
       "spotify:track:001BVhvaZTf2icV88rU3DA      0.784413   0.355  0.545455   \n",
       "spotify:track:002HVvfZx6AKPzJEeimuu5      0.234818   0.485  0.636364   \n",
       "spotify:track:004skCQeDn1iLntSom0rRr      0.612348   0.846  0.818182   \n",
       "spotify:track:00CQsyWt5NGD7kaKBvG33Y      0.696356   0.589  0.818182   \n",
       "spotify:track:00CujlY4ya5p2FNDu9BCZP      0.381579   0.745  0.727273   \n",
       "\n",
       "                                      loudness  mode  speechiness  \\\n",
       "trackid                                                             \n",
       "spotify:track:001BVhvaZTf2icV88rU3DA  0.768649   0.0     0.163900   \n",
       "spotify:track:002HVvfZx6AKPzJEeimuu5  0.733853   0.0     0.057676   \n",
       "spotify:track:004skCQeDn1iLntSom0rRr  0.882946   1.0     0.080705   \n",
       "spotify:track:00CQsyWt5NGD7kaKBvG33Y  0.840009   1.0     0.158714   \n",
       "spotify:track:00CujlY4ya5p2FNDu9BCZP  0.875331   0.0     0.072199   \n",
       "\n",
       "                                      acousticness  instrumentalness  \\\n",
       "trackid                                                                \n",
       "spotify:track:001BVhvaZTf2icV88rU3DA      0.061245          0.013700   \n",
       "spotify:track:002HVvfZx6AKPzJEeimuu5      0.782129          0.934000   \n",
       "spotify:track:004skCQeDn1iLntSom0rRr      0.000741          0.000001   \n",
       "spotify:track:00CQsyWt5NGD7kaKBvG33Y      0.258032          0.005710   \n",
       "spotify:track:00CujlY4ya5p2FNDu9BCZP      0.021988          0.000052   \n",
       "\n",
       "                                      liveness  valence     tempo  \\\n",
       "trackid                                                             \n",
       "spotify:track:001BVhvaZTf2icV88rU3DA     0.166    0.356  0.354741   \n",
       "spotify:track:002HVvfZx6AKPzJEeimuu5     0.116    0.239  0.295682   \n",
       "spotify:track:004skCQeDn1iLntSom0rRr     0.053    0.764  0.536149   \n",
       "spotify:track:00CQsyWt5NGD7kaKBvG33Y     0.102    0.857  0.507688   \n",
       "spotify:track:00CujlY4ya5p2FNDu9BCZP     0.185    0.344  0.308498   \n",
       "\n",
       "                                      duration_ms  time_signature  \n",
       "trackid                                                            \n",
       "spotify:track:001BVhvaZTf2icV88rU3DA     0.043233             0.8  \n",
       "spotify:track:002HVvfZx6AKPzJEeimuu5     0.032397             0.8  \n",
       "spotify:track:004skCQeDn1iLntSom0rRr     0.037357             0.8  \n",
       "spotify:track:00CQsyWt5NGD7kaKBvG33Y     0.030894             0.8  \n",
       "spotify:track:00CujlY4ya5p2FNDu9BCZP     0.053317             0.8  "
      ]
     },
     "metadata": {},
     "output_type": "display_data"
    }
   ],
   "source": [
    "# Fit MinMaxScalar and select features we will be using (all columns from playlist_numeric)\n",
    "scalar = MinMaxScaler().fit(playlist_numeric)\n",
    "features = playlist_numeric.columns\n",
    "\n",
    "# Normalize data\n",
    "playlist_norm = normalize(playlist_numeric, scalar, features)\n",
    "playlist_norm[\"trackid\"] = playlist_numeric.index\n",
    "playlist_norm = playlist_norm.set_index(\"trackid\")\n",
    "\n",
    "# Drop NAs\n",
    "display(playlist_norm.shape)\n",
    "playlist_norm = playlist_norm.dropna(how=\"any\")\n",
    "display(playlist_norm.shape)\n",
    "\n",
    "display(playlist_numeric.head())\n",
    "display(playlist_norm.head())"
   ]
  },
  {
   "cell_type": "markdown",
   "metadata": {},
   "source": [
    "#### Run k-means with chosen number of clusters (12)\n",
    "The code below runs k-means clustering, assigns cluster labels, and outputs 1) our raw data with cluster assignments, and 2) mean data for each cluster"
   ]
  },
  {
   "cell_type": "code",
   "execution_count": 12,
   "metadata": {},
   "outputs": [],
   "source": [
    "def kmeans(num_clusters, data):\n",
    "    '''Runs kmeans algorithm, returning cluster assignment and centers'''\n",
    "    # Initialize KMeans\n",
    "    kmeans = KMeans(n_clusters=num_clusters)\n",
    "\n",
    "    # Fitting with inputs\n",
    "    kmeans = kmeans.fit(data)\n",
    "\n",
    "    # Predicting clusters\n",
    "    labels = kmeans.predict(data)\n",
    "\n",
    "    # Get cluster centers\n",
    "    centers = kmeans.cluster_centers_\n",
    "    \n",
    "    return labels, centers\n",
    "\n",
    "\n",
    "def build_kmeans_output(data, col_name):\n",
    "    '''Builds out final dataset'''\n",
    "    df_means[col_name] = data.groupby(['cluster'])[col_name].mean().to_frame(col_name)    \n",
    "    \n",
    "    \n",
    "def run_kmeans(df, clusters):\n",
    "    # Run kmeans, given a specified number of clusters\n",
    "    data = df.copy()\n",
    "    labels, centers = kmeans(clusters, data.drop(\"trackid\", axis=1))\n",
    "    data['cluster'] = labels\n",
    "    \n",
    "    # Build df_means table to store results\n",
    "    df_means = data.groupby(['cluster'])['trackid'].count().to_frame('n')\n",
    "    \n",
    "    for col in data.columns.values:\n",
    "        if col != 'trackid':\n",
    "            df_means[col] = data.groupby(['cluster'])[col].mean().to_frame(col)    \n",
    "      \n",
    "    # Generate alphabetical representation of clusters\n",
    "    mapping = {0:'A', 1:'B', 2:'C', 3:'D', 4:'E', 5:'F', 6: 'G', 7:'H', 8:'I', 9:'J', 10:\"K\", 11:\"L\"}\n",
    "    df_means['cluster_alpha'] = df_means['cluster']\n",
    "    df_means = df_means.replace({'cluster_alpha':mapping})\n",
    "\n",
    "    data['cluster_alpha'] = data['cluster']\n",
    "    data = data.replace({'cluster_alpha':mapping})\n",
    "    \n",
    "    return df_means, data    "
   ]
  },
  {
   "cell_type": "code",
   "execution_count": 13,
   "metadata": {},
   "outputs": [
    {
     "data": {
      "text/html": [
       "<div>\n",
       "<style scoped>\n",
       "    .dataframe tbody tr th:only-of-type {\n",
       "        vertical-align: middle;\n",
       "    }\n",
       "\n",
       "    .dataframe tbody tr th {\n",
       "        vertical-align: top;\n",
       "    }\n",
       "\n",
       "    .dataframe thead th {\n",
       "        text-align: right;\n",
       "    }\n",
       "</style>\n",
       "<table border=\"1\" class=\"dataframe\">\n",
       "  <thead>\n",
       "    <tr style=\"text-align: right;\">\n",
       "      <th></th>\n",
       "      <th>n</th>\n",
       "      <th>danceability</th>\n",
       "      <th>energy</th>\n",
       "      <th>key</th>\n",
       "      <th>loudness</th>\n",
       "      <th>mode</th>\n",
       "      <th>speechiness</th>\n",
       "      <th>acousticness</th>\n",
       "      <th>instrumentalness</th>\n",
       "      <th>liveness</th>\n",
       "      <th>valence</th>\n",
       "      <th>tempo</th>\n",
       "      <th>duration_ms</th>\n",
       "      <th>time_signature</th>\n",
       "      <th>cluster</th>\n",
       "      <th>cluster_alpha</th>\n",
       "    </tr>\n",
       "    <tr>\n",
       "      <th>cluster</th>\n",
       "      <th></th>\n",
       "      <th></th>\n",
       "      <th></th>\n",
       "      <th></th>\n",
       "      <th></th>\n",
       "      <th></th>\n",
       "      <th></th>\n",
       "      <th></th>\n",
       "      <th></th>\n",
       "      <th></th>\n",
       "      <th></th>\n",
       "      <th></th>\n",
       "      <th></th>\n",
       "      <th></th>\n",
       "      <th></th>\n",
       "      <th></th>\n",
       "    </tr>\n",
       "  </thead>\n",
       "  <tbody>\n",
       "    <tr>\n",
       "      <td>0</td>\n",
       "      <td>9921</td>\n",
       "      <td>0.673501</td>\n",
       "      <td>0.733242</td>\n",
       "      <td>0.124923</td>\n",
       "      <td>0.850971</td>\n",
       "      <td>1.0</td>\n",
       "      <td>0.103688</td>\n",
       "      <td>0.173493</td>\n",
       "      <td>0.017766</td>\n",
       "      <td>0.201296</td>\n",
       "      <td>0.736067</td>\n",
       "      <td>0.495171</td>\n",
       "      <td>0.046717</td>\n",
       "      <td>0.792803</td>\n",
       "      <td>0</td>\n",
       "      <td>A</td>\n",
       "    </tr>\n",
       "    <tr>\n",
       "      <td>1</td>\n",
       "      <td>10271</td>\n",
       "      <td>0.532921</td>\n",
       "      <td>0.708741</td>\n",
       "      <td>0.132376</td>\n",
       "      <td>0.853756</td>\n",
       "      <td>1.0</td>\n",
       "      <td>0.092156</td>\n",
       "      <td>0.089337</td>\n",
       "      <td>0.023058</td>\n",
       "      <td>0.227768</td>\n",
       "      <td>0.326965</td>\n",
       "      <td>0.508174</td>\n",
       "      <td>0.052299</td>\n",
       "      <td>0.788200</td>\n",
       "      <td>1</td>\n",
       "      <td>B</td>\n",
       "    </tr>\n",
       "    <tr>\n",
       "      <td>2</td>\n",
       "      <td>12305</td>\n",
       "      <td>0.642654</td>\n",
       "      <td>0.719278</td>\n",
       "      <td>0.830764</td>\n",
       "      <td>0.850848</td>\n",
       "      <td>0.0</td>\n",
       "      <td>0.122460</td>\n",
       "      <td>0.144707</td>\n",
       "      <td>0.022993</td>\n",
       "      <td>0.210004</td>\n",
       "      <td>0.551692</td>\n",
       "      <td>0.492036</td>\n",
       "      <td>0.050323</td>\n",
       "      <td>0.794067</td>\n",
       "      <td>2</td>\n",
       "      <td>C</td>\n",
       "    </tr>\n",
       "    <tr>\n",
       "      <td>3</td>\n",
       "      <td>11379</td>\n",
       "      <td>0.521121</td>\n",
       "      <td>0.721368</td>\n",
       "      <td>0.720098</td>\n",
       "      <td>0.854944</td>\n",
       "      <td>1.0</td>\n",
       "      <td>0.088842</td>\n",
       "      <td>0.086353</td>\n",
       "      <td>0.023970</td>\n",
       "      <td>0.229279</td>\n",
       "      <td>0.347172</td>\n",
       "      <td>0.507880</td>\n",
       "      <td>0.051696</td>\n",
       "      <td>0.788452</td>\n",
       "      <td>3</td>\n",
       "      <td>D</td>\n",
       "    </tr>\n",
       "    <tr>\n",
       "      <td>4</td>\n",
       "      <td>5398</td>\n",
       "      <td>0.459254</td>\n",
       "      <td>0.300409</td>\n",
       "      <td>0.504126</td>\n",
       "      <td>0.731035</td>\n",
       "      <td>0.0</td>\n",
       "      <td>0.070208</td>\n",
       "      <td>0.800265</td>\n",
       "      <td>0.298768</td>\n",
       "      <td>0.168817</td>\n",
       "      <td>0.289242</td>\n",
       "      <td>0.449339</td>\n",
       "      <td>0.051365</td>\n",
       "      <td>0.756206</td>\n",
       "      <td>4</td>\n",
       "      <td>E</td>\n",
       "    </tr>\n",
       "    <tr>\n",
       "      <td>5</td>\n",
       "      <td>3468</td>\n",
       "      <td>0.593388</td>\n",
       "      <td>0.700279</td>\n",
       "      <td>0.565272</td>\n",
       "      <td>0.821950</td>\n",
       "      <td>0.0</td>\n",
       "      <td>0.068527</td>\n",
       "      <td>0.126662</td>\n",
       "      <td>0.757900</td>\n",
       "      <td>0.196823</td>\n",
       "      <td>0.400799</td>\n",
       "      <td>0.502191</td>\n",
       "      <td>0.059779</td>\n",
       "      <td>0.788120</td>\n",
       "      <td>5</td>\n",
       "      <td>F</td>\n",
       "    </tr>\n",
       "    <tr>\n",
       "      <td>6</td>\n",
       "      <td>4268</td>\n",
       "      <td>0.568529</td>\n",
       "      <td>0.715319</td>\n",
       "      <td>0.430476</td>\n",
       "      <td>0.824461</td>\n",
       "      <td>1.0</td>\n",
       "      <td>0.067967</td>\n",
       "      <td>0.108123</td>\n",
       "      <td>0.772308</td>\n",
       "      <td>0.193737</td>\n",
       "      <td>0.413500</td>\n",
       "      <td>0.503547</td>\n",
       "      <td>0.058342</td>\n",
       "      <td>0.788285</td>\n",
       "      <td>6</td>\n",
       "      <td>G</td>\n",
       "    </tr>\n",
       "    <tr>\n",
       "      <td>7</td>\n",
       "      <td>7582</td>\n",
       "      <td>0.526284</td>\n",
       "      <td>0.369839</td>\n",
       "      <td>0.730654</td>\n",
       "      <td>0.780992</td>\n",
       "      <td>1.0</td>\n",
       "      <td>0.075838</td>\n",
       "      <td>0.712843</td>\n",
       "      <td>0.024284</td>\n",
       "      <td>0.192324</td>\n",
       "      <td>0.394949</td>\n",
       "      <td>0.463130</td>\n",
       "      <td>0.047868</td>\n",
       "      <td>0.761435</td>\n",
       "      <td>7</td>\n",
       "      <td>H</td>\n",
       "    </tr>\n",
       "    <tr>\n",
       "      <td>8</td>\n",
       "      <td>7457</td>\n",
       "      <td>0.504635</td>\n",
       "      <td>0.341875</td>\n",
       "      <td>0.179124</td>\n",
       "      <td>0.774958</td>\n",
       "      <td>1.0</td>\n",
       "      <td>0.070596</td>\n",
       "      <td>0.738935</td>\n",
       "      <td>0.024250</td>\n",
       "      <td>0.185118</td>\n",
       "      <td>0.349706</td>\n",
       "      <td>0.462141</td>\n",
       "      <td>0.048914</td>\n",
       "      <td>0.761352</td>\n",
       "      <td>8</td>\n",
       "      <td>I</td>\n",
       "    </tr>\n",
       "    <tr>\n",
       "      <td>9</td>\n",
       "      <td>11486</td>\n",
       "      <td>0.677317</td>\n",
       "      <td>0.728814</td>\n",
       "      <td>0.711380</td>\n",
       "      <td>0.850660</td>\n",
       "      <td>1.0</td>\n",
       "      <td>0.099897</td>\n",
       "      <td>0.184117</td>\n",
       "      <td>0.016756</td>\n",
       "      <td>0.192394</td>\n",
       "      <td>0.747943</td>\n",
       "      <td>0.492767</td>\n",
       "      <td>0.046325</td>\n",
       "      <td>0.791398</td>\n",
       "      <td>9</td>\n",
       "      <td>J</td>\n",
       "    </tr>\n",
       "    <tr>\n",
       "      <td>10</td>\n",
       "      <td>3746</td>\n",
       "      <td>0.379685</td>\n",
       "      <td>0.217126</td>\n",
       "      <td>0.416250</td>\n",
       "      <td>0.665750</td>\n",
       "      <td>1.0</td>\n",
       "      <td>0.049407</td>\n",
       "      <td>0.864644</td>\n",
       "      <td>0.835215</td>\n",
       "      <td>0.141694</td>\n",
       "      <td>0.224051</td>\n",
       "      <td>0.434674</td>\n",
       "      <td>0.053365</td>\n",
       "      <td>0.746450</td>\n",
       "      <td>10</td>\n",
       "      <td>K</td>\n",
       "    </tr>\n",
       "    <tr>\n",
       "      <td>11</td>\n",
       "      <td>12429</td>\n",
       "      <td>0.613585</td>\n",
       "      <td>0.718510</td>\n",
       "      <td>0.272486</td>\n",
       "      <td>0.853124</td>\n",
       "      <td>0.0</td>\n",
       "      <td>0.108864</td>\n",
       "      <td>0.146924</td>\n",
       "      <td>0.021515</td>\n",
       "      <td>0.213021</td>\n",
       "      <td>0.500830</td>\n",
       "      <td>0.493412</td>\n",
       "      <td>0.050410</td>\n",
       "      <td>0.792019</td>\n",
       "      <td>11</td>\n",
       "      <td>L</td>\n",
       "    </tr>\n",
       "  </tbody>\n",
       "</table>\n",
       "</div>"
      ],
      "text/plain": [
       "             n  danceability    energy       key  loudness  mode  speechiness  \\\n",
       "cluster                                                                         \n",
       "0         9921      0.673501  0.733242  0.124923  0.850971   1.0     0.103688   \n",
       "1        10271      0.532921  0.708741  0.132376  0.853756   1.0     0.092156   \n",
       "2        12305      0.642654  0.719278  0.830764  0.850848   0.0     0.122460   \n",
       "3        11379      0.521121  0.721368  0.720098  0.854944   1.0     0.088842   \n",
       "4         5398      0.459254  0.300409  0.504126  0.731035   0.0     0.070208   \n",
       "5         3468      0.593388  0.700279  0.565272  0.821950   0.0     0.068527   \n",
       "6         4268      0.568529  0.715319  0.430476  0.824461   1.0     0.067967   \n",
       "7         7582      0.526284  0.369839  0.730654  0.780992   1.0     0.075838   \n",
       "8         7457      0.504635  0.341875  0.179124  0.774958   1.0     0.070596   \n",
       "9        11486      0.677317  0.728814  0.711380  0.850660   1.0     0.099897   \n",
       "10        3746      0.379685  0.217126  0.416250  0.665750   1.0     0.049407   \n",
       "11       12429      0.613585  0.718510  0.272486  0.853124   0.0     0.108864   \n",
       "\n",
       "         acousticness  instrumentalness  liveness   valence     tempo  \\\n",
       "cluster                                                                 \n",
       "0            0.173493          0.017766  0.201296  0.736067  0.495171   \n",
       "1            0.089337          0.023058  0.227768  0.326965  0.508174   \n",
       "2            0.144707          0.022993  0.210004  0.551692  0.492036   \n",
       "3            0.086353          0.023970  0.229279  0.347172  0.507880   \n",
       "4            0.800265          0.298768  0.168817  0.289242  0.449339   \n",
       "5            0.126662          0.757900  0.196823  0.400799  0.502191   \n",
       "6            0.108123          0.772308  0.193737  0.413500  0.503547   \n",
       "7            0.712843          0.024284  0.192324  0.394949  0.463130   \n",
       "8            0.738935          0.024250  0.185118  0.349706  0.462141   \n",
       "9            0.184117          0.016756  0.192394  0.747943  0.492767   \n",
       "10           0.864644          0.835215  0.141694  0.224051  0.434674   \n",
       "11           0.146924          0.021515  0.213021  0.500830  0.493412   \n",
       "\n",
       "         duration_ms  time_signature  cluster cluster_alpha  \n",
       "cluster                                                      \n",
       "0           0.046717        0.792803        0             A  \n",
       "1           0.052299        0.788200        1             B  \n",
       "2           0.050323        0.794067        2             C  \n",
       "3           0.051696        0.788452        3             D  \n",
       "4           0.051365        0.756206        4             E  \n",
       "5           0.059779        0.788120        5             F  \n",
       "6           0.058342        0.788285        6             G  \n",
       "7           0.047868        0.761435        7             H  \n",
       "8           0.048914        0.761352        8             I  \n",
       "9           0.046325        0.791398        9             J  \n",
       "10          0.053365        0.746450       10             K  \n",
       "11          0.050410        0.792019       11             L  "
      ]
     },
     "execution_count": 13,
     "metadata": {},
     "output_type": "execute_result"
    }
   ],
   "source": [
    "k = 12\n",
    "playlist_norm[\"trackid\"] = playlist_norm.index\n",
    "playlist_means, playlist_clusters = run_kmeans(playlist_norm, k)\n",
    "playlist_means"
   ]
  },
  {
   "cell_type": "markdown",
   "metadata": {},
   "source": [
    "#### Visualize attributes across clusters"
   ]
  },
  {
   "cell_type": "code",
   "execution_count": 14,
   "metadata": {},
   "outputs": [],
   "source": [
    "def plot_bar_by_cluster(df, cols):\n",
    "    sns.set(style=\"whitegrid\")\n",
    "\n",
    "    # Draw a nested barplot \n",
    "    chart = sns.catplot(x=cols[0], y=cols[1], data=df[cols],\n",
    "                    height=6, kind=\"bar\", palette=\"Blues_r\")\n",
    "    chart.despine(left=True)\n",
    "    chart.set_ylabels(cols[1])\n",
    "    chart.set_xlabels(cols[0])\n",
    "    if cols[1] == \"n\":\n",
    "        plt.title(f\"\"\"{cols[1]} by cluster\"\"\", pad=0); \n",
    "    else:\n",
    "        plt.title(f\"\"\"Mean {cols[1]} by cluster\"\"\", pad=0); \n",
    "        \n",
    "    plt.savefig(f\"../out/{cols[1]}_cluster_comparison.svg\", dpi=1200)"
   ]
  },
  {
   "cell_type": "code",
   "execution_count": 105,
   "metadata": {},
   "outputs": [
    {
     "data": {
      "image/png": "[encoded data removed]",
      "text/plain": [
       "<Figure size 432x432 with 1 Axes>"
      ]
     },
     "metadata": {},
     "output_type": "display_data"
    },
    {
     "data": {
      "image/png": "[encoded data removed]",
      "text/plain": [
       "<Figure size 432x432 with 1 Axes>"
      ]
     },
     "metadata": {},
     "output_type": "display_data"
    },
    {
     "data": {
      "image/png": "[encoded data removed]",
      "text/plain": [
       "<Figure size 432x432 with 1 Axes>"
      ]
     },
     "metadata": {},
     "output_type": "display_data"
    },
    {
     "data": {
      "image/png": "[encoded data removed]",
      "text/plain": [
       "<Figure size 432x432 with 1 Axes>"
      ]
     },
     "metadata": {},
     "output_type": "display_data"
    },
    {
     "data": {
      "image/png": "[encoded data removed]",
      "text/plain": [
       "<Figure size 432x432 with 1 Axes>"
      ]
     },
     "metadata": {},
     "output_type": "display_data"
    },
    {
     "data": {
      "image/png": "[encoded data removed]",
      "text/plain": [
       "<Figure size 432x432 with 1 Axes>"
      ]
     },
     "metadata": {},
     "output_type": "display_data"
    },
    {
     "data": {
      "image/png": "[encoded data removed]",
      "text/plain": [
       "<Figure size 432x432 with 1 Axes>"
      ]
     },
     "metadata": {},
     "output_type": "display_data"
    },
    {
     "data": {
      "image/png": "[encoded data removed]",
      "text/plain": [
       "<Figure size 432x432 with 1 Axes>"
      ]
     },
     "metadata": {},
     "output_type": "display_data"
    },
    {
     "data": {
      "image/png": "[encoded data removed]",
      "text/plain": [
       "<Figure size 432x432 with 1 Axes>"
      ]
     },
     "metadata": {},
     "output_type": "display_data"
    },
    {
     "data": {
      "image/png": "[encoded data removed]",
      "text/plain": [
       "<Figure size 432x432 with 1 Axes>"
      ]
     },
     "metadata": {},
     "output_type": "display_data"
    },
    {
     "data": {
      "image/png": "[encoded data removed]",
      "text/plain": [
       "<Figure size 432x432 with 1 Axes>"
      ]
     },
     "metadata": {},
     "output_type": "display_data"
    },
    {
     "data": {
      "image/png": "[encoded data removed]",
      "text/plain": [
       "<Figure size 432x432 with 1 Axes>"
      ]
     },
     "metadata": {},
     "output_type": "display_data"
    },
    {
     "data": {
      "image/png": "[encoded data removed]",
      "text/plain": [
       "<Figure size 432x432 with 1 Axes>"
      ]
     },
     "metadata": {},
     "output_type": "display_data"
    },
    {
     "data": {
      "image/png": "[encoded data removed]",
      "text/plain": [
       "<Figure size 432x432 with 1 Axes>"
      ]
     },
     "metadata": {},
     "output_type": "display_data"
    }
   ],
   "source": [
    "features = ['n','danceability', 'energy', 'key', 'loudness', 'mode', 'speechiness',\n",
    "           'acousticness', 'instrumentalness', 'liveness', 'valence', 'tempo',\n",
    "           'duration_ms', 'time_signature']\n",
    "\n",
    "for feature in features:\n",
    "    cols = [\"cluster_alpha\"]\n",
    "    cols.append(feature)\n",
    "    plot_bar_by_cluster(playlist_means, cols)"
   ]
  },
  {
   "cell_type": "markdown",
   "metadata": {},
   "source": [
    "#### K-Nearest Neighbors\n",
    "Now that we have labels for our tracks (cluster number), we can build a recommender engine. Let's use K-Nearest neighbors to fit future songs to a given cluster. First, we need to split our data into train and test."
   ]
  },
  {
   "cell_type": "code",
   "execution_count": 15,
   "metadata": {},
   "outputs": [
    {
     "data": {
      "text/plain": [
       "((79768, 13), (19942, 13), (79768,), (19942,))"
      ]
     },
     "execution_count": 15,
     "metadata": {},
     "output_type": "execute_result"
    }
   ],
   "source": [
    "playlist_clusters = playlist_clusters.drop([\"trackid\", \"cluster_alpha\"], axis=1)\n",
    "X_train, X_test, y_train, y_test = train_test_split(playlist_clusters.loc[:, playlist_clusters.columns != 'cluster'], \n",
    "                                                    playlist_clusters.cluster, test_size=0.2, \n",
    "                                                    random_state = 666, \n",
    "                                                    stratify = playlist_clusters.cluster)\n",
    "\n",
    "X_train.shape, X_test.shape, y_train.shape, y_test.shape"
   ]
  },
  {
   "cell_type": "markdown",
   "metadata": {},
   "source": [
    "Next we will fit our kNN model to our chosen k (100)"
   ]
  },
  {
   "cell_type": "code",
   "execution_count": 16,
   "metadata": {},
   "outputs": [],
   "source": [
    "neighbors = 100\n",
    "knn_chosen = KNeighborsClassifier(n_neighbors=neighbors).fit(X_train, y_train)\n",
    "knn_chosen_predictions_train = knn_chosen.predict(X_train)\n",
    "knn_chosen_predictions_test = knn_chosen.predict(X_test)"
   ]
  },
  {
   "cell_type": "markdown",
   "metadata": {},
   "source": [
    "#### Make Predictions With K-Nearest Neighbors\n",
    "Now that we have a model, selected using cross-validation, we can predict class labels. Can we also get the most similar song? The below returns a list of the *n* closest songs in terms of feature vector distance"
   ]
  },
  {
   "cell_type": "code",
   "execution_count": 17,
   "metadata": {},
   "outputs": [],
   "source": [
    "def generate_nearest_songs(trackid, features):\n",
    "    \n",
    "    mapping = {0:'A', 1:'B', 2:'C', 3:'D', 4:'E', 5:'F', 6: 'G', 7:'H', 8:'I', 9:'J', 10: 'K', 11: 'L'}\n",
    "    \n",
    "    # Generate n closest neighbors\n",
    "    feature_vector = features.loc[trackid].drop(\"cluster\").to_numpy().reshape(1,-1)\n",
    "    kneighbors = knn_chosen.kneighbors(feature_vector)\n",
    "    kneighbors_indices = kneighbors[1].reshape(-1)\n",
    "    kneighbors_distances = kneighbors[0].reshape(-1)\n",
    "    \n",
    "    # Predict cluster\n",
    "    predicted_cluster = mapping[knn_chosen.predict(feature_vector)[0]]\n",
    "\n",
    "    # Save distances to df\n",
    "    distances = pd.DataFrame({\"trackid\": X_train.iloc[kneighbors_indices].index, \"distance\": kneighbors_distances})\n",
    "\n",
    "    # Get their playlist data\n",
    "    p_df = playlist_data.set_index(\"trackid\").loc[X_train.iloc[kneighbors_indices].index]\\\n",
    "        [[\"artist_name\", \"track_name\"]]\n",
    "\n",
    "    # Join distances and track data\n",
    "    return predicted_cluster, p_df.merge(distances, how=\"inner\", on=\"trackid\")\n",
    "\n",
    "\n",
    "def plot_nearest_neighbors(neighbors_df, artist_track):\n",
    "    plot_df = neighbors_df[[\"artist_track\", \"distance\"]]\n",
    "    # truncation: https://stackoverflow.com/questions/22792740/truncating-column-width-in-pandas\n",
    "    plot_df[\"artist_track\"] = plot_df[\"artist_track\"].str[:50]\n",
    "    fig, ax = plt.subplots()\n",
    "    ax = sns.barplot(x='distance', y='artist_track', data=plot_df, palette=\"Blues_d\")\n",
    "    ax.set_xlabel('distance')\n",
    "    plt.title(artist_track)\n",
    "    \n",
    "    filename = artist_track.replace(\" \", \"\").replace(\":\", \"_\")\n",
    "    plt.tight_layout()\n",
    "    plt.savefig(f\"../out/{filename}_nearestneighbors.svg\", quality=95, dpi=1200)\n",
    "    "
   ]
  },
  {
   "cell_type": "code",
   "execution_count": null,
   "metadata": {},
   "outputs": [],
   "source": [
    "clusters = []\n",
    "\n",
    "# Wolfgang Amadeus Mozart, Piano Concerto No.21 in C Major,: \"spotify:track:3aX8Xg1XxtEplBZDORWmyv\"\n",
    "cluster, neighbors = generate_nearest_songs(\"spotify:track:3aX8Xg1XxtEplBZDORWmyv\", playlist_clusters)\n",
    "artist_track = \"Mozart: Piano Concerto No.21 in C Major\"\n",
    "neighbors[\"artist_track\"] = neighbors[\"artist_name\"] + \": \" + neighbors[\"track_name\"]\n",
    "clusters.append({\"artist_track\": artist_track, \"cluster\": cluster})\n",
    "plot_nearest_neighbors(neighbors.head(10), artist_track)\n",
    "\n",
    "# Kendrick Lamar, alright: \"spotify:track:3iVcZ5G6tvkXZkZKlMpIUs\"\n",
    "cluster, neighbors = generate_nearest_songs(\"spotify:track:0ECs7wpW9157Tk5yBUGbE0\", playlist_clusters)\n",
    "artist_track = \"Kendrick Lamar: alright\"\n",
    "neighbors[\"artist_track\"] = neighbors[\"artist_name\"] + \": \" + neighbors[\"track_name\"]\n",
    "clusters.append({\"artist_track\": artist_track, \"cluster\": cluster})\n",
    "plot_nearest_neighbors(neighbors.head(10), artist_track)\n",
    "\n",
    "# Slayer, Raining Blood: \"spotify:track:4Yx9Tw9dTgQ8eGCq3PRDyn\"\n",
    "cluster, neighbors = generate_nearest_songs(\"spotify:track:4Yx9Tw9dTgQ8eGCq3PRDyn\", playlist_clusters)\n",
    "artist_track = \"Slayer: Raining Blood\"\n",
    "neighbors[\"artist_track\"] = neighbors[\"artist_name\"] + \": \" + neighbors[\"track_name\"]\n",
    "clusters.append({\"artist_track\": artist_track, \"cluster\": cluster})\n",
    "plot_nearest_neighbors(neighbors.head(10), artist_track)\n",
    "\n",
    "pd.DataFrame(clusters)"
   ]
  },
  {
   "cell_type": "markdown",
   "metadata": {},
   "source": [
    "#### Code for examples"
   ]
  },
  {
   "cell_type": "markdown",
   "metadata": {},
   "source": [
    "Fetch trackIDs for a given artist / track"
   ]
  },
  {
   "cell_type": "code",
   "execution_count": 19,
   "metadata": {},
   "outputs": [
    {
     "data": {
      "text/html": [
       "<div>\n",
       "<style scoped>\n",
       "    .dataframe tbody tr th:only-of-type {\n",
       "        vertical-align: middle;\n",
       "    }\n",
       "\n",
       "    .dataframe tbody tr th {\n",
       "        vertical-align: top;\n",
       "    }\n",
       "\n",
       "    .dataframe thead th {\n",
       "        text-align: right;\n",
       "    }\n",
       "</style>\n",
       "<table border=\"1\" class=\"dataframe\">\n",
       "  <thead>\n",
       "    <tr style=\"text-align: right;\">\n",
       "      <th></th>\n",
       "      <th>artist_name</th>\n",
       "      <th>track_name</th>\n",
       "    </tr>\n",
       "    <tr>\n",
       "      <th>trackid</th>\n",
       "      <th></th>\n",
       "      <th></th>\n",
       "    </tr>\n",
       "  </thead>\n",
       "  <tbody>\n",
       "    <tr>\n",
       "      <td>spotify:track:5xrHvVmSF3ui0EKI8FArv3</td>\n",
       "      <td>Scott Bradlee's Postmodern Jukebox</td>\n",
       "      <td>Bad Romance</td>\n",
       "    </tr>\n",
       "    <tr>\n",
       "      <td>spotify:track:0n3sHHfdOq6Awix3JPe3xl</td>\n",
       "      <td>Halestorm</td>\n",
       "      <td>Bad Romance</td>\n",
       "    </tr>\n",
       "    <tr>\n",
       "      <td>spotify:track:3vYhrG4O1NqVBSc7oXXpQH</td>\n",
       "      <td>Lissie</td>\n",
       "      <td>Bad Romance</td>\n",
       "    </tr>\n",
       "    <tr>\n",
       "      <td>spotify:track:5P5cGNzqh6A353N3ShDK6Y</td>\n",
       "      <td>Lady Gaga</td>\n",
       "      <td>Bad Romance</td>\n",
       "    </tr>\n",
       "  </tbody>\n",
       "</table>\n",
       "</div>"
      ],
      "text/plain": [
       "                                                             artist_name  \\\n",
       "trackid                                                                    \n",
       "spotify:track:5xrHvVmSF3ui0EKI8FArv3  Scott Bradlee's Postmodern Jukebox   \n",
       "spotify:track:0n3sHHfdOq6Awix3JPe3xl                           Halestorm   \n",
       "spotify:track:3vYhrG4O1NqVBSc7oXXpQH                              Lissie   \n",
       "spotify:track:5P5cGNzqh6A353N3ShDK6Y                           Lady Gaga   \n",
       "\n",
       "                                       track_name  \n",
       "trackid                                            \n",
       "spotify:track:5xrHvVmSF3ui0EKI8FArv3  Bad Romance  \n",
       "spotify:track:0n3sHHfdOq6Awix3JPe3xl  Bad Romance  \n",
       "spotify:track:3vYhrG4O1NqVBSc7oXXpQH  Bad Romance  \n",
       "spotify:track:5P5cGNzqh6A353N3ShDK6Y  Bad Romance  "
      ]
     },
     "execution_count": 19,
     "metadata": {},
     "output_type": "execute_result"
    }
   ],
   "source": [
    "tester = X_train.merge(playlist_data.set_index(\"trackid\"), how=\"inner\", on=\"trackid\")\n",
    "# tester[tester[\"artist_name\"] == \"Lady Gaga\"][[\"artist_name\", \"track_name\"]]\n",
    "tester[tester[\"track_name\"] == \"Bad Romance\"][[\"artist_name\", \"track_name\"]]\n"
   ]
  },
  {
   "cell_type": "markdown",
   "metadata": {},
   "source": [
    "For a given song, fetch all songs within same cluster, along with their playlists and features"
   ]
  },
  {
   "cell_type": "code",
   "execution_count": 403,
   "metadata": {},
   "outputs": [],
   "source": [
    "# Lady Gaga: Bad Romance\n",
    "# spotify:track:5P5cGNzqh6A353N3ShDK6Y\n",
    "gaga_cluster, gaga_neighbors = generate_nearest_songs(\"spotify:track:5P5cGNzqh6A353N3ShDK6Y\", playlist_clusters.drop(\"cluster_alpha\", axis=1))"
   ]
  },
  {
   "cell_type": "code",
   "execution_count": 404,
   "metadata": {},
   "outputs": [],
   "source": [
    "# Add cluster_alpha back\n",
    "mapping = {0:'A', 1:'B', 2:'C', 3:'D', 4:'E', 5:'F', 6: 'G', 7:'H', 8:'I', 9:'J', 10: 'K', 11: 'L'}\n",
    "playlist_clusters[\"cluster_alpha\"] = playlist_clusters[\"cluster\"]\n",
    "playlist_clusters = playlist_clusters.replace({'cluster_alpha':mapping})\n",
    "playlist_clusters.head()\n",
    "\n",
    "# Grab all associated with gaga_cluster\n",
    "playlist_gaga = playlist_clusters[playlist_clusters[\"cluster_alpha\"] == gaga_cluster]"
   ]
  },
  {
   "cell_type": "code",
   "execution_count": 405,
   "metadata": {},
   "outputs": [
    {
     "data": {
      "text/html": [
       "<div>\n",
       "<style scoped>\n",
       "    .dataframe tbody tr th:only-of-type {\n",
       "        vertical-align: middle;\n",
       "    }\n",
       "\n",
       "    .dataframe tbody tr th {\n",
       "        vertical-align: top;\n",
       "    }\n",
       "\n",
       "    .dataframe thead th {\n",
       "        text-align: right;\n",
       "    }\n",
       "</style>\n",
       "<table border=\"1\" class=\"dataframe\">\n",
       "  <thead>\n",
       "    <tr style=\"text-align: right;\">\n",
       "      <th></th>\n",
       "      <th>trackid</th>\n",
       "      <th>danceability</th>\n",
       "      <th>energy</th>\n",
       "      <th>key</th>\n",
       "      <th>loudness</th>\n",
       "      <th>mode</th>\n",
       "      <th>speechiness</th>\n",
       "      <th>acousticness</th>\n",
       "      <th>instrumentalness</th>\n",
       "      <th>liveness</th>\n",
       "      <th>valence</th>\n",
       "      <th>tempo</th>\n",
       "      <th>duration_ms</th>\n",
       "      <th>time_signature</th>\n",
       "      <th>cluster</th>\n",
       "      <th>cluster_alpha</th>\n",
       "      <th>playlists</th>\n",
       "      <th>artist_name</th>\n",
       "      <th>track_name</th>\n",
       "    </tr>\n",
       "  </thead>\n",
       "  <tbody>\n",
       "    <tr>\n",
       "      <td>0</td>\n",
       "      <td>spotify:track:00OVN9m036NqWcABlCXFpE</td>\n",
       "      <td>0.883603</td>\n",
       "      <td>0.520</td>\n",
       "      <td>0.181818</td>\n",
       "      <td>0.838448</td>\n",
       "      <td>1.0</td>\n",
       "      <td>0.134855</td>\n",
       "      <td>0.051104</td>\n",
       "      <td>0.010100</td>\n",
       "      <td>0.0901</td>\n",
       "      <td>0.582</td>\n",
       "      <td>0.397239</td>\n",
       "      <td>0.056358</td>\n",
       "      <td>0.8</td>\n",
       "      <td>0</td>\n",
       "      <td>A</td>\n",
       "      <td>[305773]</td>\n",
       "      <td>Vanessa Williams</td>\n",
       "      <td>Happiness</td>\n",
       "    </tr>\n",
       "    <tr>\n",
       "      <td>1</td>\n",
       "      <td>spotify:track:01HCxML9FEN3NEsVfSiCa0</td>\n",
       "      <td>0.703441</td>\n",
       "      <td>0.912</td>\n",
       "      <td>0.181818</td>\n",
       "      <td>0.914524</td>\n",
       "      <td>1.0</td>\n",
       "      <td>0.354772</td>\n",
       "      <td>0.047490</td>\n",
       "      <td>0.000000</td>\n",
       "      <td>0.6060</td>\n",
       "      <td>0.583</td>\n",
       "      <td>0.343070</td>\n",
       "      <td>0.037967</td>\n",
       "      <td>0.8</td>\n",
       "      <td>0</td>\n",
       "      <td>A</td>\n",
       "      <td>[194953]</td>\n",
       "      <td>G-Unit</td>\n",
       "      <td>Salute U</td>\n",
       "    </tr>\n",
       "    <tr>\n",
       "      <td>2</td>\n",
       "      <td>spotify:track:01MtUZOoNYzkIU6FeQGDdR</td>\n",
       "      <td>0.783401</td>\n",
       "      <td>0.726</td>\n",
       "      <td>0.090909</td>\n",
       "      <td>0.857980</td>\n",
       "      <td>1.0</td>\n",
       "      <td>0.127593</td>\n",
       "      <td>0.180723</td>\n",
       "      <td>0.000001</td>\n",
       "      <td>0.3190</td>\n",
       "      <td>0.743</td>\n",
       "      <td>0.411199</td>\n",
       "      <td>0.054083</td>\n",
       "      <td>0.8</td>\n",
       "      <td>0</td>\n",
       "      <td>A</td>\n",
       "      <td>[229939]</td>\n",
       "      <td>Natasha Bedingfield</td>\n",
       "      <td>Drop Me In The Middle</td>\n",
       "    </tr>\n",
       "    <tr>\n",
       "      <td>3</td>\n",
       "      <td>spotify:track:01NRpu9CeEx4DqiDjG20PA</td>\n",
       "      <td>0.619433</td>\n",
       "      <td>0.649</td>\n",
       "      <td>0.181818</td>\n",
       "      <td>0.842797</td>\n",
       "      <td>1.0</td>\n",
       "      <td>0.032365</td>\n",
       "      <td>0.552209</td>\n",
       "      <td>0.000862</td>\n",
       "      <td>0.0858</td>\n",
       "      <td>0.613</td>\n",
       "      <td>0.395021</td>\n",
       "      <td>0.050816</td>\n",
       "      <td>0.8</td>\n",
       "      <td>0</td>\n",
       "      <td>A</td>\n",
       "      <td>[548349]</td>\n",
       "      <td>Greensky Bluegrass</td>\n",
       "      <td>Miss September</td>\n",
       "    </tr>\n",
       "    <tr>\n",
       "      <td>4</td>\n",
       "      <td>spotify:track:01YSGdA81SstXR0QAwKQxF</td>\n",
       "      <td>0.617409</td>\n",
       "      <td>0.932</td>\n",
       "      <td>0.000000</td>\n",
       "      <td>0.900647</td>\n",
       "      <td>1.0</td>\n",
       "      <td>0.218880</td>\n",
       "      <td>0.202811</td>\n",
       "      <td>0.000000</td>\n",
       "      <td>0.1960</td>\n",
       "      <td>0.862</td>\n",
       "      <td>0.436850</td>\n",
       "      <td>0.202182</td>\n",
       "      <td>0.8</td>\n",
       "      <td>0</td>\n",
       "      <td>A</td>\n",
       "      <td>[478734]</td>\n",
       "      <td>Grand Maître Franco</td>\n",
       "      <td>Lettre à M. le DG</td>\n",
       "    </tr>\n",
       "  </tbody>\n",
       "</table>\n",
       "</div>"
      ],
      "text/plain": [
       "                                trackid  danceability  energy       key  \\\n",
       "0  spotify:track:00OVN9m036NqWcABlCXFpE      0.883603   0.520  0.181818   \n",
       "1  spotify:track:01HCxML9FEN3NEsVfSiCa0      0.703441   0.912  0.181818   \n",
       "2  spotify:track:01MtUZOoNYzkIU6FeQGDdR      0.783401   0.726  0.090909   \n",
       "3  spotify:track:01NRpu9CeEx4DqiDjG20PA      0.619433   0.649  0.181818   \n",
       "4  spotify:track:01YSGdA81SstXR0QAwKQxF      0.617409   0.932  0.000000   \n",
       "\n",
       "   loudness  mode  speechiness  acousticness  instrumentalness  liveness  \\\n",
       "0  0.838448   1.0     0.134855      0.051104          0.010100    0.0901   \n",
       "1  0.914524   1.0     0.354772      0.047490          0.000000    0.6060   \n",
       "2  0.857980   1.0     0.127593      0.180723          0.000001    0.3190   \n",
       "3  0.842797   1.0     0.032365      0.552209          0.000862    0.0858   \n",
       "4  0.900647   1.0     0.218880      0.202811          0.000000    0.1960   \n",
       "\n",
       "   valence     tempo  duration_ms  time_signature  cluster cluster_alpha  \\\n",
       "0    0.582  0.397239     0.056358             0.8        0             A   \n",
       "1    0.583  0.343070     0.037967             0.8        0             A   \n",
       "2    0.743  0.411199     0.054083             0.8        0             A   \n",
       "3    0.613  0.395021     0.050816             0.8        0             A   \n",
       "4    0.862  0.436850     0.202182             0.8        0             A   \n",
       "\n",
       "  playlists          artist_name             track_name  \n",
       "0  [305773]     Vanessa Williams              Happiness  \n",
       "1  [194953]               G-Unit               Salute U  \n",
       "2  [229939]  Natasha Bedingfield  Drop Me In The Middle  \n",
       "3  [548349]   Greensky Bluegrass         Miss September  \n",
       "4  [478734]  Grand Maître Franco      Lettre à M. le DG  "
      ]
     },
     "execution_count": 405,
     "metadata": {},
     "output_type": "execute_result"
    }
   ],
   "source": [
    "# Join to playlist data\n",
    "playlist_gaga = playlist_gaga.merge(playlist_mapping, how=\"inner\", on=\"trackid\")\n",
    "\n",
    "# Join to track data\n",
    "playlist_gaga = playlist_gaga.merge(playlist_data[[\"artist_name\", \"track_name\", \"trackid\"]], \n",
    "                                    how=\"inner\", on=\"trackid\")\n",
    "\n",
    "# playlist_gaga.to_csv(\"../out/gaga_cluster.csv\")\n",
    "playlist_gaga.head()\n",
    "\n",
    "\n",
    "# # playlist_data.merge(playlist_mapping, how=\"inner\", on=\"trackid\")\n",
    "# playlist_gaga.merge(playlist_data, how=\"inner\", on=\"trackid\")"
   ]
  },
  {
   "cell_type": "markdown",
   "metadata": {},
   "source": [
    "### 2. Recommendation procedure - inverse distance monte carlo playlist selection"
   ]
  },
  {
   "cell_type": "markdown",
   "metadata": {},
   "source": [
    "Using Lady Gaga's Bad Romance as an example, let's examine how we would apply Monte-Carlo to playlist selection, first naively, then weighted by inverse distance."
   ]
  },
  {
   "cell_type": "code",
   "execution_count": 406,
   "metadata": {},
   "outputs": [],
   "source": [
    "def select_top_n_playlists_naive(df, n=1000):\n",
    "    # Instantiate empty dict with playlist counts\n",
    "    playlist_counts = {playlist[0]: 0 for playlist in df[\"playlists\"]}\n",
    "    \n",
    "    # For each iteration in our specified n, count the randomly selected playlist\n",
    "    for i in range(n):\n",
    "        indices = np.arange(df.shape[0])\n",
    "        ind = np.random.choice(indices)\n",
    "        playlist_counts[df.iloc[ind][\"playlists\"][0]] += 1\n",
    "        \n",
    "    # Sort by count\n",
    "    # https://stackoverflow.com/questions/613183/how-do-i-sort-a-dictionary-by-value\n",
    "    playlist_counts = {str(k): v for k, v in sorted(playlist_counts.items(), key=lambda item: item[1], reverse=True)[:10]}\n",
    "\n",
    "    return playlist_counts"
   ]
  },
  {
   "cell_type": "code",
   "execution_count": 407,
   "metadata": {},
   "outputs": [],
   "source": [
    "def plot_top_n_playlists(playlist_dict, sim_type=\"Naive\"):\n",
    "    # Build dataframe and sort by count\n",
    "    df =  pd.DataFrame({\"playlist\": list(playlist_dict.keys()),\n",
    "                        \"count\": list(playlist_dict.values())})\n",
    "    df = df.sort_values(\"count\", ascending=False)\n",
    "    \n",
    "    ax = sns.barplot(x=\"count\", \n",
    "                 y=\"playlist\",\n",
    "                 data=df,\n",
    "                 palette=\"Blues_r\", \n",
    "                 orient=\"h\",\n",
    "                 order=df[\"playlist\"]).set_title(f\"Top Playlists Song Assigned To: {sim_type} Monte Carlo\")\n",
    "    plt.savefig(f\"../out/top10_playlists_montecarlo_{sim_type}.svg\", dpi=1200);\n",
    "    \n",
    "    "
   ]
  },
  {
   "cell_type": "code",
   "execution_count": 409,
   "metadata": {},
   "outputs": [
    {
     "data": {
      "image/png": "[encoded data removed]",
      "text/plain": [
       "<Figure size 432x288 with 1 Axes>"
      ]
     },
     "metadata": {
      "needs_background": "light"
     },
     "output_type": "display_data"
    }
   ],
   "source": [
    "# Generate top 10 playlists\n",
    "top_playlists_naive = select_top_n_playlists_naive(playlist_gaga, n=10000)\n",
    "\n",
    "# Plot em\n",
    "plot_top_n_playlists(top_playlists_naive, sim_type=\"Naive\")"
   ]
  },
  {
   "cell_type": "markdown",
   "metadata": {},
   "source": [
    "Next, we will weigh the playlists by inverse distance"
   ]
  },
  {
   "cell_type": "code",
   "execution_count": 410,
   "metadata": {},
   "outputs": [],
   "source": [
    "def select_top_n_playlists_by_distance(df, features, trackid=\"spotify:track:5P5cGNzqh6A353N3ShDK6Y\", n=1000):\n",
    "    # Instantiate empty dict with playlist counts and empty distance array\n",
    "    playlist_counts = {playlist[0]: 0 for playlist in df[\"playlists\"]}\n",
    "    distances = []\n",
    "    inverse_distances = []\n",
    "    \n",
    "    # Compute euclidean distance from target track for each row\n",
    "    gaga_feature_vector = df.set_index(\"trackid\").loc[trackid][features].to_numpy().reshape(1,-1)\n",
    "    \n",
    "    for idx in range(df.shape[0]):\n",
    "        target_feature_vector = df.iloc[idx][features].to_numpy().reshape(1,-1)\n",
    "        distances.append(distance.euclidean(gaga_feature_vector, target_feature_vector))\n",
    "        inverse_distances.append(1 / (1 + distance.euclidean(gaga_feature_vector, target_feature_vector)))\n",
    "        \n",
    "    # Now, get probabilities to sum to 1\n",
    "    inverse_distances /= sum(inverse_distances)\n",
    "        \n",
    "    # Add distances as column to original df\n",
    "    df[\"distance\"] = distances    \n",
    "    df[\"inverse_distance\"] = inverse_distances\n",
    "    \n",
    "    # For each iteration in our specified n, count the selected playlist, this time using inverse distance\n",
    "    for i in range(n):\n",
    "        indices = np.arange(df.shape[0])\n",
    "        idx = np.random.choice(indices, p=inverse_distances)\n",
    "        playlist_counts[df.iloc[idx][\"playlists\"][0]] += 1\n",
    "    \n",
    "    # Sort by count\n",
    "    # https://stackoverflow.com/questions/613183/how-do-i-sort-a-dictionary-by-value\n",
    "    playlist_counts = {str(k): v for k, v in sorted(playlist_counts.items(), key=lambda item: item[1], reverse=True)[:10]}\n",
    "\n",
    "    return playlist_counts"
   ]
  },
  {
   "cell_type": "code",
   "execution_count": 364,
   "metadata": {},
   "outputs": [
    {
     "data": {
      "image/png": "[encoded data removed]",
      "text/plain": [
       "<Figure size 432x288 with 1 Axes>"
      ]
     },
     "metadata": {
      "needs_background": "light"
     },
     "output_type": "display_data"
    }
   ],
   "source": [
    "features = [\"danceability\", \"energy\", \"key\", \"loudness\", \"mode\", \"speechiness\", \"acousticness\", \"instrumentalness\",\n",
    "            \"liveness\", \"valence\", \"tempo\", \"duration_ms\", \"time_signature\"]\n",
    "\n",
    "# Generate top n playlists\n",
    "top_playlists_weighted = select_top_n_playlists_by_distance(playlist_gaga, features, n=10000)\n",
    "\n",
    "# Plot em\n",
    "plot_top_n_playlists(top_playlists_weighted, sim_type=\"Weighted\")"
   ]
  },
  {
   "cell_type": "code",
   "execution_count": 411,
   "metadata": {},
   "outputs": [
    {
     "data": {
      "text/plain": [
       "0       305773\n",
       "1       194953\n",
       "2       229939\n",
       "3       548349\n",
       "4       478734\n",
       "         ...  \n",
       "9916      4254\n",
       "9917    501880\n",
       "9918    127185\n",
       "9919    374524\n",
       "9920    363386\n",
       "Name: playlists, Length: 9921, dtype: int64"
      ]
     },
     "execution_count": 411,
     "metadata": {},
     "output_type": "execute_result"
    }
   ],
   "source": [
    "# Okay, strip out these annoying lists of playlists\n",
    "playlist_gaga_working = playlist_gaga.copy()\n",
    "playlist_gaga_working[\"playlists\"] = playlist_gaga_working[\"playlists\"].apply(lambda x: x[0])\n",
    "\n",
    "playlist_gaga_working[\"playlists\"]"
   ]
  },
  {
   "cell_type": "code",
   "execution_count": 412,
   "metadata": {},
   "outputs": [
    {
     "data": {
      "text/html": [
       "<div>\n",
       "<style scoped>\n",
       "    .dataframe tbody tr th:only-of-type {\n",
       "        vertical-align: middle;\n",
       "    }\n",
       "\n",
       "    .dataframe tbody tr th {\n",
       "        vertical-align: top;\n",
       "    }\n",
       "\n",
       "    .dataframe thead th {\n",
       "        text-align: right;\n",
       "    }\n",
       "</style>\n",
       "<table border=\"1\" class=\"dataframe\">\n",
       "  <thead>\n",
       "    <tr style=\"text-align: right;\">\n",
       "      <th></th>\n",
       "      <th>danceability</th>\n",
       "      <th>energy</th>\n",
       "      <th>key</th>\n",
       "      <th>loudness</th>\n",
       "      <th>mode</th>\n",
       "      <th>speechiness</th>\n",
       "      <th>acousticness</th>\n",
       "      <th>instrumentalness</th>\n",
       "      <th>liveness</th>\n",
       "      <th>valence</th>\n",
       "      <th>tempo</th>\n",
       "      <th>duration_ms</th>\n",
       "      <th>time_signature</th>\n",
       "    </tr>\n",
       "    <tr>\n",
       "      <th>playlists</th>\n",
       "      <th></th>\n",
       "      <th></th>\n",
       "      <th></th>\n",
       "      <th></th>\n",
       "      <th></th>\n",
       "      <th></th>\n",
       "      <th></th>\n",
       "      <th></th>\n",
       "      <th></th>\n",
       "      <th></th>\n",
       "      <th></th>\n",
       "      <th></th>\n",
       "      <th></th>\n",
       "    </tr>\n",
       "  </thead>\n",
       "  <tbody>\n",
       "    <tr>\n",
       "      <td>33</td>\n",
       "      <td>0.502024</td>\n",
       "      <td>0.856</td>\n",
       "      <td>0.181818</td>\n",
       "      <td>0.892426</td>\n",
       "      <td>1.0</td>\n",
       "      <td>0.052905</td>\n",
       "      <td>0.186747</td>\n",
       "      <td>0.000047</td>\n",
       "      <td>0.3560</td>\n",
       "      <td>0.592</td>\n",
       "      <td>0.332593</td>\n",
       "      <td>0.045283</td>\n",
       "      <td>0.8</td>\n",
       "    </tr>\n",
       "    <tr>\n",
       "      <td>39</td>\n",
       "      <td>0.563765</td>\n",
       "      <td>0.737</td>\n",
       "      <td>0.272727</td>\n",
       "      <td>0.864321</td>\n",
       "      <td>1.0</td>\n",
       "      <td>0.049378</td>\n",
       "      <td>0.014257</td>\n",
       "      <td>0.000000</td>\n",
       "      <td>0.3140</td>\n",
       "      <td>0.817</td>\n",
       "      <td>0.637144</td>\n",
       "      <td>0.043005</td>\n",
       "      <td>0.8</td>\n",
       "    </tr>\n",
       "    <tr>\n",
       "      <td>53</td>\n",
       "      <td>0.862348</td>\n",
       "      <td>0.693</td>\n",
       "      <td>0.090909</td>\n",
       "      <td>0.846477</td>\n",
       "      <td>1.0</td>\n",
       "      <td>0.284232</td>\n",
       "      <td>0.024096</td>\n",
       "      <td>0.000000</td>\n",
       "      <td>0.1100</td>\n",
       "      <td>0.660</td>\n",
       "      <td>0.386870</td>\n",
       "      <td>0.049334</td>\n",
       "      <td>0.8</td>\n",
       "    </tr>\n",
       "    <tr>\n",
       "      <td>59</td>\n",
       "      <td>0.709514</td>\n",
       "      <td>0.864</td>\n",
       "      <td>0.272727</td>\n",
       "      <td>0.886611</td>\n",
       "      <td>1.0</td>\n",
       "      <td>0.065456</td>\n",
       "      <td>0.003323</td>\n",
       "      <td>0.000000</td>\n",
       "      <td>0.0421</td>\n",
       "      <td>0.811</td>\n",
       "      <td>0.427453</td>\n",
       "      <td>0.041896</td>\n",
       "      <td>0.8</td>\n",
       "    </tr>\n",
       "    <tr>\n",
       "      <td>64</td>\n",
       "      <td>0.421053</td>\n",
       "      <td>0.803</td>\n",
       "      <td>0.181818</td>\n",
       "      <td>0.876541</td>\n",
       "      <td>1.0</td>\n",
       "      <td>0.097303</td>\n",
       "      <td>0.000152</td>\n",
       "      <td>0.000270</td>\n",
       "      <td>0.2030</td>\n",
       "      <td>0.645</td>\n",
       "      <td>0.804535</td>\n",
       "      <td>0.031527</td>\n",
       "      <td>0.8</td>\n",
       "    </tr>\n",
       "  </tbody>\n",
       "</table>\n",
       "</div>"
      ],
      "text/plain": [
       "           danceability  energy       key  loudness  mode  speechiness  \\\n",
       "playlists                                                                \n",
       "33             0.502024   0.856  0.181818  0.892426   1.0     0.052905   \n",
       "39             0.563765   0.737  0.272727  0.864321   1.0     0.049378   \n",
       "53             0.862348   0.693  0.090909  0.846477   1.0     0.284232   \n",
       "59             0.709514   0.864  0.272727  0.886611   1.0     0.065456   \n",
       "64             0.421053   0.803  0.181818  0.876541   1.0     0.097303   \n",
       "\n",
       "           acousticness  instrumentalness  liveness  valence     tempo  \\\n",
       "playlists                                                                \n",
       "33             0.186747          0.000047    0.3560    0.592  0.332593   \n",
       "39             0.014257          0.000000    0.3140    0.817  0.637144   \n",
       "53             0.024096          0.000000    0.1100    0.660  0.386870   \n",
       "59             0.003323          0.000000    0.0421    0.811  0.427453   \n",
       "64             0.000152          0.000270    0.2030    0.645  0.804535   \n",
       "\n",
       "           duration_ms  time_signature  \n",
       "playlists                               \n",
       "33            0.045283             0.8  \n",
       "39            0.043005             0.8  \n",
       "53            0.049334             0.8  \n",
       "59            0.041896             0.8  \n",
       "64            0.031527             0.8  "
      ]
     },
     "execution_count": 412,
     "metadata": {},
     "output_type": "execute_result"
    }
   ],
   "source": [
    "# Create features df with mean values\n",
    "playlist_features = playlist_gaga_working.groupby(\"playlists\").agg({\"danceability\": \"mean\", \n",
    "                                                            \"energy\": \"mean\",\n",
    "                                                            \"key\": \"mean\", \n",
    "                                                            \"loudness\": \"mean\", \n",
    "                                                            \"mode\": \"mean\", \n",
    "                                                            \"speechiness\": \"mean\",\n",
    "                                                            \"acousticness\": \"mean\", \n",
    "                                                            \"instrumentalness\": \"mean\",\n",
    "                                                            \"liveness\":\"mean\", \n",
    "                                                            \"valence\": \"mean\", \n",
    "                                                            \"tempo\": \"mean\", \n",
    "                                                            \"duration_ms\": \"mean\", \n",
    "                                                            \"time_signature\": \"mean\"})\n",
    "\n",
    "playlist_features.head()\n",
    "    "
   ]
  },
  {
   "cell_type": "code",
   "execution_count": 432,
   "metadata": {},
   "outputs": [],
   "source": [
    "# Get top playlists for each\n",
    "top_playlist_naive = int(max(top_playlists_naive, key=top_playlists_naive.get))\n",
    "top_playlist_weighted = int(max(top_playlists_weighted, key=top_playlists_weighted.get))"
   ]
  },
  {
   "cell_type": "code",
   "execution_count": 447,
   "metadata": {},
   "outputs": [
    {
     "data": {
      "image/png": "[encoded data removed]",
      "text/plain": [
       "<Figure size 432x288 with 1 Axes>"
      ]
     },
     "metadata": {
      "needs_background": "light"
     },
     "output_type": "display_data"
    }
   ],
   "source": [
    "# Plot\n",
    "naive = sns.barplot(data=playlist_features[playlist_features.index == top_playlist_naive], palette=\"Blues_r\")\n",
    "naive.set_title(\"Naive Monte Carlo Top Playlist: Average Song Features\")\n",
    "\n",
    "for item in naive.get_xticklabels():\n",
    "    item.set_rotation(60)\n",
    "    \n",
    "plt.savefig(f\"../out/top_playlist_song_features_naive.svg\", dpi=1200)    "
   ]
  },
  {
   "cell_type": "code",
   "execution_count": 446,
   "metadata": {},
   "outputs": [
    {
     "data": {
      "image/png": "[encoded data removed]",
      "text/plain": [
       "<Figure size 432x288 with 1 Axes>"
      ]
     },
     "metadata": {
      "needs_background": "light"
     },
     "output_type": "display_data"
    }
   ],
   "source": [
    "# Plot\n",
    "weighted = sns.barplot(data=playlist_features[playlist_features.index == top_playlist_weighted], palette=\"Blues_r\")\n",
    "weighted.set_title(\"Weighted Monte Carlo Top Playlist: Average Song Features\")\n",
    "\n",
    "for lab in weighted.get_xticklabels():\n",
    "    lab.set_rotation(60)\n",
    "    \n",
    "plt.savefig(f\"../out/top_playlist_song_features_weighted.svg\", dpi=1200)    "
   ]
  },
  {
   "cell_type": "code",
   "execution_count": 443,
   "metadata": {},
   "outputs": [
    {
     "data": {
      "image/png": "[encoded data removed]",
      "text/plain": [
       "<Figure size 432x288 with 1 Axes>"
      ]
     },
     "metadata": {
      "needs_background": "light"
     },
     "output_type": "display_data"
    }
   ],
   "source": [
    "gaga = sns.barplot(data=playlist_gaga[playlist_gaga[\"trackid\"] == \"spotify:track:5P5cGNzqh6A353N3ShDK6Y\"][features],\n",
    "                  palette=\"Blues_r\")\n",
    "gaga.set_title(\"Lady Gaga: Bad Romance Features\")\n",
    "\n",
    "for item in gaga.get_xticklabels():\n",
    "    item.set_rotation(60)\n",
    "\n"
   ]
  },
  {
   "cell_type": "markdown",
   "metadata": {},
   "source": [
    "### 3. Simplest model - KNN for each playlist using musical features "
   ]
  },
  {
   "cell_type": "markdown",
   "metadata": {},
   "source": [
    "Get dataset - 250 playlists at random and all songs associated with those playlists"
   ]
  },
  {
   "cell_type": "code",
   "execution_count": 42,
   "metadata": {},
   "outputs": [],
   "source": [
    "import glob\n",
    "import pandas as pd\n",
    "import numpy as np\n",
    "import matplotlib.pyplot as plt\n",
    "import seaborn as sns\n",
    "from scipy.sparse import csr_matrix\n",
    "from sklearn.cluster import KMeans\n",
    "from sklearn.preprocessing import MinMaxScaler\n",
    "from sklearn.model_selection import train_test_split\n",
    "from sklearn.neighbors import KNeighborsClassifier\n",
    "from sklearn.model_selection import cross_val_score\n",
    "from sklearn.metrics import accuracy_score\n",
    "from sklearn.model_selection import KFold\n",
    "from sklearn.metrics import f1_score\n",
    "from sklearn.model_selection import cross_validate\n",
    "os.environ[\"GOOGLE_APPLICATION_CREDENTIALS\"] = \"..\\config\\credentials.json\"\n",
    "from tqdm import tqdm_notebook\n",
    "import warnings\n",
    "warnings.filterwarnings('ignore')"
   ]
  },
  {
   "cell_type": "code",
   "execution_count": 3,
   "metadata": {},
   "outputs": [],
   "source": [
    "%reload_ext google.cloud.bigquery"
   ]
  },
  {
   "cell_type": "markdown",
   "metadata": {},
   "source": [
    "1. Get all tracks from random list of 250 playlists. The limiting dimension is the playlist.\n",
    "2. Train test split the data (stratified on playlist id to ensure balanced data)"
   ]
  },
  {
   "cell_type": "code",
   "execution_count": 47,
   "metadata": {},
   "outputs": [],
   "source": [
    "%%bigquery playlist_tracks\n",
    "SELECT\n",
    "    ps.unique_pid, \n",
    "    ps.artist_name, \n",
    "    ps.track_name, \n",
    "    ps.album_name, \n",
    "    th.trackid,\n",
    "    th.danceability,\n",
    "    th.energy,\n",
    "    th.key,\n",
    "    th.loudness,\n",
    "    th.mode,\n",
    "    th.speechiness,\n",
    "    th.acousticness,\n",
    "    th.instrumentalness,\n",
    "    th.liveness,\n",
    "    th.valence,\n",
    "    th.tempo,\n",
    "    th.duration_ms,\n",
    "    th.time_signature\n",
    "FROM\n",
    "    (SELECT \n",
    "        unique_pid\n",
    "    FROM\n",
    "        (SELECT\n",
    "            unique_pid\n",
    "        FROM\n",
    "            playlist_songs.playlists\n",
    "        GROUP BY\n",
    "            unique_pid)\n",
    "    WHERE\n",
    "    RAND() < 250/909100 ) as ps_id\n",
    "    INNER JOIN\n",
    "    playlist_songs.playlists as ps\n",
    "    ON ps_id.unique_pid = ps.unique_pid\n",
    "    INNER JOIN\n",
    "    playlist_songs.tracks_headers as th\n",
    "    ON th.trackid = ps.track_uri;"
   ]
  },
  {
   "cell_type": "code",
   "execution_count": 48,
   "metadata": {},
   "outputs": [
    {
     "data": {
      "text/html": [
       "<div>\n",
       "<style scoped>\n",
       "    .dataframe tbody tr th:only-of-type {\n",
       "        vertical-align: middle;\n",
       "    }\n",
       "\n",
       "    .dataframe tbody tr th {\n",
       "        vertical-align: top;\n",
       "    }\n",
       "\n",
       "    .dataframe thead th {\n",
       "        text-align: right;\n",
       "    }\n",
       "</style>\n",
       "<table border=\"1\" class=\"dataframe\">\n",
       "  <thead>\n",
       "    <tr style=\"text-align: right;\">\n",
       "      <th></th>\n",
       "      <th>unique_pid</th>\n",
       "      <th>artist_name</th>\n",
       "      <th>track_name</th>\n",
       "      <th>album_name</th>\n",
       "      <th>trackid</th>\n",
       "      <th>danceability</th>\n",
       "      <th>energy</th>\n",
       "      <th>key</th>\n",
       "      <th>loudness</th>\n",
       "      <th>mode</th>\n",
       "      <th>speechiness</th>\n",
       "      <th>acousticness</th>\n",
       "      <th>instrumentalness</th>\n",
       "      <th>liveness</th>\n",
       "      <th>valence</th>\n",
       "      <th>tempo</th>\n",
       "      <th>duration_ms</th>\n",
       "      <th>time_signature</th>\n",
       "    </tr>\n",
       "  </thead>\n",
       "  <tbody>\n",
       "    <tr>\n",
       "      <th>0</th>\n",
       "      <td>182284</td>\n",
       "      <td>The Ukelele Beatles</td>\n",
       "      <td>Love Me Do</td>\n",
       "      <td>Love Me Do</td>\n",
       "      <td>spotify:track:2IVG6hYtv3HRpwxKFwbVEH</td>\n",
       "      <td>0.772</td>\n",
       "      <td>0.371</td>\n",
       "      <td>0</td>\n",
       "      <td>-8.993</td>\n",
       "      <td>1</td>\n",
       "      <td>0.037</td>\n",
       "      <td>0.857</td>\n",
       "      <td>0.0</td>\n",
       "      <td>0.136</td>\n",
       "      <td>0.582</td>\n",
       "      <td>130.19</td>\n",
       "      <td>153670</td>\n",
       "      <td>4</td>\n",
       "    </tr>\n",
       "  </tbody>\n",
       "</table>\n",
       "</div>"
      ],
      "text/plain": [
       "   unique_pid          artist_name  track_name  album_name  \\\n",
       "0      182284  The Ukelele Beatles  Love Me Do  Love Me Do   \n",
       "\n",
       "                                trackid  danceability  energy  key  loudness  \\\n",
       "0  spotify:track:2IVG6hYtv3HRpwxKFwbVEH         0.772   0.371    0    -8.993   \n",
       "\n",
       "   mode  speechiness  acousticness  instrumentalness  liveness  valence  \\\n",
       "0     1        0.037         0.857               0.0     0.136    0.582   \n",
       "\n",
       "    tempo  duration_ms  time_signature  \n",
       "0  130.19       153670               4  "
      ]
     },
     "execution_count": 48,
     "metadata": {},
     "output_type": "execute_result"
    }
   ],
   "source": [
    "playlist_tracks.head(1)"
   ]
  },
  {
   "cell_type": "code",
   "execution_count": 49,
   "metadata": {},
   "outputs": [],
   "source": [
    "playlist_analysis = playlist_tracks[['unique_pid', 'trackid','danceability', 'energy', 'key', 'loudness', 'mode', 'speechiness',\n",
    "            'acousticness', 'instrumentalness', 'liveness', 'valence', 'tempo',\n",
    "            'duration_ms', 'time_signature']]\n",
    "\n",
    "playlist_song_info = playlist_tracks[['trackid', 'artist_name', 'track_name', 'album_name']]"
   ]
  },
  {
   "cell_type": "markdown",
   "metadata": {},
   "source": [
    "Pivot and one hot encode playlist ids"
   ]
  },
  {
   "cell_type": "code",
   "execution_count": 50,
   "metadata": {},
   "outputs": [],
   "source": [
    "# create column of ones for data spread procedure later\n",
    "playlist_analysis.loc[:, 'one'] = 1\n",
    "# data spread procedure - group by track and features one hot encode playlist assignments\n",
    "playlist_analysis = playlist_analysis.drop_duplicates(subset=['unique_pid', 'trackid'])\n",
    "\n",
    "#create train and test (stratified by playlist)\n",
    "train, test = train_test_split(playlist_analysis, train_size=0.8, stratify=playlist_analysis.unique_pid)"
   ]
  },
  {
   "cell_type": "code",
   "execution_count": 51,
   "metadata": {},
   "outputs": [],
   "source": [
    "playlist_train_one_hot = train.pivot(index=\"trackid\", columns='unique_pid', values=\"one\")\n",
    "playlist_train_one_hot = playlist_train_one_hot.fillna(value=0)"
   ]
  },
  {
   "cell_type": "code",
   "execution_count": 52,
   "metadata": {},
   "outputs": [],
   "source": [
    "playlist_test_one_hot = test.pivot(index=\"trackid\", columns='unique_pid', values=\"one\")\n",
    "playlist_test_one_hot = playlist_test_one_hot.fillna(value=0)"
   ]
  },
  {
   "cell_type": "code",
   "execution_count": 53,
   "metadata": {},
   "outputs": [],
   "source": [
    "# get # playlists for each song\n",
    "playlist_train_one_hot.loc[:, \"sum\"] = playlist_train_one_hot.sum(axis = 1)"
   ]
  },
  {
   "cell_type": "code",
   "execution_count": 54,
   "metadata": {},
   "outputs": [
    {
     "data": {
      "text/html": [
       "<div>\n",
       "<style scoped>\n",
       "    .dataframe tbody tr th:only-of-type {\n",
       "        vertical-align: middle;\n",
       "    }\n",
       "\n",
       "    .dataframe tbody tr th {\n",
       "        vertical-align: top;\n",
       "    }\n",
       "\n",
       "    .dataframe thead th {\n",
       "        text-align: right;\n",
       "    }\n",
       "</style>\n",
       "<table border=\"1\" class=\"dataframe\">\n",
       "  <thead>\n",
       "    <tr style=\"text-align: right;\">\n",
       "      <th>unique_pid</th>\n",
       "      <th>3905</th>\n",
       "      <th>6635</th>\n",
       "      <th>7300</th>\n",
       "      <th>9868</th>\n",
       "      <th>10648</th>\n",
       "      <th>10803</th>\n",
       "      <th>14021</th>\n",
       "      <th>14519</th>\n",
       "      <th>19895</th>\n",
       "      <th>20173</th>\n",
       "      <th>...</th>\n",
       "      <th>978925</th>\n",
       "      <th>979294</th>\n",
       "      <th>980143</th>\n",
       "      <th>980169</th>\n",
       "      <th>985433</th>\n",
       "      <th>985939</th>\n",
       "      <th>990917</th>\n",
       "      <th>991654</th>\n",
       "      <th>995758</th>\n",
       "      <th>sum</th>\n",
       "    </tr>\n",
       "    <tr>\n",
       "      <th>trackid</th>\n",
       "      <th></th>\n",
       "      <th></th>\n",
       "      <th></th>\n",
       "      <th></th>\n",
       "      <th></th>\n",
       "      <th></th>\n",
       "      <th></th>\n",
       "      <th></th>\n",
       "      <th></th>\n",
       "      <th></th>\n",
       "      <th></th>\n",
       "      <th></th>\n",
       "      <th></th>\n",
       "      <th></th>\n",
       "      <th></th>\n",
       "      <th></th>\n",
       "      <th></th>\n",
       "      <th></th>\n",
       "      <th></th>\n",
       "      <th></th>\n",
       "      <th></th>\n",
       "    </tr>\n",
       "  </thead>\n",
       "  <tbody>\n",
       "    <tr>\n",
       "      <th>spotify:track:000xQL6tZNLJzIrtIgxqSl</th>\n",
       "      <td>0.0</td>\n",
       "      <td>0.0</td>\n",
       "      <td>0.0</td>\n",
       "      <td>0.0</td>\n",
       "      <td>0.0</td>\n",
       "      <td>0.0</td>\n",
       "      <td>0.0</td>\n",
       "      <td>0.0</td>\n",
       "      <td>0.0</td>\n",
       "      <td>0.0</td>\n",
       "      <td>...</td>\n",
       "      <td>0.0</td>\n",
       "      <td>0.0</td>\n",
       "      <td>0.0</td>\n",
       "      <td>0.0</td>\n",
       "      <td>0.0</td>\n",
       "      <td>0.0</td>\n",
       "      <td>0.0</td>\n",
       "      <td>0.0</td>\n",
       "      <td>0.0</td>\n",
       "      <td>3.0</td>\n",
       "    </tr>\n",
       "    <tr>\n",
       "      <th>spotify:track:006TSJsRLUQHpLU2aY99RN</th>\n",
       "      <td>0.0</td>\n",
       "      <td>0.0</td>\n",
       "      <td>0.0</td>\n",
       "      <td>0.0</td>\n",
       "      <td>0.0</td>\n",
       "      <td>0.0</td>\n",
       "      <td>0.0</td>\n",
       "      <td>0.0</td>\n",
       "      <td>0.0</td>\n",
       "      <td>0.0</td>\n",
       "      <td>...</td>\n",
       "      <td>0.0</td>\n",
       "      <td>0.0</td>\n",
       "      <td>0.0</td>\n",
       "      <td>0.0</td>\n",
       "      <td>0.0</td>\n",
       "      <td>0.0</td>\n",
       "      <td>0.0</td>\n",
       "      <td>0.0</td>\n",
       "      <td>0.0</td>\n",
       "      <td>1.0</td>\n",
       "    </tr>\n",
       "    <tr>\n",
       "      <th>spotify:track:007iY6FDvlAwN1DVlNo8rY</th>\n",
       "      <td>0.0</td>\n",
       "      <td>0.0</td>\n",
       "      <td>0.0</td>\n",
       "      <td>0.0</td>\n",
       "      <td>0.0</td>\n",
       "      <td>0.0</td>\n",
       "      <td>0.0</td>\n",
       "      <td>0.0</td>\n",
       "      <td>0.0</td>\n",
       "      <td>0.0</td>\n",
       "      <td>...</td>\n",
       "      <td>0.0</td>\n",
       "      <td>0.0</td>\n",
       "      <td>0.0</td>\n",
       "      <td>0.0</td>\n",
       "      <td>1.0</td>\n",
       "      <td>0.0</td>\n",
       "      <td>0.0</td>\n",
       "      <td>0.0</td>\n",
       "      <td>0.0</td>\n",
       "      <td>1.0</td>\n",
       "    </tr>\n",
       "    <tr>\n",
       "      <th>spotify:track:00BuKLSAFkaEkaVAgIMbeA</th>\n",
       "      <td>0.0</td>\n",
       "      <td>0.0</td>\n",
       "      <td>0.0</td>\n",
       "      <td>0.0</td>\n",
       "      <td>0.0</td>\n",
       "      <td>0.0</td>\n",
       "      <td>0.0</td>\n",
       "      <td>0.0</td>\n",
       "      <td>0.0</td>\n",
       "      <td>0.0</td>\n",
       "      <td>...</td>\n",
       "      <td>0.0</td>\n",
       "      <td>0.0</td>\n",
       "      <td>0.0</td>\n",
       "      <td>0.0</td>\n",
       "      <td>0.0</td>\n",
       "      <td>0.0</td>\n",
       "      <td>0.0</td>\n",
       "      <td>0.0</td>\n",
       "      <td>0.0</td>\n",
       "      <td>1.0</td>\n",
       "    </tr>\n",
       "    <tr>\n",
       "      <th>spotify:track:00BzdcKHNGAbGyFtdZP1Jc</th>\n",
       "      <td>0.0</td>\n",
       "      <td>0.0</td>\n",
       "      <td>0.0</td>\n",
       "      <td>0.0</td>\n",
       "      <td>0.0</td>\n",
       "      <td>0.0</td>\n",
       "      <td>0.0</td>\n",
       "      <td>0.0</td>\n",
       "      <td>0.0</td>\n",
       "      <td>0.0</td>\n",
       "      <td>...</td>\n",
       "      <td>0.0</td>\n",
       "      <td>0.0</td>\n",
       "      <td>0.0</td>\n",
       "      <td>0.0</td>\n",
       "      <td>0.0</td>\n",
       "      <td>0.0</td>\n",
       "      <td>0.0</td>\n",
       "      <td>0.0</td>\n",
       "      <td>0.0</td>\n",
       "      <td>1.0</td>\n",
       "    </tr>\n",
       "  </tbody>\n",
       "</table>\n",
       "<p>5 rows × 272 columns</p>\n",
       "</div>"
      ],
      "text/plain": [
       "unique_pid                            3905  6635  7300  9868  10648  10803  \\\n",
       "trackid                                                                      \n",
       "spotify:track:000xQL6tZNLJzIrtIgxqSl   0.0   0.0   0.0   0.0    0.0    0.0   \n",
       "spotify:track:006TSJsRLUQHpLU2aY99RN   0.0   0.0   0.0   0.0    0.0    0.0   \n",
       "spotify:track:007iY6FDvlAwN1DVlNo8rY   0.0   0.0   0.0   0.0    0.0    0.0   \n",
       "spotify:track:00BuKLSAFkaEkaVAgIMbeA   0.0   0.0   0.0   0.0    0.0    0.0   \n",
       "spotify:track:00BzdcKHNGAbGyFtdZP1Jc   0.0   0.0   0.0   0.0    0.0    0.0   \n",
       "\n",
       "unique_pid                            14021  14519  19895  20173  ...  978925  \\\n",
       "trackid                                                           ...           \n",
       "spotify:track:000xQL6tZNLJzIrtIgxqSl    0.0    0.0    0.0    0.0  ...     0.0   \n",
       "spotify:track:006TSJsRLUQHpLU2aY99RN    0.0    0.0    0.0    0.0  ...     0.0   \n",
       "spotify:track:007iY6FDvlAwN1DVlNo8rY    0.0    0.0    0.0    0.0  ...     0.0   \n",
       "spotify:track:00BuKLSAFkaEkaVAgIMbeA    0.0    0.0    0.0    0.0  ...     0.0   \n",
       "spotify:track:00BzdcKHNGAbGyFtdZP1Jc    0.0    0.0    0.0    0.0  ...     0.0   \n",
       "\n",
       "unique_pid                            979294  980143  980169  985433  985939  \\\n",
       "trackid                                                                        \n",
       "spotify:track:000xQL6tZNLJzIrtIgxqSl     0.0     0.0     0.0     0.0     0.0   \n",
       "spotify:track:006TSJsRLUQHpLU2aY99RN     0.0     0.0     0.0     0.0     0.0   \n",
       "spotify:track:007iY6FDvlAwN1DVlNo8rY     0.0     0.0     0.0     1.0     0.0   \n",
       "spotify:track:00BuKLSAFkaEkaVAgIMbeA     0.0     0.0     0.0     0.0     0.0   \n",
       "spotify:track:00BzdcKHNGAbGyFtdZP1Jc     0.0     0.0     0.0     0.0     0.0   \n",
       "\n",
       "unique_pid                            990917  991654  995758  sum  \n",
       "trackid                                                            \n",
       "spotify:track:000xQL6tZNLJzIrtIgxqSl     0.0     0.0     0.0  3.0  \n",
       "spotify:track:006TSJsRLUQHpLU2aY99RN     0.0     0.0     0.0  1.0  \n",
       "spotify:track:007iY6FDvlAwN1DVlNo8rY     0.0     0.0     0.0  1.0  \n",
       "spotify:track:00BuKLSAFkaEkaVAgIMbeA     0.0     0.0     0.0  1.0  \n",
       "spotify:track:00BzdcKHNGAbGyFtdZP1Jc     0.0     0.0     0.0  1.0  \n",
       "\n",
       "[5 rows x 272 columns]"
      ]
     },
     "execution_count": 54,
     "metadata": {},
     "output_type": "execute_result"
    }
   ],
   "source": [
    "playlist_train_one_hot.head()"
   ]
  },
  {
   "cell_type": "code",
   "execution_count": 55,
   "metadata": {},
   "outputs": [],
   "source": [
    "playlist_distribution = playlist_train_one_hot.groupby(\"sum\")[\"sum\"].count()"
   ]
  },
  {
   "cell_type": "markdown",
   "metadata": {},
   "source": [
    "Check distribution of songs that have one or more playlists"
   ]
  },
  {
   "cell_type": "code",
   "execution_count": 56,
   "metadata": {},
   "outputs": [
    {
     "data": {
      "text/plain": [
       "sum\n",
       "1.0     9273\n",
       "2.0     1282\n",
       "3.0      474\n",
       "4.0      220\n",
       "5.0      115\n",
       "6.0       76\n",
       "7.0       37\n",
       "8.0       17\n",
       "9.0       13\n",
       "10.0       9\n",
       "11.0       3\n",
       "13.0       2\n",
       "16.0       1\n",
       "Name: sum, dtype: int64"
      ]
     },
     "execution_count": 56,
     "metadata": {},
     "output_type": "execute_result"
    }
   ],
   "source": [
    "playlist_distribution"
   ]
  },
  {
   "cell_type": "code",
   "execution_count": 57,
   "metadata": {},
   "outputs": [],
   "source": [
    "# get all playlist numbers\n",
    "playlist_numbers = [i for i in playlist_train_one_hot.columns if i not in ['trackid', 'sum']]\n",
    "# merge features with one-hot list\n",
    "playlist_features = playlist_analysis[['trackid','danceability', 'energy', 'key', 'loudness', 'mode', 'speechiness',\n",
    "            'acousticness', 'instrumentalness', 'liveness', 'valence', 'tempo',\n",
    "            'duration_ms', 'time_signature']]\n",
    "playlist_train_one_hot = playlist_train_one_hot.drop(\"sum\", axis = 1)"
   ]
  },
  {
   "cell_type": "code",
   "execution_count": 58,
   "metadata": {},
   "outputs": [],
   "source": [
    "playlist_train_one_hot_w_features = playlist_train_one_hot.merge(playlist_features, on=\"trackid\", how=\"inner\")\n",
    "playlist_test_one_hot_w_features = playlist_test_one_hot.merge(playlist_features, on=\"trackid\", how=\"inner\")"
   ]
  },
  {
   "cell_type": "markdown",
   "metadata": {},
   "source": [
    "split into X and y for training and testing"
   ]
  },
  {
   "cell_type": "code",
   "execution_count": 59,
   "metadata": {},
   "outputs": [
    {
     "name": "stdout",
     "output_type": "stream",
     "text": [
      "(17504, 13)\n",
      "(17504, 271)\n"
     ]
    }
   ],
   "source": [
    "y_train = playlist_train_one_hot_w_features[playlist_numbers]\n",
    "y_test = playlist_test_one_hot_w_features[playlist_numbers]\n",
    "X_train = playlist_train_one_hot_w_features[['danceability', 'energy', 'key', 'loudness', 'mode', 'speechiness',\n",
    "            'acousticness', 'instrumentalness', 'liveness', 'valence', 'tempo',\n",
    "            'duration_ms', 'time_signature']]\n",
    "X_test = playlist_test_one_hot_w_features[['danceability', 'energy', 'key', 'loudness', 'mode', 'speechiness',\n",
    "            'acousticness', 'instrumentalness', 'liveness', 'valence', 'tempo',\n",
    "            'duration_ms', 'time_signature']]\n",
    "\n",
    "print(X_train.shape)\n",
    "print(y_train.shape)\n",
    "X_test = X_test.fillna(-1) #if na then fill with -1\n",
    "X_train = X_train.fillna(-1) #if na then fill with -1"
   ]
  },
  {
   "cell_type": "code",
   "execution_count": 60,
   "metadata": {},
   "outputs": [],
   "source": [
    "# convert to np arrays\n",
    "X_train = np.array(X_train)\n",
    "X_test = np.array(X_test)\n",
    "y_train = np.array(y_train)\n",
    "y_test = np.array(y_test)"
   ]
  },
  {
   "cell_type": "markdown",
   "metadata": {},
   "source": [
    "Now train and fit the model using k-nearest neighbors euclidean distance for multiple playlists"
   ]
  },
  {
   "cell_type": "code",
   "execution_count": 82,
   "metadata": {},
   "outputs": [
    {
     "data": {
      "application/vnd.jupyter.widget-view+json": {
       "model_id": "693f84a8f0084a578773170c89d90e42",
       "version_major": 2,
       "version_minor": 0
      },
      "text/plain": [
       "HBox(children=(IntProgress(value=0, max=1084), HTML(value='')))"
      ]
     },
     "metadata": {},
     "output_type": "display_data"
    },
    {
     "name": "stdout",
     "output_type": "stream",
     "text": [
      "\n"
     ]
    }
   ],
   "source": [
    "ks = [2, 5, 7, 10]\n",
    "output = []\n",
    "playlists = range(0, len(playlist_numbers))\n",
    "\n",
    "total_loops = len(playlists) * len(ks)\n",
    "with tqdm_notebook(total=total_loops) as pbar:\n",
    "    for playlist in playlists:\n",
    "        for k in ks:\n",
    "            knn_cv = KNeighborsClassifier(n_neighbors=k, metric='euclidean')\n",
    "            # downsample the non-examples in the training\n",
    "            y_examples = y_train[y_train[:, playlist]==1,]\n",
    "            X_examples = X_train[y_train[:, playlist]==1,]\n",
    "            number_examples = y_examples.shape[0]\n",
    "            non_examples_id = np.random.choice(np.array(range(0, y_train[y_train[:, playlist]==0,].shape[0])), number_examples)\n",
    "            y_non_examples = y_train[non_examples_id,]\n",
    "            X_non_examples = X_train[non_examples_id,]\n",
    "            X_train_sampled = np.vstack([X_examples, X_non_examples])\n",
    "            y_train_sampled = np.vstack([y_examples, y_non_examples])\n",
    "            \n",
    "            #fit the model\n",
    "            fit = knn_cv.fit(X_train_sampled, y_train_sampled[:, playlist])\n",
    "            try:\n",
    "                # if the prediction fails because there are not enough neighbors, then go to the next loop\n",
    "                y_train_pred = fit.predict(X_train_sampled)\n",
    "                y_test_pred = fit.predict(X_test)\n",
    "                train_accuracy = accuracy_score(y_train_sampled[:, playlist], y_train_pred)\n",
    "                train_f1 = f1_score(y_train_sampled[:, playlist], y_train_pred)\n",
    "                test_accuracy = accuracy_score(y_test[:, playlist], y_test_pred)\n",
    "                test_f1 = f1_score(y_test[:, playlist], y_test_pred)\n",
    "                output.append({\"k\": k, \"train_accuracy_mean\": np.mean(train_accuracy),\\\n",
    "                               \"train_f1_mean\": np.mean(train_f1),\\\n",
    "                               \"playlist\": playlist,\\\n",
    "                               \"test_accuracy_mean\": np.mean(test_accuracy),\\\n",
    "                                \"test_f1_mean\": np.mean(test_f1)})\n",
    "            except:\n",
    "                continue\n",
    "            pbar.update(1)\n",
    "\n"
   ]
  },
  {
   "cell_type": "markdown",
   "metadata": {},
   "source": [
    "Plot accuracies and f1 for all playlist models at various k's"
   ]
  },
  {
   "cell_type": "code",
   "execution_count": 83,
   "metadata": {},
   "outputs": [
    {
     "data": {
      "image/png": "[encoded data removed]",
      "text/plain": [
       "<Figure size 432x288 with 1 Axes>"
      ]
     },
     "metadata": {
      "needs_background": "light"
     },
     "output_type": "display_data"
    },
    {
     "data": {
      "image/png": "[encoded data removed]",
      "text/plain": [
       "<Figure size 432x288 with 1 Axes>"
      ]
     },
     "metadata": {
      "needs_background": "light"
     },
     "output_type": "display_data"
    },
    {
     "data": {
      "image/png": "[encoded data removed]",
      "text/plain": [
       "<Figure size 432x288 with 1 Axes>"
      ]
     },
     "metadata": {
      "needs_background": "light"
     },
     "output_type": "display_data"
    },
    {
     "data": {
      "image/png": "[encoded data removed]",
      "text/plain": [
       "<Figure size 432x288 with 1 Axes>"
      ]
     },
     "metadata": {
      "needs_background": "light"
     },
     "output_type": "display_data"
    },
    {
     "name": "stdout",
     "output_type": "stream",
     "text": [
      "plot of mean cv scores for k=2 for multiple play lists\n"
     ]
    },
    {
     "data": {
      "image/png": "[encoded data removed]",
      "text/plain": [
       "<Figure size 432x288 with 1 Axes>"
      ]
     },
     "metadata": {
      "needs_background": "light"
     },
     "output_type": "display_data"
    },
    {
     "name": "stdout",
     "output_type": "stream",
     "text": [
      "plot of mean cv scores for k=5 for multiple play lists\n"
     ]
    },
    {
     "data": {
      "image/png": "[encoded data removed]",
      "text/plain": [
       "<Figure size 432x288 with 1 Axes>"
      ]
     },
     "metadata": {
      "needs_background": "light"
     },
     "output_type": "display_data"
    },
    {
     "name": "stdout",
     "output_type": "stream",
     "text": [
      "plot of mean cv scores for k=7 for multiple play lists\n"
     ]
    },
    {
     "data": {
      "image/png": "[encoded data removed]",
      "text/plain": [
       "<Figure size 432x288 with 1 Axes>"
      ]
     },
     "metadata": {
      "needs_background": "light"
     },
     "output_type": "display_data"
    },
    {
     "name": "stdout",
     "output_type": "stream",
     "text": [
      "plot of mean cv scores for k=10 for multiple play lists\n"
     ]
    },
    {
     "data": {
      "image/png": "[encoded data removed]",
      "text/plain": [
       "<Figure size 432x288 with 1 Axes>"
      ]
     },
     "metadata": {
      "needs_background": "light"
     },
     "output_type": "display_data"
    }
   ],
   "source": [
    "output = pd.DataFrame(output)\n",
    "\n",
    "sns.violinplot(x=output.k,y=output.train_accuracy_mean, cut=0)\n",
    "plt.title(\"Train accuracies for each k\")\n",
    "plt.savefig(\"train_accuracy.svg\", dpi=1200)\n",
    "plt.show()\n",
    "\n",
    "sns.violinplot(x=output.k,y=output.test_accuracy_mean, cut=0)\n",
    "plt.title(\"Test accuracies for each k\")\n",
    "plt.savefig(\"test_accuracy.svg\", dpi=1200)\n",
    "plt.show()\n",
    "\n",
    "sns.violinplot(x=output.k,y=output.train_f1_mean, cut=0)\n",
    "plt.title(\"Train F1 for each k\")\n",
    "plt.savefig(\"train_f1.svg\", dpi=1200)\n",
    "plt.show()\n",
    "\n",
    "sns.violinplot(x=output.k,y=output.test_f1_mean, cut=0)\n",
    "plt.title(\"Test F1 for each k\")\n",
    "plt.savefig(\"test_f1.svg\", dpi=1200)\n",
    "plt.show()\n",
    "\n",
    "for k in ks:\n",
    "    print(f\"plot of mean cv scores for k={k} for multiple play lists\")\n",
    "    subset = output.loc[output.k==k,:]\n",
    "    plt.hist(subset[\"test_f1_mean\"])\n",
    "    plt.xlabel(\"f1 test for each playlist model\")\n",
    "    plt.ylabel(\"number of playlist models\")\n",
    "    plt.show()\n",
    "    \n",
    "\n"
   ]
  },
  {
   "cell_type": "markdown",
   "metadata": {},
   "source": [
    "### 4. Structural model - Logistic regression for each playlist using musical features"
   ]
  },
  {
   "cell_type": "code",
   "execution_count": 124,
   "metadata": {},
   "outputs": [],
   "source": [
    "import glob\n",
    "import pandas as pd\n",
    "import numpy as np\n",
    "import matplotlib.pyplot as plt\n",
    "import seaborn as sns\n",
    "from scipy.sparse import csr_matrix\n",
    "from sklearn.cluster import KMeans\n",
    "from sklearn.preprocessing import MinMaxScaler\n",
    "from sklearn.model_selection import train_test_split\n",
    "from sklearn.neighbors import KNeighborsClassifier\n",
    "from sklearn.model_selection import cross_val_score\n",
    "from sklearn.metrics import accuracy_score\n",
    "from sklearn.model_selection import KFold\n",
    "\n",
    "# Imports for logistic Regression\n",
    "from sklearn.linear_model import LogisticRegressionCV\n",
    "from sklearn.linear_model import LogisticRegression\n",
    "from sklearn.metrics import accuracy_score\n",
    "from sklearn.model_selection import cross_val_score\n",
    "from sklearn.metrics import f1_score\n",
    "\n",
    "import os\n",
    "from tqdm import tqdm_notebook\n",
    "\n",
    "import warnings\n",
    "warnings.filterwarnings('ignore')"
   ]
  },
  {
   "cell_type": "code",
   "execution_count": 2,
   "metadata": {},
   "outputs": [],
   "source": [
    "%reload_ext google.cloud.bigquery"
   ]
  },
  {
   "cell_type": "code",
   "execution_count": 3,
   "metadata": {},
   "outputs": [
    {
     "data": {
      "text/html": [
       "<div>\n",
       "<style scoped>\n",
       "    .dataframe tbody tr th:only-of-type {\n",
       "        vertical-align: middle;\n",
       "    }\n",
       "\n",
       "    .dataframe tbody tr th {\n",
       "        vertical-align: top;\n",
       "    }\n",
       "\n",
       "    .dataframe thead th {\n",
       "        text-align: right;\n",
       "    }\n",
       "</style>\n",
       "<table border=\"1\" class=\"dataframe\">\n",
       "  <thead>\n",
       "    <tr style=\"text-align: right;\">\n",
       "      <th></th>\n",
       "      <th>f0_</th>\n",
       "    </tr>\n",
       "  </thead>\n",
       "  <tbody>\n",
       "    <tr>\n",
       "      <th>0</th>\n",
       "      <td>909100</td>\n",
       "    </tr>\n",
       "  </tbody>\n",
       "</table>\n",
       "</div>"
      ],
      "text/plain": [
       "      f0_\n",
       "0  909100"
      ]
     },
     "execution_count": 3,
     "metadata": {},
     "output_type": "execute_result"
    }
   ],
   "source": [
    "%%bigquery\n",
    "SELECT\n",
    "    COUNT(DISTINCT(unique_pid))\n",
    "FROM\n",
    "    playlist_songs.playlists;\n"
   ]
  },
  {
   "cell_type": "code",
   "execution_count": 4,
   "metadata": {},
   "outputs": [
    {
     "data": {
      "text/html": [
       "<div>\n",
       "<style scoped>\n",
       "    .dataframe tbody tr th:only-of-type {\n",
       "        vertical-align: middle;\n",
       "    }\n",
       "\n",
       "    .dataframe tbody tr th {\n",
       "        vertical-align: top;\n",
       "    }\n",
       "\n",
       "    .dataframe thead th {\n",
       "        text-align: right;\n",
       "    }\n",
       "</style>\n",
       "<table border=\"1\" class=\"dataframe\">\n",
       "  <thead>\n",
       "    <tr style=\"text-align: right;\">\n",
       "      <th></th>\n",
       "      <th>f0_</th>\n",
       "    </tr>\n",
       "  </thead>\n",
       "  <tbody>\n",
       "    <tr>\n",
       "      <th>0</th>\n",
       "      <td>66346428</td>\n",
       "    </tr>\n",
       "  </tbody>\n",
       "</table>\n",
       "</div>"
      ],
      "text/plain": [
       "        f0_\n",
       "0  66346428"
      ]
     },
     "execution_count": 4,
     "metadata": {},
     "output_type": "execute_result"
    }
   ],
   "source": [
    "%%bigquery\n",
    "SELECT\n",
    "    COUNT(unique_pid)\n",
    "FROM\n",
    "    playlist_songs.playlists;"
   ]
  },
  {
   "cell_type": "markdown",
   "metadata": {},
   "source": [
    "1. Get all tracks from random list of 1000 playlists. The limiting dimension is the playlist.\n",
    "2. Train test split the data"
   ]
  },
  {
   "cell_type": "code",
   "execution_count": 77,
   "metadata": {},
   "outputs": [],
   "source": [
    "%%bigquery playlist_tracks\n",
    "SELECT\n",
    "    ps.unique_pid, \n",
    "    ps.artist_name, \n",
    "    ps.track_name, \n",
    "    ps.album_name, \n",
    "    th.trackid,\n",
    "    th.danceability,\n",
    "    th.energy,\n",
    "    th.key,\n",
    "    th.loudness,\n",
    "    th.mode,\n",
    "    th.speechiness,\n",
    "    th.acousticness,\n",
    "    th.instrumentalness,\n",
    "    th.liveness,\n",
    "    th.valence,\n",
    "    th.tempo,\n",
    "    th.duration_ms,\n",
    "    th.time_signature\n",
    "FROM\n",
    "    (SELECT \n",
    "        unique_pid\n",
    "    FROM\n",
    "        (SELECT\n",
    "            unique_pid\n",
    "        FROM\n",
    "            playlist_songs.playlists\n",
    "        GROUP BY\n",
    "            unique_pid)\n",
    "    WHERE\n",
    "    RAND() < 500/909100 ) as ps_id\n",
    "    INNER JOIN\n",
    "    playlist_songs.playlists as ps\n",
    "    ON ps_id.unique_pid = ps.unique_pid\n",
    "    INNER JOIN\n",
    "    playlist_songs.tracks_headers as th\n",
    "    ON th.trackid = ps.track_uri;"
   ]
  },
  {
   "cell_type": "code",
   "execution_count": 102,
   "metadata": {},
   "outputs": [
    {
     "data": {
      "text/html": [
       "<div>\n",
       "<style scoped>\n",
       "    .dataframe tbody tr th:only-of-type {\n",
       "        vertical-align: middle;\n",
       "    }\n",
       "\n",
       "    .dataframe tbody tr th {\n",
       "        vertical-align: top;\n",
       "    }\n",
       "\n",
       "    .dataframe thead th {\n",
       "        text-align: right;\n",
       "    }\n",
       "</style>\n",
       "<table border=\"1\" class=\"dataframe\">\n",
       "  <thead>\n",
       "    <tr style=\"text-align: right;\">\n",
       "      <th></th>\n",
       "      <th>unique_pid</th>\n",
       "      <th>artist_name</th>\n",
       "      <th>track_name</th>\n",
       "      <th>album_name</th>\n",
       "      <th>trackid</th>\n",
       "      <th>danceability</th>\n",
       "      <th>energy</th>\n",
       "      <th>key</th>\n",
       "      <th>loudness</th>\n",
       "      <th>mode</th>\n",
       "      <th>speechiness</th>\n",
       "      <th>acousticness</th>\n",
       "      <th>instrumentalness</th>\n",
       "      <th>liveness</th>\n",
       "      <th>valence</th>\n",
       "      <th>tempo</th>\n",
       "      <th>duration_ms</th>\n",
       "      <th>time_signature</th>\n",
       "    </tr>\n",
       "  </thead>\n",
       "  <tbody>\n",
       "    <tr>\n",
       "      <th>0</th>\n",
       "      <td>92959</td>\n",
       "      <td>Survivor</td>\n",
       "      <td>Eye of the Tiger</td>\n",
       "      <td>Eye Of The Tiger</td>\n",
       "      <td>spotify:track:2HHtWyy5CgaQbC7XSoOb0e</td>\n",
       "      <td>0.815</td>\n",
       "      <td>0.438</td>\n",
       "      <td>0</td>\n",
       "      <td>-14.522</td>\n",
       "      <td>0</td>\n",
       "      <td>0.0346</td>\n",
       "      <td>0.216</td>\n",
       "      <td>0.000466</td>\n",
       "      <td>0.0787</td>\n",
       "      <td>0.552</td>\n",
       "      <td>108.965</td>\n",
       "      <td>243773</td>\n",
       "      <td>4</td>\n",
       "    </tr>\n",
       "  </tbody>\n",
       "</table>\n",
       "</div>"
      ],
      "text/plain": [
       "   unique_pid artist_name        track_name        album_name  \\\n",
       "0       92959    Survivor  Eye of the Tiger  Eye Of The Tiger   \n",
       "\n",
       "                                trackid  danceability  energy  key  loudness  \\\n",
       "0  spotify:track:2HHtWyy5CgaQbC7XSoOb0e         0.815   0.438    0   -14.522   \n",
       "\n",
       "   mode  speechiness  acousticness  instrumentalness  liveness  valence  \\\n",
       "0     0       0.0346         0.216          0.000466    0.0787    0.552   \n",
       "\n",
       "     tempo  duration_ms  time_signature  \n",
       "0  108.965       243773               4  "
      ]
     },
     "execution_count": 102,
     "metadata": {},
     "output_type": "execute_result"
    }
   ],
   "source": [
    "playlist_tracks.head(1)"
   ]
  },
  {
   "cell_type": "code",
   "execution_count": 103,
   "metadata": {},
   "outputs": [],
   "source": [
    "playlist_analysis = playlist_tracks[['unique_pid', 'trackid','danceability', 'energy', 'key', 'loudness', 'mode', 'speechiness',\n",
    "            'acousticness', 'instrumentalness', 'liveness', 'valence', 'tempo',\n",
    "            'duration_ms', 'time_signature']]\n",
    "\n",
    "playlist_song_info = playlist_tracks[['trackid', 'artist_name', 'track_name', 'album_name']]"
   ]
  },
  {
   "cell_type": "code",
   "execution_count": 104,
   "metadata": {},
   "outputs": [],
   "source": [
    "# create column of ones for data spread procedure later\n",
    "playlist_analysis.loc[:, 'one'] = 1\n",
    "# data spread procedure - group by track and features one hot encode playlist assignments\n",
    "playlist_analysis = playlist_analysis.drop_duplicates(subset=['unique_pid', 'trackid'])\n",
    "\n",
    "#create train and test (stratified by playlist)\n",
    "train, test = train_test_split(playlist_analysis, train_size=0.8, stratify=playlist_analysis.unique_pid)"
   ]
  },
  {
   "cell_type": "code",
   "execution_count": 105,
   "metadata": {},
   "outputs": [],
   "source": [
    "playlist_train_one_hot = train.pivot(index=\"trackid\", columns='unique_pid', values=\"one\")\n",
    "playlist_train_one_hot = playlist_train_one_hot.fillna(value=0)"
   ]
  },
  {
   "cell_type": "code",
   "execution_count": 106,
   "metadata": {},
   "outputs": [],
   "source": [
    "playlist_test_one_hot = test.pivot(index=\"trackid\", columns='unique_pid', values=\"one\")\n",
    "playlist_test_one_hot = playlist_test_one_hot.fillna(value=0)"
   ]
  },
  {
   "cell_type": "code",
   "execution_count": 107,
   "metadata": {},
   "outputs": [],
   "source": [
    "# get histogram of songs associated with # playlists\n",
    "playlist_train_one_hot.loc[:, \"sum\"] = playlist_train_one_hot.sum(axis = 1)"
   ]
  },
  {
   "cell_type": "code",
   "execution_count": 108,
   "metadata": {},
   "outputs": [
    {
     "data": {
      "text/html": [
       "<div>\n",
       "<style scoped>\n",
       "    .dataframe tbody tr th:only-of-type {\n",
       "        vertical-align: middle;\n",
       "    }\n",
       "\n",
       "    .dataframe tbody tr th {\n",
       "        vertical-align: top;\n",
       "    }\n",
       "\n",
       "    .dataframe thead th {\n",
       "        text-align: right;\n",
       "    }\n",
       "</style>\n",
       "<table border=\"1\" class=\"dataframe\">\n",
       "  <thead>\n",
       "    <tr style=\"text-align: right;\">\n",
       "      <th>unique_pid</th>\n",
       "      <th>222</th>\n",
       "      <th>373</th>\n",
       "      <th>4127</th>\n",
       "      <th>4181</th>\n",
       "      <th>5220</th>\n",
       "      <th>6212</th>\n",
       "      <th>7909</th>\n",
       "      <th>10953</th>\n",
       "      <th>11499</th>\n",
       "      <th>12857</th>\n",
       "      <th>...</th>\n",
       "      <th>984648</th>\n",
       "      <th>986338</th>\n",
       "      <th>988530</th>\n",
       "      <th>988958</th>\n",
       "      <th>990368</th>\n",
       "      <th>994789</th>\n",
       "      <th>995522</th>\n",
       "      <th>995870</th>\n",
       "      <th>999112</th>\n",
       "      <th>sum</th>\n",
       "    </tr>\n",
       "    <tr>\n",
       "      <th>trackid</th>\n",
       "      <th></th>\n",
       "      <th></th>\n",
       "      <th></th>\n",
       "      <th></th>\n",
       "      <th></th>\n",
       "      <th></th>\n",
       "      <th></th>\n",
       "      <th></th>\n",
       "      <th></th>\n",
       "      <th></th>\n",
       "      <th></th>\n",
       "      <th></th>\n",
       "      <th></th>\n",
       "      <th></th>\n",
       "      <th></th>\n",
       "      <th></th>\n",
       "      <th></th>\n",
       "      <th></th>\n",
       "      <th></th>\n",
       "      <th></th>\n",
       "      <th></th>\n",
       "    </tr>\n",
       "  </thead>\n",
       "  <tbody>\n",
       "    <tr>\n",
       "      <th>spotify:track:000xQL6tZNLJzIrtIgxqSl</th>\n",
       "      <td>0.0</td>\n",
       "      <td>0.0</td>\n",
       "      <td>0.0</td>\n",
       "      <td>0.0</td>\n",
       "      <td>0.0</td>\n",
       "      <td>0.0</td>\n",
       "      <td>0.0</td>\n",
       "      <td>0.0</td>\n",
       "      <td>0.0</td>\n",
       "      <td>0.0</td>\n",
       "      <td>...</td>\n",
       "      <td>0.0</td>\n",
       "      <td>0.0</td>\n",
       "      <td>0.0</td>\n",
       "      <td>0.0</td>\n",
       "      <td>0.0</td>\n",
       "      <td>0.0</td>\n",
       "      <td>0.0</td>\n",
       "      <td>0.0</td>\n",
       "      <td>0.0</td>\n",
       "      <td>1.0</td>\n",
       "    </tr>\n",
       "    <tr>\n",
       "      <th>spotify:track:004z7UbwGrprGG1JTmNgCt</th>\n",
       "      <td>0.0</td>\n",
       "      <td>0.0</td>\n",
       "      <td>0.0</td>\n",
       "      <td>0.0</td>\n",
       "      <td>0.0</td>\n",
       "      <td>0.0</td>\n",
       "      <td>0.0</td>\n",
       "      <td>0.0</td>\n",
       "      <td>0.0</td>\n",
       "      <td>0.0</td>\n",
       "      <td>...</td>\n",
       "      <td>0.0</td>\n",
       "      <td>0.0</td>\n",
       "      <td>0.0</td>\n",
       "      <td>0.0</td>\n",
       "      <td>0.0</td>\n",
       "      <td>0.0</td>\n",
       "      <td>0.0</td>\n",
       "      <td>0.0</td>\n",
       "      <td>0.0</td>\n",
       "      <td>1.0</td>\n",
       "    </tr>\n",
       "    <tr>\n",
       "      <th>spotify:track:005GaX6hvgeTFnR9FvejTE</th>\n",
       "      <td>0.0</td>\n",
       "      <td>0.0</td>\n",
       "      <td>0.0</td>\n",
       "      <td>0.0</td>\n",
       "      <td>0.0</td>\n",
       "      <td>0.0</td>\n",
       "      <td>0.0</td>\n",
       "      <td>0.0</td>\n",
       "      <td>0.0</td>\n",
       "      <td>0.0</td>\n",
       "      <td>...</td>\n",
       "      <td>0.0</td>\n",
       "      <td>0.0</td>\n",
       "      <td>0.0</td>\n",
       "      <td>0.0</td>\n",
       "      <td>0.0</td>\n",
       "      <td>0.0</td>\n",
       "      <td>0.0</td>\n",
       "      <td>0.0</td>\n",
       "      <td>0.0</td>\n",
       "      <td>1.0</td>\n",
       "    </tr>\n",
       "    <tr>\n",
       "      <th>spotify:track:007Cm8jbhOP7ofnHEwSr6s</th>\n",
       "      <td>0.0</td>\n",
       "      <td>0.0</td>\n",
       "      <td>0.0</td>\n",
       "      <td>0.0</td>\n",
       "      <td>0.0</td>\n",
       "      <td>0.0</td>\n",
       "      <td>0.0</td>\n",
       "      <td>0.0</td>\n",
       "      <td>0.0</td>\n",
       "      <td>0.0</td>\n",
       "      <td>...</td>\n",
       "      <td>0.0</td>\n",
       "      <td>0.0</td>\n",
       "      <td>0.0</td>\n",
       "      <td>0.0</td>\n",
       "      <td>0.0</td>\n",
       "      <td>0.0</td>\n",
       "      <td>0.0</td>\n",
       "      <td>0.0</td>\n",
       "      <td>0.0</td>\n",
       "      <td>1.0</td>\n",
       "    </tr>\n",
       "    <tr>\n",
       "      <th>spotify:track:00AvOVhsUi1gOCnHxTFw7i</th>\n",
       "      <td>0.0</td>\n",
       "      <td>0.0</td>\n",
       "      <td>0.0</td>\n",
       "      <td>0.0</td>\n",
       "      <td>0.0</td>\n",
       "      <td>0.0</td>\n",
       "      <td>0.0</td>\n",
       "      <td>0.0</td>\n",
       "      <td>0.0</td>\n",
       "      <td>0.0</td>\n",
       "      <td>...</td>\n",
       "      <td>0.0</td>\n",
       "      <td>0.0</td>\n",
       "      <td>0.0</td>\n",
       "      <td>0.0</td>\n",
       "      <td>0.0</td>\n",
       "      <td>0.0</td>\n",
       "      <td>0.0</td>\n",
       "      <td>0.0</td>\n",
       "      <td>0.0</td>\n",
       "      <td>1.0</td>\n",
       "    </tr>\n",
       "  </tbody>\n",
       "</table>\n",
       "<p>5 rows × 507 columns</p>\n",
       "</div>"
      ],
      "text/plain": [
       "unique_pid                            222  373  4127  4181  5220  6212  7909  \\\n",
       "trackid                                                                        \n",
       "spotify:track:000xQL6tZNLJzIrtIgxqSl  0.0  0.0   0.0   0.0   0.0   0.0   0.0   \n",
       "spotify:track:004z7UbwGrprGG1JTmNgCt  0.0  0.0   0.0   0.0   0.0   0.0   0.0   \n",
       "spotify:track:005GaX6hvgeTFnR9FvejTE  0.0  0.0   0.0   0.0   0.0   0.0   0.0   \n",
       "spotify:track:007Cm8jbhOP7ofnHEwSr6s  0.0  0.0   0.0   0.0   0.0   0.0   0.0   \n",
       "spotify:track:00AvOVhsUi1gOCnHxTFw7i  0.0  0.0   0.0   0.0   0.0   0.0   0.0   \n",
       "\n",
       "unique_pid                            10953  11499  12857  ...  984648  \\\n",
       "trackid                                                    ...           \n",
       "spotify:track:000xQL6tZNLJzIrtIgxqSl    0.0    0.0    0.0  ...     0.0   \n",
       "spotify:track:004z7UbwGrprGG1JTmNgCt    0.0    0.0    0.0  ...     0.0   \n",
       "spotify:track:005GaX6hvgeTFnR9FvejTE    0.0    0.0    0.0  ...     0.0   \n",
       "spotify:track:007Cm8jbhOP7ofnHEwSr6s    0.0    0.0    0.0  ...     0.0   \n",
       "spotify:track:00AvOVhsUi1gOCnHxTFw7i    0.0    0.0    0.0  ...     0.0   \n",
       "\n",
       "unique_pid                            986338  988530  988958  990368  994789  \\\n",
       "trackid                                                                        \n",
       "spotify:track:000xQL6tZNLJzIrtIgxqSl     0.0     0.0     0.0     0.0     0.0   \n",
       "spotify:track:004z7UbwGrprGG1JTmNgCt     0.0     0.0     0.0     0.0     0.0   \n",
       "spotify:track:005GaX6hvgeTFnR9FvejTE     0.0     0.0     0.0     0.0     0.0   \n",
       "spotify:track:007Cm8jbhOP7ofnHEwSr6s     0.0     0.0     0.0     0.0     0.0   \n",
       "spotify:track:00AvOVhsUi1gOCnHxTFw7i     0.0     0.0     0.0     0.0     0.0   \n",
       "\n",
       "unique_pid                            995522  995870  999112  sum  \n",
       "trackid                                                            \n",
       "spotify:track:000xQL6tZNLJzIrtIgxqSl     0.0     0.0     0.0  1.0  \n",
       "spotify:track:004z7UbwGrprGG1JTmNgCt     0.0     0.0     0.0  1.0  \n",
       "spotify:track:005GaX6hvgeTFnR9FvejTE     0.0     0.0     0.0  1.0  \n",
       "spotify:track:007Cm8jbhOP7ofnHEwSr6s     0.0     0.0     0.0  1.0  \n",
       "spotify:track:00AvOVhsUi1gOCnHxTFw7i     0.0     0.0     0.0  1.0  \n",
       "\n",
       "[5 rows x 507 columns]"
      ]
     },
     "execution_count": 108,
     "metadata": {},
     "output_type": "execute_result"
    }
   ],
   "source": [
    "playlist_train_one_hot.head()"
   ]
  },
  {
   "cell_type": "code",
   "execution_count": 109,
   "metadata": {},
   "outputs": [],
   "source": [
    "playlist_distribution = playlist_train_one_hot.groupby(\"sum\")[\"sum\"].count()"
   ]
  },
  {
   "cell_type": "code",
   "execution_count": 110,
   "metadata": {},
   "outputs": [
    {
     "data": {
      "text/plain": [
       "sum\n",
       "1.0     14900\n",
       "2.0      2207\n",
       "3.0       792\n",
       "4.0       465\n",
       "5.0       266\n",
       "6.0       177\n",
       "7.0       106\n",
       "8.0        72\n",
       "9.0        71\n",
       "10.0       42\n",
       "11.0       33\n",
       "12.0       16\n",
       "13.0       17\n",
       "14.0       11\n",
       "15.0       16\n",
       "16.0        6\n",
       "17.0        2\n",
       "18.0        3\n",
       "19.0        2\n",
       "21.0        1\n",
       "25.0        1\n",
       "28.0        1\n",
       "Name: sum, dtype: int64"
      ]
     },
     "execution_count": 110,
     "metadata": {},
     "output_type": "execute_result"
    }
   ],
   "source": [
    "playlist_distribution"
   ]
  },
  {
   "cell_type": "code",
   "execution_count": 111,
   "metadata": {},
   "outputs": [],
   "source": [
    "# get all playlist numbers\n",
    "playlist_numbers = [i for i in playlist_train_one_hot.columns if i not in ['trackid', 'sum']]\n",
    "# merge features with one-hot list\n",
    "playlist_features = playlist_analysis[['trackid','danceability', 'energy', 'key', 'loudness', 'mode', 'speechiness',\n",
    "            'acousticness', 'instrumentalness', 'liveness', 'valence', 'tempo',\n",
    "            'duration_ms', 'time_signature']]\n",
    "playlist_train_one_hot = playlist_train_one_hot.drop(\"sum\", axis = 1)"
   ]
  },
  {
   "cell_type": "code",
   "execution_count": 112,
   "metadata": {},
   "outputs": [],
   "source": [
    "playlist_train_one_hot_w_features = playlist_train_one_hot.merge(playlist_features, on=\"trackid\", how=\"inner\")\n",
    "playlist_test_one_hot_w_features = playlist_test_one_hot.merge(playlist_features, on=\"trackid\", how=\"inner\")"
   ]
  },
  {
   "cell_type": "code",
   "execution_count": 113,
   "metadata": {},
   "outputs": [
    {
     "name": "stdout",
     "output_type": "stream",
     "text": [
      "(33492, 13)\n",
      "(33492, 506)\n"
     ]
    }
   ],
   "source": [
    "y_train = playlist_train_one_hot_w_features[playlist_numbers]\n",
    "y_test = playlist_test_one_hot_w_features[playlist_numbers]\n",
    "\n",
    "X_train = playlist_train_one_hot_w_features[['danceability', 'energy', 'key', 'loudness', 'mode', 'speechiness',\n",
    "            'acousticness', 'instrumentalness', 'liveness', 'valence', 'tempo',\n",
    "            'duration_ms', 'time_signature']]\n",
    "\n",
    "X_test = playlist_test_one_hot_w_features[['danceability', 'energy', 'key', 'loudness', 'mode', 'speechiness',\n",
    "            'acousticness', 'instrumentalness', 'liveness', 'valence', 'tempo',\n",
    "            'duration_ms', 'time_signature']]\n",
    "\n",
    "X_test = X_test.fillna(-1) #if na then fill with -1\n",
    "X_train = X_train.fillna(-1) #if na then fill with -1"
   ]
  },
  {
   "cell_type": "code",
   "execution_count": 114,
   "metadata": {},
   "outputs": [],
   "source": [
    "# convert to np arrays\n",
    "X_train = np.array(X_train)\n",
    "X_test = np.array(X_test)\n",
    "y_train = np.array(y_train)\n",
    "y_test = np.array(y_test)"
   ]
  },
  {
   "cell_type": "code",
   "execution_count": 115,
   "metadata": {},
   "outputs": [
    {
     "data": {
      "text/plain": [
       "(8362, 506)"
      ]
     },
     "execution_count": 115,
     "metadata": {},
     "output_type": "execute_result"
    }
   ],
   "source": [
    "#create mask for smaller X_train data\n",
    "mask = np.random.choice([False, True], len(X_train), p=[0.75, 0.25])\n",
    "X_train_compressed = X_train[mask][:]\n",
    "X_train_compressed.shape\n",
    "y_train_compressed = y_train[mask][:]\n",
    "y_train_compressed.shape"
   ]
  },
  {
   "cell_type": "code",
   "execution_count": 116,
   "metadata": {},
   "outputs": [],
   "source": [
    "# Ultimately, while we did not use normalization on predictors, because this \n",
    "# significantly slowed down the logistic regression to a process that would have \n",
    "# taken 20 hours to run; this was unfeasible.\n",
    "\n",
    "def normalize_predictors(x_df, y_df, scaler):\n",
    "    \"\"\"\n",
    "    Standardizes the predictors to vary between 0 and 1 to account for differences\n",
    "    in scale and variability.\n",
    "    \n",
    "    The scaler passed in should be from the standardized data set only.\n",
    "    \n",
    "    Returns new x dataframe, along with y, whose index has been re-set to match\n",
    "    the x df since it was run through a standardizer. \n",
    "    \"\"\"\n",
    "    cols_to_scale = x_df.columns\n",
    "    scaled_df = scaler.fit_transform(x_df)\n",
    "    \n",
    "    normalized_x = pd.DataFrame(scaled_df, columns=cols_to_scale)\n",
    "    normalized_x.reset_index(drop=True, inplace=True)\n",
    "\n",
    "    # Also reset the Y-train index so that it matches the indices produced by normalization\n",
    "    y_df.reset_index(drop=True, inplace=True)\n",
    "\n",
    "    return (normalized_x, y_df)"
   ]
  },
  {
   "cell_type": "code",
   "execution_count": 149,
   "metadata": {},
   "outputs": [
    {
     "name": "stdout",
     "output_type": "stream",
     "text": [
      "(15919, 13)\n"
     ]
    },
    {
     "data": {
      "text/html": [
       "<div>\n",
       "<style scoped>\n",
       "    .dataframe tbody tr th:only-of-type {\n",
       "        vertical-align: middle;\n",
       "    }\n",
       "\n",
       "    .dataframe tbody tr th {\n",
       "        vertical-align: top;\n",
       "    }\n",
       "\n",
       "    .dataframe thead th {\n",
       "        text-align: right;\n",
       "    }\n",
       "</style>\n",
       "<table border=\"1\" class=\"dataframe\">\n",
       "  <thead>\n",
       "    <tr style=\"text-align: right;\">\n",
       "      <th></th>\n",
       "      <th>danceability</th>\n",
       "      <th>energy</th>\n",
       "      <th>key</th>\n",
       "      <th>loudness</th>\n",
       "      <th>mode</th>\n",
       "      <th>speechiness</th>\n",
       "      <th>acousticness</th>\n",
       "      <th>instrumentalness</th>\n",
       "      <th>liveness</th>\n",
       "      <th>valence</th>\n",
       "      <th>tempo</th>\n",
       "      <th>duration_ms</th>\n",
       "      <th>time_signature</th>\n",
       "    </tr>\n",
       "  </thead>\n",
       "  <tbody>\n",
       "    <tr>\n",
       "      <th>0</th>\n",
       "      <td>0.757085</td>\n",
       "      <td>0.627</td>\n",
       "      <td>0.636364</td>\n",
       "      <td>0.883539</td>\n",
       "      <td>1.0</td>\n",
       "      <td>0.067435</td>\n",
       "      <td>0.131526</td>\n",
       "      <td>0.000000</td>\n",
       "      <td>0.085456</td>\n",
       "      <td>0.5240</td>\n",
       "      <td>0.550039</td>\n",
       "      <td>0.038533</td>\n",
       "      <td>0.8</td>\n",
       "    </tr>\n",
       "    <tr>\n",
       "      <th>1</th>\n",
       "      <td>0.757085</td>\n",
       "      <td>0.627</td>\n",
       "      <td>0.636364</td>\n",
       "      <td>0.883539</td>\n",
       "      <td>1.0</td>\n",
       "      <td>0.067435</td>\n",
       "      <td>0.131526</td>\n",
       "      <td>0.000000</td>\n",
       "      <td>0.085456</td>\n",
       "      <td>0.5240</td>\n",
       "      <td>0.550039</td>\n",
       "      <td>0.038533</td>\n",
       "      <td>0.8</td>\n",
       "    </tr>\n",
       "    <tr>\n",
       "      <th>2</th>\n",
       "      <td>0.649798</td>\n",
       "      <td>0.247</td>\n",
       "      <td>0.272727</td>\n",
       "      <td>0.715167</td>\n",
       "      <td>0.0</td>\n",
       "      <td>0.059372</td>\n",
       "      <td>0.996988</td>\n",
       "      <td>0.934000</td>\n",
       "      <td>0.148445</td>\n",
       "      <td>0.0908</td>\n",
       "      <td>0.345562</td>\n",
       "      <td>0.046433</td>\n",
       "      <td>0.8</td>\n",
       "    </tr>\n",
       "    <tr>\n",
       "      <th>3</th>\n",
       "      <td>0.791498</td>\n",
       "      <td>0.341</td>\n",
       "      <td>0.272727</td>\n",
       "      <td>0.857068</td>\n",
       "      <td>1.0</td>\n",
       "      <td>0.032565</td>\n",
       "      <td>0.278112</td>\n",
       "      <td>0.000111</td>\n",
       "      <td>0.109328</td>\n",
       "      <td>0.7090</td>\n",
       "      <td>0.441276</td>\n",
       "      <td>0.047297</td>\n",
       "      <td>0.8</td>\n",
       "    </tr>\n",
       "    <tr>\n",
       "      <th>4</th>\n",
       "      <td>0.491903</td>\n",
       "      <td>0.738</td>\n",
       "      <td>0.363636</td>\n",
       "      <td>0.897111</td>\n",
       "      <td>1.0</td>\n",
       "      <td>0.033822</td>\n",
       "      <td>0.013755</td>\n",
       "      <td>0.000000</td>\n",
       "      <td>0.089067</td>\n",
       "      <td>0.5850</td>\n",
       "      <td>0.814171</td>\n",
       "      <td>0.047225</td>\n",
       "      <td>0.8</td>\n",
       "    </tr>\n",
       "  </tbody>\n",
       "</table>\n",
       "</div>"
      ],
      "text/plain": [
       "   danceability  energy       key  loudness  mode  speechiness  acousticness  \\\n",
       "0      0.757085   0.627  0.636364  0.883539   1.0     0.067435      0.131526   \n",
       "1      0.757085   0.627  0.636364  0.883539   1.0     0.067435      0.131526   \n",
       "2      0.649798   0.247  0.272727  0.715167   0.0     0.059372      0.996988   \n",
       "3      0.791498   0.341  0.272727  0.857068   1.0     0.032565      0.278112   \n",
       "4      0.491903   0.738  0.363636  0.897111   1.0     0.033822      0.013755   \n",
       "\n",
       "   instrumentalness  liveness  valence     tempo  duration_ms  time_signature  \n",
       "0          0.000000  0.085456   0.5240  0.550039     0.038533             0.8  \n",
       "1          0.000000  0.085456   0.5240  0.550039     0.038533             0.8  \n",
       "2          0.934000  0.148445   0.0908  0.345562     0.046433             0.8  \n",
       "3          0.000111  0.109328   0.7090  0.441276     0.047297             0.8  \n",
       "4          0.000000  0.089067   0.5850  0.814171     0.047225             0.8  "
      ]
     },
     "metadata": {},
     "output_type": "display_data"
    },
    {
     "data": {
      "text/html": [
       "<div>\n",
       "<style scoped>\n",
       "    .dataframe tbody tr th:only-of-type {\n",
       "        vertical-align: middle;\n",
       "    }\n",
       "\n",
       "    .dataframe tbody tr th {\n",
       "        vertical-align: top;\n",
       "    }\n",
       "\n",
       "    .dataframe thead th {\n",
       "        text-align: right;\n",
       "    }\n",
       "</style>\n",
       "<table border=\"1\" class=\"dataframe\">\n",
       "  <thead>\n",
       "    <tr style=\"text-align: right;\">\n",
       "      <th></th>\n",
       "      <th>danceability</th>\n",
       "      <th>energy</th>\n",
       "      <th>key</th>\n",
       "      <th>loudness</th>\n",
       "      <th>mode</th>\n",
       "      <th>speechiness</th>\n",
       "      <th>acousticness</th>\n",
       "      <th>instrumentalness</th>\n",
       "      <th>liveness</th>\n",
       "      <th>valence</th>\n",
       "      <th>tempo</th>\n",
       "      <th>duration_ms</th>\n",
       "      <th>time_signature</th>\n",
       "    </tr>\n",
       "  </thead>\n",
       "  <tbody>\n",
       "    <tr>\n",
       "      <th>0</th>\n",
       "      <td>0.764826</td>\n",
       "      <td>0.627693</td>\n",
       "      <td>0.636364</td>\n",
       "      <td>0.842884</td>\n",
       "      <td>1.0</td>\n",
       "      <td>0.074108</td>\n",
       "      <td>0.131526</td>\n",
       "      <td>0.000000</td>\n",
       "      <td>0.086410</td>\n",
       "      <td>0.528226</td>\n",
       "      <td>0.550239</td>\n",
       "      <td>0.038648</td>\n",
       "      <td>0.8</td>\n",
       "    </tr>\n",
       "    <tr>\n",
       "      <th>1</th>\n",
       "      <td>0.764826</td>\n",
       "      <td>0.627693</td>\n",
       "      <td>0.636364</td>\n",
       "      <td>0.842884</td>\n",
       "      <td>1.0</td>\n",
       "      <td>0.074108</td>\n",
       "      <td>0.131526</td>\n",
       "      <td>0.000000</td>\n",
       "      <td>0.086410</td>\n",
       "      <td>0.528226</td>\n",
       "      <td>0.550239</td>\n",
       "      <td>0.038648</td>\n",
       "      <td>0.8</td>\n",
       "    </tr>\n",
       "    <tr>\n",
       "      <th>2</th>\n",
       "      <td>0.586912</td>\n",
       "      <td>0.822377</td>\n",
       "      <td>0.181818</td>\n",
       "      <td>0.874147</td>\n",
       "      <td>0.0</td>\n",
       "      <td>0.030840</td>\n",
       "      <td>0.000448</td>\n",
       "      <td>0.000002</td>\n",
       "      <td>0.193712</td>\n",
       "      <td>0.301411</td>\n",
       "      <td>0.491273</td>\n",
       "      <td>0.042626</td>\n",
       "      <td>0.8</td>\n",
       "    </tr>\n",
       "    <tr>\n",
       "      <th>3</th>\n",
       "      <td>0.586912</td>\n",
       "      <td>0.822377</td>\n",
       "      <td>0.181818</td>\n",
       "      <td>0.874147</td>\n",
       "      <td>0.0</td>\n",
       "      <td>0.030840</td>\n",
       "      <td>0.000448</td>\n",
       "      <td>0.000002</td>\n",
       "      <td>0.193712</td>\n",
       "      <td>0.301411</td>\n",
       "      <td>0.491273</td>\n",
       "      <td>0.042626</td>\n",
       "      <td>0.8</td>\n",
       "    </tr>\n",
       "    <tr>\n",
       "      <th>4</th>\n",
       "      <td>0.843558</td>\n",
       "      <td>0.833415</td>\n",
       "      <td>0.454545</td>\n",
       "      <td>0.847159</td>\n",
       "      <td>0.0</td>\n",
       "      <td>0.046375</td>\n",
       "      <td>0.005894</td>\n",
       "      <td>0.000796</td>\n",
       "      <td>0.115619</td>\n",
       "      <td>0.718750</td>\n",
       "      <td>0.555052</td>\n",
       "      <td>0.045432</td>\n",
       "      <td>0.8</td>\n",
       "    </tr>\n",
       "  </tbody>\n",
       "</table>\n",
       "</div>"
      ],
      "text/plain": [
       "   danceability    energy       key  loudness  mode  speechiness  \\\n",
       "0      0.764826  0.627693  0.636364  0.842884   1.0     0.074108   \n",
       "1      0.764826  0.627693  0.636364  0.842884   1.0     0.074108   \n",
       "2      0.586912  0.822377  0.181818  0.874147   0.0     0.030840   \n",
       "3      0.586912  0.822377  0.181818  0.874147   0.0     0.030840   \n",
       "4      0.843558  0.833415  0.454545  0.847159   0.0     0.046375   \n",
       "\n",
       "   acousticness  instrumentalness  liveness   valence     tempo  duration_ms  \\\n",
       "0      0.131526          0.000000  0.086410  0.528226  0.550239     0.038648   \n",
       "1      0.131526          0.000000  0.086410  0.528226  0.550239     0.038648   \n",
       "2      0.000448          0.000002  0.193712  0.301411  0.491273     0.042626   \n",
       "3      0.000448          0.000002  0.193712  0.301411  0.491273     0.042626   \n",
       "4      0.005894          0.000796  0.115619  0.718750  0.555052     0.045432   \n",
       "\n",
       "   time_signature  \n",
       "0             0.8  \n",
       "1             0.8  \n",
       "2             0.8  \n",
       "3             0.8  \n",
       "4             0.8  "
      ]
     },
     "metadata": {},
     "output_type": "display_data"
    }
   ],
   "source": [
    "playlist_indices = range(0, len(playlist_numbers))\n",
    "X_COLUMNS = ['danceability', 'energy', 'key', 'loudness', 'mode', 'speechiness',\n",
    "            'acousticness', 'instrumentalness', 'liveness', 'valence', 'tempo',\n",
    "            'duration_ms', 'time_signature']\n",
    "\n",
    "# Normalize the data and get it into dataframe formatting so I can see what I'm working with\n",
    "X_train_df = pd.DataFrame(X_train, columns=X_COLUMNS)\n",
    "X_test_df = pd.DataFrame(X_test, columns=X_COLUMNS)\n",
    "\n",
    "y_train_df = pd.DataFrame(y_train, columns=playlist_indices)\n",
    "y_test_df = pd.DataFrame(y_test, columns=playlist_indices)\n",
    "print(X_test_df.shape)\n",
    "\n",
    "scaler = MinMaxScaler().fit(X_train_df)\n",
    "X_train_df, y_train_df = normalize_predictors(X_train_df, y_train_df, scaler)\n",
    "\n",
    "display(X_train_df.head())\n",
    "\n",
    "# Now, we must also normalize our test values, using the scalar from the X_train\n",
    "X_test_df, y_test_df = normalize_predictors(X_test_df, y_test_df, scaler)\n",
    "display(X_test_df.head())"
   ]
  },
  {
   "cell_type": "code",
   "execution_count": 216,
   "metadata": {},
   "outputs": [
    {
     "data": {
      "application/vnd.jupyter.widget-view+json": {
       "model_id": "e05171396e944328a6321af913cb4f38",
       "version_major": 2,
       "version_minor": 0
      },
      "text/plain": [
       "HBox(children=(IntProgress(value=0, max=506), HTML(value='')))"
      ]
     },
     "metadata": {},
     "output_type": "display_data"
    },
    {
     "name": "stdout",
     "output_type": "stream",
     "text": [
      "\n"
     ]
    }
   ],
   "source": [
    "# We'll store the regression model for each playlist, along with its accuracy score as tuple\n",
    "\n",
    "def run_logistic_regression(X_train, y_train, X_test, y_test, playlists):\n",
    "    \n",
    "    playlist_regression_models = []\n",
    "    with tqdm_notebook(total=len(playlists)) as pbar:\n",
    "        for playlist_index in playlists:\n",
    "            # Downsampling; because the number of 0s vastly outpowers the number of 1s \n",
    "            # (since the dataset) is 3,000 large, we must sum the total number of 1s\n",
    "            # and grab a random subsample of songs that are classified as 0\n",
    "            training_set = pd.concat([X_train, y_train], axis=1)\n",
    "\n",
    "            # First, grab all items that are in a given playlist and add that to the\n",
    "            # final downsampled set\n",
    "            in_playlist = training_set[training_set[playlist_index] == 1]\n",
    "            not_in_playlist = training_set[training_set[playlist_index] == 0].sample(len(in_playlist))\n",
    "            \n",
    "            downsampled = pd.concat([in_playlist, not_in_playlist])\n",
    "            \n",
    "            X_train_ds = downsampled[X_COLUMNS]\n",
    "            y_train_ds = downsampled[playlists]\n",
    "            \n",
    "            # Includes regularization by default\n",
    "            logistic_reg = LogisticRegression()\n",
    "            logistic_reg.fit(X_train_ds, y_train_ds[playlist_index])\n",
    "            \n",
    "            # Now, predict\n",
    "            y_train_pred = logistic_reg.predict(X_train_ds)\n",
    "            y_test_pred = logistic_reg.predict(X_test)\n",
    "            \n",
    "            # And check for accuracy scores\n",
    "            train_accuracy = accuracy_score(y_train_ds[playlist_index], y_train_pred)\n",
    "            train_f1 = f1_score(y_train_ds[playlist_index], y_train_pred)\n",
    "            \n",
    "            test_accuracy = accuracy_score(y_test[playlist_index], y_test_pred)\n",
    "            test_f1 = f1_score(y_test[playlist_index], y_test_pred)\n",
    "\n",
    "            model_info = {\n",
    "                \"model\": regression_l1, \n",
    "                \"train_accuracy\": train_accuracy, \n",
    "                \"test_accuracy\": test_accuracy, \n",
    "                \"train_f1\": train_f1,\n",
    "                \"test_f1\": test_f1,\n",
    "            }\n",
    "            playlist_regression_models.append(model_info)\n",
    "            pbar.update(1)\n",
    "\n",
    "    return playlist_regression_models\n",
    "\n",
    "lr_models = run_logistic_regression(X_train_df, y_train_df, X_test_df, y_test_df, playlist_indices)"
   ]
  },
  {
   "cell_type": "code",
   "execution_count": 316,
   "metadata": {},
   "outputs": [
    {
     "data": {
      "image/png": "[encoded data removed]",
      "text/plain": [
       "<Figure size 1152x288 with 2 Axes>"
      ]
     },
     "metadata": {
      "needs_background": "light"
     },
     "output_type": "display_data"
    }
   ],
   "source": [
    "fig, ax = plt.subplots(1,2, figsize=(16,4))\n",
    "\n",
    "model_index = range(0, len(lr_models))\n",
    "train_accuracies = [m[\"train_accuracy\"] for m in lr_models]\n",
    "test_accuracies = [m[\"test_accuracy\"] for m in lr_models]\n",
    "train_f1s = [m[\"train_f1\"] for m in lr_models]\n",
    "test_f1s = [m[\"test_f1\"] for m in lr_models]\n",
    "\n",
    "ax[0].plot(model_index, train_accuracies, label=\"Train\")\n",
    "ax[0].plot(model_index, test_accuracies, label=\"Test\")\n",
    "ax[0].set_title(\"Accuracies for Playlist Models\")\n",
    "ax[0].set_xlabel(\"Playlist Model\")\n",
    "ax[0].set_ylabel(\"Accuracy Score\")\n",
    "ax[0].legend()\n",
    "\n",
    "ax[1].plot(model_index, train_f1s, label=\"Train\")\n",
    "ax[1].plot(model_index, test_f1s, label=\"Test\")\n",
    "ax[1].set_title(\"F1 Scores for Playlist Models\")\n",
    "ax[1].set_xlabel(\"Playlist Model\")\n",
    "ax[1].set_ylabel(\"F1 Score\")\n",
    "ax[1].legend()\n",
    "plt.savefig(\"accuracies_playlist_models.svg\", dpi=1200)\n",
    "\n",
    "# This demonstrates the clear inability for logistic regression to classify songs as to whether or not they belong\n",
    "# within a playlist"
   ]
  },
  {
   "cell_type": "code",
   "execution_count": 309,
   "metadata": {},
   "outputs": [
    {
     "data": {
      "image/png": "[encoded data removed]",
      "text/plain": [
       "<Figure size 432x288 with 1 Axes>"
      ]
     },
     "metadata": {
      "needs_background": "light"
     },
     "output_type": "display_data"
    },
    {
     "data": {
      "image/png": "[encoded data removed]",
      "text/plain": [
       "<Figure size 432x288 with 1 Axes>"
      ]
     },
     "metadata": {
      "needs_background": "light"
     },
     "output_type": "display_data"
    },
    {
     "data": {
      "image/png": "[encoded data removed]",
      "text/plain": [
       "<Figure size 432x288 with 1 Axes>"
      ]
     },
     "metadata": {
      "needs_background": "light"
     },
     "output_type": "display_data"
    },
    {
     "data": {
      "image/png": "[encoded data removed]",
      "text/plain": [
       "<Figure size 432x288 with 1 Axes>"
      ]
     },
     "metadata": {
      "needs_background": "light"
     },
     "output_type": "display_data"
    }
   ],
   "source": [
    "sns.violinplot(y=[train_accuracies], color=\"Blue\")\n",
    "plt.title(\"Train Accuracy Scores\")\n",
    "plt.savefig(\"train_accuracy_regression_violin.svg\", dpi=1200)\n",
    "plt.show()\n",
    "\n",
    "sns.violinplot(y=[test_accuracies], color=\"orange\")\n",
    "plt.title(\"Test Accuracy Scores\")\n",
    "plt.savefig(\"test_accuracy_regression_violin.svg\", dpi=1200)\n",
    "plt.show()\n",
    "\n",
    "sns.violinplot(y=[train_f1s], color=\"blue\")\n",
    "plt.title(\"Train F1 Scores\")\n",
    "plt.savefig(\"train_f1_regression_violin.svg\", dpi=1200)\n",
    "plt.show()\n",
    "\n",
    "sns.violinplot(y=[test_f1s], color=\"orange\")\n",
    "plt.savefig(\"test_f1_regression_violin.svg\", dpi=1200)\n",
    "plt.title(\"Test F1 Scores\")\n",
    "plt.show()\n"
   ]
  },
  {
   "cell_type": "code",
   "execution_count": 281,
   "metadata": {},
   "outputs": [
    {
     "data": {
      "application/vnd.jupyter.widget-view+json": {
       "model_id": "195f27297e014079822b6a4f6a40e96d",
       "version_major": 2,
       "version_minor": 0
      },
      "text/plain": [
       "HBox(children=(IntProgress(value=0, max=506), HTML(value='')))"
      ]
     },
     "metadata": {},
     "output_type": "display_data"
    },
    {
     "name": "stdout",
     "output_type": "stream",
     "text": [
      "\n"
     ]
    }
   ],
   "source": [
    "import math\n",
    "\n",
    "def predictor_t_values(X_train, y_train, playlists):\n",
    "    \"\"\"\n",
    "    Returns top 10 t-values, indicating which items\n",
    "    provide the most signal as a predictor between the\n",
    "    two types.\n",
    "    \n",
    "    Takes in the statistics of two types as a parameter.\n",
    "    \"\"\"\n",
    "    predictors = pd.DataFrame(columns = X_COLUMNS)    \n",
    "    with tqdm_notebook(total=len(playlists)) as pbar:\n",
    "        for playlist_index in playlists:\n",
    "            training_set = pd.concat([X_train, y_train], axis=1)\n",
    "\n",
    "            # First, grab all items that are in a given playlist and add that to the\n",
    "            # final downsampled set\n",
    "            in_playlist = training_set[training_set[playlist_index] == 1]\n",
    "            not_in_playlist = training_set[training_set[playlist_index] == 0].sample(len(in_playlist))\n",
    "\n",
    "            downsampled = pd.concat([in_playlist, not_in_playlist])\n",
    "\n",
    "            type_1 = downsampled[downsampled[playlist] == 1]\n",
    "            type_2 = downsampled[downsampled[playlist] == 0]\n",
    "\n",
    "            signal = np.abs(type_1.mean() - type_2.mean())\n",
    "            type_1_noise = (type_1.var()) / type_1.count()\n",
    "            type_2_noise = (type_2.var()) / type_2.count()\n",
    "            noise = np.sqrt(type_1_noise + type_2_noise)\n",
    "            t_values = signal / noise\n",
    "            results = t_values.sort_values(ascending=False).drop(playlists).to_dict()\n",
    "            predictors = predictors.append(results, ignore_index=True)\n",
    "            pbar.update(1)\n",
    "    return predictors\n",
    "\n",
    "predictor_t_values = get_top_10_tvalues(X_train_df, y_train_df, playlist_indices)\n"
   ]
  },
  {
   "cell_type": "markdown",
   "metadata": {},
   "source": [
    "The advantage of structural models is we can figure out which features contribute the most to the predictiveness of the models. We can do this using t-tests for each model and plot trends."
   ]
  },
  {
   "cell_type": "code",
   "execution_count": 326,
   "metadata": {},
   "outputs": [
    {
     "data": {
      "text/html": [
       "<div>\n",
       "<style scoped>\n",
       "    .dataframe tbody tr th:only-of-type {\n",
       "        vertical-align: middle;\n",
       "    }\n",
       "\n",
       "    .dataframe tbody tr th {\n",
       "        vertical-align: top;\n",
       "    }\n",
       "\n",
       "    .dataframe thead th {\n",
       "        text-align: right;\n",
       "    }\n",
       "</style>\n",
       "<table border=\"1\" class=\"dataframe\">\n",
       "  <thead>\n",
       "    <tr style=\"text-align: right;\">\n",
       "      <th></th>\n",
       "      <th>danceability</th>\n",
       "      <th>energy</th>\n",
       "      <th>key</th>\n",
       "      <th>loudness</th>\n",
       "      <th>mode</th>\n",
       "      <th>speechiness</th>\n",
       "      <th>acousticness</th>\n",
       "      <th>instrumentalness</th>\n",
       "      <th>liveness</th>\n",
       "      <th>valence</th>\n",
       "      <th>tempo</th>\n",
       "      <th>duration_ms</th>\n",
       "      <th>time_signature</th>\n",
       "    </tr>\n",
       "  </thead>\n",
       "  <tbody>\n",
       "    <tr>\n",
       "      <th>0</th>\n",
       "      <td>2.607249</td>\n",
       "      <td>2.581562</td>\n",
       "      <td>11.093327</td>\n",
       "      <td>0.541466</td>\n",
       "      <td>1.860042</td>\n",
       "      <td>1.492106</td>\n",
       "      <td>4.375996</td>\n",
       "      <td>6.025247</td>\n",
       "      <td>3.115747</td>\n",
       "      <td>1.587198</td>\n",
       "      <td>0.855237</td>\n",
       "      <td>0.303384</td>\n",
       "      <td>1.568965</td>\n",
       "    </tr>\n",
       "    <tr>\n",
       "      <th>1</th>\n",
       "      <td>2.580996</td>\n",
       "      <td>2.324564</td>\n",
       "      <td>0.865553</td>\n",
       "      <td>1.262997</td>\n",
       "      <td>2.586961</td>\n",
       "      <td>1.581846</td>\n",
       "      <td>2.314632</td>\n",
       "      <td>3.754927</td>\n",
       "      <td>4.646455</td>\n",
       "      <td>0.818707</td>\n",
       "      <td>7.012750</td>\n",
       "      <td>0.536048</td>\n",
       "      <td>1.381286</td>\n",
       "    </tr>\n",
       "    <tr>\n",
       "      <th>2</th>\n",
       "      <td>1.324791</td>\n",
       "      <td>2.978071</td>\n",
       "      <td>2.164183</td>\n",
       "      <td>0.965195</td>\n",
       "      <td>0.717694</td>\n",
       "      <td>2.169052</td>\n",
       "      <td>1.897335</td>\n",
       "      <td>1.310227</td>\n",
       "      <td>0.304684</td>\n",
       "      <td>0.374343</td>\n",
       "      <td>3.244123</td>\n",
       "      <td>1.630775</td>\n",
       "      <td>0.363333</td>\n",
       "    </tr>\n",
       "    <tr>\n",
       "      <th>3</th>\n",
       "      <td>4.693447</td>\n",
       "      <td>3.267463</td>\n",
       "      <td>0.303121</td>\n",
       "      <td>4.455151</td>\n",
       "      <td>1.225324</td>\n",
       "      <td>4.208305</td>\n",
       "      <td>4.712808</td>\n",
       "      <td>6.490080</td>\n",
       "      <td>0.331220</td>\n",
       "      <td>5.129734</td>\n",
       "      <td>1.289560</td>\n",
       "      <td>7.252466</td>\n",
       "      <td>4.587534</td>\n",
       "    </tr>\n",
       "    <tr>\n",
       "      <th>4</th>\n",
       "      <td>0.537312</td>\n",
       "      <td>1.613837</td>\n",
       "      <td>0.333123</td>\n",
       "      <td>0.867496</td>\n",
       "      <td>23.089886</td>\n",
       "      <td>0.179221</td>\n",
       "      <td>0.033567</td>\n",
       "      <td>5.181181</td>\n",
       "      <td>2.507461</td>\n",
       "      <td>1.099578</td>\n",
       "      <td>1.570118</td>\n",
       "      <td>0.122911</td>\n",
       "      <td>3.385955</td>\n",
       "    </tr>\n",
       "  </tbody>\n",
       "</table>\n",
       "</div>"
      ],
      "text/plain": [
       "   danceability    energy        key  loudness       mode  speechiness  \\\n",
       "0      2.607249  2.581562  11.093327  0.541466   1.860042     1.492106   \n",
       "1      2.580996  2.324564   0.865553  1.262997   2.586961     1.581846   \n",
       "2      1.324791  2.978071   2.164183  0.965195   0.717694     2.169052   \n",
       "3      4.693447  3.267463   0.303121  4.455151   1.225324     4.208305   \n",
       "4      0.537312  1.613837   0.333123  0.867496  23.089886     0.179221   \n",
       "\n",
       "   acousticness  instrumentalness  liveness   valence     tempo  duration_ms  \\\n",
       "0      4.375996          6.025247  3.115747  1.587198  0.855237     0.303384   \n",
       "1      2.314632          3.754927  4.646455  0.818707  7.012750     0.536048   \n",
       "2      1.897335          1.310227  0.304684  0.374343  3.244123     1.630775   \n",
       "3      4.712808          6.490080  0.331220  5.129734  1.289560     7.252466   \n",
       "4      0.033567          5.181181  2.507461  1.099578  1.570118     0.122911   \n",
       "\n",
       "   time_signature  \n",
       "0        1.568965  \n",
       "1        1.381286  \n",
       "2        0.363333  \n",
       "3        4.587534  \n",
       "4        3.385955  "
      ]
     },
     "metadata": {},
     "output_type": "display_data"
    }
   ],
   "source": [
    "cached_t_values = predictor_t_values.copy()\n",
    "display(cached_t_values.head())"
   ]
  },
  {
   "cell_type": "code",
   "execution_count": 327,
   "metadata": {},
   "outputs": [],
   "source": [
    "without_nan = predictor_t_values.dropna()"
   ]
  },
  {
   "cell_type": "code",
   "execution_count": 329,
   "metadata": {},
   "outputs": [
    {
     "data": {
      "text/html": [
       "<div>\n",
       "<style scoped>\n",
       "    .dataframe tbody tr th:only-of-type {\n",
       "        vertical-align: middle;\n",
       "    }\n",
       "\n",
       "    .dataframe tbody tr th {\n",
       "        vertical-align: top;\n",
       "    }\n",
       "\n",
       "    .dataframe thead th {\n",
       "        text-align: right;\n",
       "    }\n",
       "</style>\n",
       "<table border=\"1\" class=\"dataframe\">\n",
       "  <thead>\n",
       "    <tr style=\"text-align: right;\">\n",
       "      <th></th>\n",
       "      <th>mean_t_value</th>\n",
       "    </tr>\n",
       "  </thead>\n",
       "  <tbody>\n",
       "    <tr>\n",
       "      <th>mode</th>\n",
       "      <td>4.830486</td>\n",
       "    </tr>\n",
       "    <tr>\n",
       "      <th>speechiness</th>\n",
       "      <td>4.624056</td>\n",
       "    </tr>\n",
       "    <tr>\n",
       "      <th>instrumentalness</th>\n",
       "      <td>4.049592</td>\n",
       "    </tr>\n",
       "    <tr>\n",
       "      <th>tempo</th>\n",
       "      <td>4.003240</td>\n",
       "    </tr>\n",
       "    <tr>\n",
       "      <th>liveness</th>\n",
       "      <td>3.322635</td>\n",
       "    </tr>\n",
       "    <tr>\n",
       "      <th>acousticness</th>\n",
       "      <td>3.285192</td>\n",
       "    </tr>\n",
       "    <tr>\n",
       "      <th>key</th>\n",
       "      <td>2.908370</td>\n",
       "    </tr>\n",
       "    <tr>\n",
       "      <th>energy</th>\n",
       "      <td>2.907320</td>\n",
       "    </tr>\n",
       "    <tr>\n",
       "      <th>loudness</th>\n",
       "      <td>2.705092</td>\n",
       "    </tr>\n",
       "    <tr>\n",
       "      <th>valence</th>\n",
       "      <td>2.510551</td>\n",
       "    </tr>\n",
       "    <tr>\n",
       "      <th>time_signature</th>\n",
       "      <td>2.490433</td>\n",
       "    </tr>\n",
       "    <tr>\n",
       "      <th>danceability</th>\n",
       "      <td>2.458528</td>\n",
       "    </tr>\n",
       "    <tr>\n",
       "      <th>duration_ms</th>\n",
       "      <td>2.152537</td>\n",
       "    </tr>\n",
       "  </tbody>\n",
       "</table>\n",
       "</div>"
      ],
      "text/plain": [
       "                  mean_t_value\n",
       "mode                  4.830486\n",
       "speechiness           4.624056\n",
       "instrumentalness      4.049592\n",
       "tempo                 4.003240\n",
       "liveness              3.322635\n",
       "acousticness          3.285192\n",
       "key                   2.908370\n",
       "energy                2.907320\n",
       "loudness              2.705092\n",
       "valence               2.510551\n",
       "time_signature        2.490433\n",
       "danceability          2.458528\n",
       "duration_ms           2.152537"
      ]
     },
     "metadata": {},
     "output_type": "display_data"
    }
   ],
   "source": [
    "top_predictors_average = pd.DataFrame(without_nan.mean(), columns=[\"mean_t_value\"]).sort_values(by=\"mean_t_value\", ascending=False)\n",
    "display(top_predictors_average)"
   ]
  },
  {
   "cell_type": "code",
   "execution_count": 330,
   "metadata": {},
   "outputs": [
    {
     "data": {
      "image/png": "[encoded data removed]",
      "text/plain": [
       "<Figure size 432x288 with 1 Axes>"
      ]
     },
     "metadata": {
      "needs_background": "light"
     },
     "output_type": "display_data"
    },
    {
     "data": {
      "image/png": "[encoded data removed]",
      "text/plain": [
       "<Figure size 432x288 with 1 Axes>"
      ]
     },
     "metadata": {
      "needs_background": "light"
     },
     "output_type": "display_data"
    },
    {
     "data": {
      "image/png": "[encoded data removed]",
      "text/plain": [
       "<Figure size 432x288 with 1 Axes>"
      ]
     },
     "metadata": {
      "needs_background": "light"
     },
     "output_type": "display_data"
    },
    {
     "data": {
      "image/png": "[encoded data removed]",
      "text/plain": [
       "<Figure size 432x288 with 1 Axes>"
      ]
     },
     "metadata": {
      "needs_background": "light"
     },
     "output_type": "display_data"
    }
   ],
   "source": [
    "sns.violinplot(y=[predictor_t_values[\"mode\"]], color=\"Blue\")\n",
    "plt.title(\"Mode T-Scores Across Playlists\")\n",
    "plt.savefig(\"mode_t_score.svg\", dpi=1200)\n",
    "plt.show()\n",
    "\n",
    "sns.violinplot(y=[predictor_t_values[\"speechiness\"]], color=\"Orange\")\n",
    "plt.title(\"Speechiness T-Scores Across Playlists\")\n",
    "plt.savefig(\"speechiness_t_score.svg\", dpi=1200)\n",
    "plt.show()\n",
    "\n",
    "sns.violinplot(y=[predictor_t_values[\"instrumentalness\"]], color=\"Red\")\n",
    "plt.title(\"Instrumentalness T-Scores Across Playlists\")\n",
    "plt.savefig(\"Instrumentalness_t_score.svg\", dpi=1200)\n",
    "plt.show()\n",
    "\n",
    "sns.violinplot(y=[predictor_t_values[\"tempo\"]], color=\"Purple\")\n",
    "plt.title(\"Tempo T-Scores Across Playlists\")\n",
    "plt.savefig(\"Tempo_t_score.svg\", dpi=1200)\n",
    "plt.show()"
   ]
  },
  {
   "cell_type": "code",
   "execution_count": null,
   "metadata": {},
   "outputs": [],
   "source": []
  }
 ],
 "metadata": {
  "kernelspec": {
   "display_name": "Python 3",
   "language": "python",
   "name": "python3"
  },
  "language_info": {
   "codemirror_mode": {
    "name": "ipython",
    "version": 3
   },
   "file_extension": ".py",
   "mimetype": "text/x-python",
   "name": "python",
   "nbconvert_exporter": "python",
   "pygments_lexer": "ipython3",
   "version": "3.7.3"
  }
 },
 "nbformat": 4,
 "nbformat_minor": 4
}
